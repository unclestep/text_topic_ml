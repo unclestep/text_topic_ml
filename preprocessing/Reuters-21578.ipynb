{
 "cells": [
  {
   "cell_type": "markdown",
   "id": "340a1f23-3471-4ebc-9d48-68b45457c362",
   "metadata": {},
   "source": [
    "# **Reuters-21578**"
   ]
  },
  {
   "cell_type": "markdown",
   "id": "e2247fca-a5f8-4752-acf1-146b524a7c7d",
   "metadata": {},
   "source": [
    "Данный код базируется на коде автора: https://github.com/marco-siino/text_preprocessing_impact/blob/main/20N_DS/LR_20N_TextPreProImpact_NB.ipynb. Научная статья разработчика указана в списке использованной литературы и специально дублируется здесь: https://www.sciencedirect.com/science/article/pii/S0306437923001783?ref=cra_js_challenge&fr=RR-1 \n",
    "\n",
    "В курсовой работе уже используются предложенные комбинации методов предобработки для Логистической регрессии, Наивного Байесовского классификатора и Метода опорных векторов. Для отсутствующих моделей: XGBoost, AdaBoost, RandomForest, DecisionTree - эксперимент воспроизводится с изменениями в процессе загрузки датасетов и некоторыми вытекающими правками в коде. Использование оригинального кода позволяет получить недостающие данные и сохранить полноту курсовой работы. "
   ]
  },
  {
   "cell_type": "markdown",
   "id": "ca026184-019b-4e83-bf68-8d095414c821",
   "metadata": {},
   "source": [
    "# Импорт модулей"
   ]
  },
  {
   "cell_type": "code",
   "execution_count": 1,
   "id": "4f7f7965-e80c-44e8-94bf-0f753bc7db2c",
   "metadata": {},
   "outputs": [
    {
     "name": "stderr",
     "output_type": "stream",
     "text": [
      "[nltk_data] Downloading package stopwords to\n",
      "[nltk_data]     /Users/stepan/nltk_data...\n",
      "[nltk_data]   Package stopwords is already up-to-date!\n",
      "[nltk_data] Downloading package punkt to /Users/stepan/nltk_data...\n",
      "[nltk_data]   Package punkt is already up-to-date!\n",
      "[nltk_data] Downloading package brown to /Users/stepan/nltk_data...\n",
      "[nltk_data]   Package brown is already up-to-date!\n",
      "[nltk_data] Downloading package punkt_tab to\n",
      "[nltk_data]     /Users/stepan/nltk_data...\n",
      "[nltk_data]   Package punkt_tab is already up-to-date!\n",
      "[nltk_data] Downloading package wordnet to /Users/stepan/nltk_data...\n",
      "[nltk_data]   Package wordnet is already up-to-date!\n",
      "[nltk_data] Downloading package averaged_perceptron_tagger_eng to\n",
      "[nltk_data]     /Users/stepan/nltk_data...\n",
      "[nltk_data]   Package averaged_perceptron_tagger_eng is already up-to-\n",
      "[nltk_data]       date!\n",
      "[nltk_data] Downloading package conll2000 to\n",
      "[nltk_data]     /Users/stepan/nltk_data...\n",
      "[nltk_data]   Package conll2000 is already up-to-date!\n",
      "[nltk_data] Downloading package movie_reviews to\n",
      "[nltk_data]     /Users/stepan/nltk_data...\n",
      "[nltk_data]   Package movie_reviews is already up-to-date!\n"
     ]
    }
   ],
   "source": [
    "import matplotlib.pyplot as plt\n",
    "import ast\n",
    "import os\n",
    "import random\n",
    "import re\n",
    "import shutil\n",
    "import string\n",
    "import tensorflow as tf\n",
    "from tensorflow.keras.layers import TextVectorization\n",
    "import nltk\n",
    "import pandas as pd\n",
    "\n",
    "from numpy.random import seed\n",
    "import numpy as np\n",
    "from pathlib import Path\n",
    "from sklearn.naive_bayes import MultinomialNB\n",
    "from nltk.corpus import stopwords\n",
    "from nltk.tokenize import word_tokenize\n",
    "from nltk.stem import PorterStemmer\n",
    "from textblob import TextBlob\n",
    "\n",
    "from datasets import load_dataset\n",
    "from sklearn.ensemble import AdaBoostClassifier, RandomForestClassifier\n",
    "from sklearn.tree import DecisionTreeClassifier\n",
    "from sklearn.preprocessing import LabelEncoder\n",
    "from sklearn.model_selection import train_test_split\n",
    "from xgboost import XGBClassifier\n",
    "\n",
    "from collections import defaultdict\n",
    "\n",
    "nltk.download('stopwords')\n",
    "nltk.download('punkt')\n",
    "\n",
    "os.environ['TF_CUDNN_DETERMINISTIC']='true'\n",
    "os.environ['TF_DETERMINISTIC_OPS']='true'\n",
    "\n",
    "import textblob.download_corpora as dl\n",
    "dl.download_all()"
   ]
  },
  {
   "cell_type": "markdown",
   "id": "a309e2f2-e229-4c93-a9cd-8cf52d68624e",
   "metadata": {},
   "source": [
    "# Загружаем датасет"
   ]
  },
  {
   "cell_type": "code",
   "execution_count": 2,
   "id": "8a371f96-4904-40c9-821b-57329873a432",
   "metadata": {},
   "outputs": [],
   "source": [
    "test_dir = '../data/raw/reuters21578_ModLewis/test.csv'\n",
    "train_dir = '../data/raw/reuters21578_ModLewis/train.csv'"
   ]
  },
  {
   "cell_type": "code",
   "execution_count": 3,
   "id": "f012ae72-6ee1-47d4-9929-dfb77b7a10a2",
   "metadata": {},
   "outputs": [],
   "source": [
    "test_df = pd.read_csv(test_dir)\n",
    "train_df = pd.read_csv(train_dir)"
   ]
  },
  {
   "cell_type": "code",
   "execution_count": 4,
   "id": "193dfd48-81d8-4b4e-a7a8-9049e9cb1d70",
   "metadata": {},
   "outputs": [],
   "source": [
    "train_df[\"topics\"] = train_df[\"topics\"].map(ast.literal_eval)\n",
    "test_df[\"topics\"] = test_df[\"topics\"].map(ast.literal_eval)\n",
    "train_df = train_df[train_df[\"topics\"].map(lambda x: len(x) > 0)]\n",
    "test_df = test_df[test_df[\"topics\"].map(lambda x: len(x) > 0)]"
   ]
  },
  {
   "cell_type": "markdown",
   "id": "ba0e2863-5931-4d5d-ac7a-0e4783cc15f7",
   "metadata": {},
   "source": [
    "# Создаем обучающую выборку"
   ]
  },
  {
   "cell_type": "code",
   "execution_count": 22,
   "id": "50bb5251-df7b-4687-8934-48ae781a82d7",
   "metadata": {},
   "outputs": [
    {
     "name": "stdout",
     "output_type": "stream",
     "text": [
      "Число примеров на класс:\n",
      "topics\n",
      "acq         200\n",
      "crude       200\n",
      "earn        200\n",
      "grain       200\n",
      "interest    200\n",
      "money-fx    200\n",
      "trade       200\n",
      "Name: count, dtype: int64\n"
     ]
    }
   ],
   "source": [
    "samples_per_class_train = 200\n",
    "\n",
    "topic_counts_train = train_df[\"topics\"].map(lambda x: x[0]).value_counts()\n",
    "valid_topics_train = topic_counts_train[topic_counts_train >= samples_per_class_train].index\n",
    "\n",
    "train_df_filtered = train_df[train_df[\"topics\"].map(lambda x: x[0]).isin(valid_topics_train)]\n",
    "balanced_train_df = (\n",
    "    train_df_filtered.groupby(train_df_filtered[\"topics\"].map(lambda x: x[0]))\n",
    "    .apply(lambda x: x.sample(n=samples_per_class_train, random_state=0))\n",
    "    .reset_index(drop=True)\n",
    ")\n",
    "\n",
    "print(\"Число примеров на класс:\")\n",
    "print(balanced_train_df[\"topics\"].map(lambda x: x[0]).value_counts())"
   ]
  },
  {
   "cell_type": "code",
   "execution_count": 23,
   "id": "676323f3-3573-41a6-b5d0-ba8c7656f1c3",
   "metadata": {},
   "outputs": [
    {
     "name": "stdout",
     "output_type": "stream",
     "text": [
      "Число примеров на класс:\n",
      "topics\n",
      "acq         50\n",
      "crude       50\n",
      "earn        50\n",
      "grain       50\n",
      "interest    50\n",
      "money-fx    50\n",
      "trade       50\n",
      "Name: count, dtype: int64\n"
     ]
    }
   ],
   "source": [
    "samples_per_class_test = 50\n",
    "\n",
    "filtered_test_df = test_df[test_df[\"topics\"].map(lambda x: x[0]).isin(valid_topics_train)]\n",
    "topic_counts_test = filtered_test_df[\"topics\"].map(lambda x: x[0]).value_counts()\n",
    "valid_topics_test = topic_counts_test[topic_counts_test >= samples_per_class_test].index\n",
    "\n",
    "test_df_filtered = filtered_test_df[filtered_test_df[\"topics\"].map(lambda x: x[0]).isin(valid_topics_test)]\n",
    "\n",
    "balanced_test_df = (\n",
    "    test_df_filtered.groupby(test_df_filtered[\"topics\"].map(lambda x: x[0]))\n",
    "    .apply(lambda x: x.sample(n=samples_per_class_test, random_state=0))\n",
    "    .reset_index(drop=True)\n",
    ")\n",
    "\n",
    "print(\"Число примеров на класс:\")\n",
    "print(balanced_test_df[\"topics\"].map(lambda x: x[0]).value_counts())"
   ]
  },
  {
   "cell_type": "code",
   "execution_count": 24,
   "id": "42b387a4-cc16-4130-8bcd-1831ef676b7d",
   "metadata": {},
   "outputs": [],
   "source": [
    "final_train_df = balanced_train_df.sample(n=200, random_state=0)\n",
    "final_test_df = balanced_test_df.sample(n=50, random_state=0)\n",
    "\n",
    "final_train_df[\"main_topic\"] = final_train_df[\"topics\"].map(lambda x: x[0])\n",
    "final_test_df[\"main_topic\"] = final_test_df[\"topics\"].map(lambda x: x[0])\n",
    "\n",
    "le = LabelEncoder()\n",
    "y_train = le.fit_transform(final_train_df[\"main_topic\"])\n",
    "y_test = le.transform(final_test_df[\"main_topic\"])\n",
    "\n",
    "X_train_text = final_train_df[\"text\"].astype(str).values\n",
    "X_test_text = final_test_df[\"text\"].astype(str).values"
   ]
  },
  {
   "cell_type": "code",
   "execution_count": 25,
   "id": "6693d80c-ce4b-4e7e-9e17-8d3962ce5ba1",
   "metadata": {},
   "outputs": [],
   "source": [
    "train_ds = tf.data.Dataset.from_tensor_slices((X_train_text, y_train))\n",
    "test_ds = tf.data.Dataset.from_tensor_slices((X_test_text, y_test))"
   ]
  },
  {
   "cell_type": "markdown",
   "id": "3df0f9a3-0dfd-41bf-8738-2707c9012ef4",
   "metadata": {},
   "source": [
    "# Функции предобработки текста"
   ]
  },
  {
   "cell_type": "code",
   "execution_count": 37,
   "id": "6953b286-ce4a-4b88-9794-130ae0ab8f88",
   "metadata": {},
   "outputs": [],
   "source": [
    "# Do-Nothing preprocessing function.\n",
    "def DON(input_data):\n",
    "  tag_open_CDATA_removed = tf.strings.regex_replace(input_data, r'<\\!\\[CDATA\\[', ' ')\n",
    "  tag_closed_CDATA_removed = tf.strings.regex_replace(tag_open_CDATA_removed, r'\\]{1,}>', ' ')\n",
    "  tag_author_lang_en_removed = tf.strings.regex_replace(tag_closed_CDATA_removed,'', ' ')\n",
    "  tag_closed_author_removed = tf.strings.regex_replace(tag_author_lang_en_removed,'', ' ')\n",
    "  tag_open_documents_removed = tf.strings.regex_replace(tag_closed_author_removed, r'\\n(\\t){0,2}', '')\n",
    "  output_data = tf.strings.regex_replace(tag_open_documents_removed, r'\\n(\\t){0,2}', ' ')\n",
    "  return output_data\n",
    "\n",
    "# Lowercasing preprocessing function.\n",
    "def LOW(input_data):\n",
    "  return tf.strings.lower(DON(input_data))\n",
    "\n",
    "# Removing Stop Words function.\n",
    "def RSW(input_data):\n",
    "  output_data = DON(input_data)\n",
    "\n",
    "  try:\n",
    "    input_string=output_data[0]\n",
    "\n",
    "  except:\n",
    "    input_string=output_data\n",
    "\n",
    "    try:\n",
    "      input_string = input_string.numpy()\n",
    "\n",
    "    except:\n",
    "      return output_data\n",
    "\n",
    "    else:\n",
    "      input_string=(str(input_string))[2:-1]\n",
    "\n",
    "    blob = TextBlob(str(input_string)).words\n",
    "    outputlist = [word for word in blob if word not in stopwords.words('english')]\n",
    "    output_string = (' '.join(word for word in outputlist))\n",
    "    output_tensor=tf.constant(output_string)\n",
    "\n",
    "    return output_tensor\n",
    "\n",
    "  else:\n",
    "\n",
    "    try:\n",
    "      input_string = input_string.numpy()\n",
    "\n",
    "    except:\n",
    "      return output_data\n",
    "\n",
    "    else:\n",
    "      input_string=(str(input_string))[2:-1]\n",
    "\n",
    "    blob = TextBlob(str(input_string)).words\n",
    "    outputlist = [word for word in blob if word not in stopwords.words('english')]\n",
    "    output_string = (' '.join(word for word in outputlist))\n",
    "    output_tensor=tf.constant([[output_string]])\n",
    "\n",
    "    return output_tensor\n",
    "\n",
    "  return output_data\n",
    "\n",
    "# Porter Stemmer preprocessing function.\n",
    "def STM(input_data):\n",
    "  output_data = DON(input_data)\n",
    "  stemmer = PorterStemmer()\n",
    "\n",
    "  try:\n",
    "    input_string=output_data[0]\n",
    "\n",
    "  except:\n",
    "    input_string=output_data\n",
    "\n",
    "    try:\n",
    "      input_string = input_string.numpy()\n",
    "\n",
    "    except:\n",
    "      return output_data\n",
    "\n",
    "    else:\n",
    "      input_string=(str(input_string))[2:-1]\n",
    "\n",
    "    blob = TextBlob(str(input_string)).words\n",
    "    outputlist = [stemmer.stem(word) for word in blob]\n",
    "    output_string = (' '.join(word for word in outputlist))\n",
    "    output_tensor=tf.constant(output_string)\n",
    "\n",
    "    return output_tensor\n",
    "\n",
    "  else:\n",
    "\n",
    "    try:\n",
    "      input_string = input_string.numpy()\n",
    "\n",
    "    except:\n",
    "      return output_data\n",
    "\n",
    "    else:\n",
    "      input_string=(str(input_string))[2:-1]\n",
    "\n",
    "    blob = TextBlob(str(input_string)).words\n",
    "    outputlist = [stemmer.stem(word) for word in blob]\n",
    "    output_string = (' '.join(word for word in outputlist))\n",
    "    output_tensor=tf.constant([[output_string]])\n",
    "\n",
    "    return output_tensor\n",
    "\n",
    "  return output_data"
   ]
  },
  {
   "cell_type": "code",
   "execution_count": 27,
   "id": "76e8555b-3e4f-4f6f-856f-de9f6807cdac",
   "metadata": {},
   "outputs": [],
   "source": [
    "## SECTION WITH PAIRS OF PREPRO FUNCTIONS. APPLICATION ORDER MATTERS (...IN FOLLOWING SECTIONS TOO).\n",
    "#...5\n",
    "def LOW_RSW(input_data):\n",
    "  return RSW(LOW(input_data))\n",
    "\n",
    "# 6\n",
    "def LOW_STM(input_data):\n",
    "  return STM(LOW(input_data))\n",
    "\n",
    "# 7\n",
    "def RSW_LOW(input_data):\n",
    "  return LOW(RSW(input_data))\n",
    "\n",
    "# 8\n",
    "def RSW_STM(input_data):\n",
    "  return STM(RSW(input_data))\n",
    "\n",
    "# 9\n",
    "def STM_LOW(input_data):\n",
    "  return LOW(STM(input_data))\n",
    "\n",
    "# 10\n",
    "def STM_RSW(input_data):\n",
    "  return RSW(STM(input_data))\n",
    "\n",
    "# 11\n",
    "def LOW_STM_RSW(input_data):\n",
    "  return RSW(STM(LOW(input_data)))\n",
    "\n",
    "# 12\n",
    "def LOW_RSW_STM(input_data):\n",
    "  return STM(RSW(LOW(input_data)))\n",
    "\n",
    "# 13\n",
    "def STM_LOW_RSW(input_data):\n",
    "  return RSW(LOW(STM(input_data)))\n",
    "\n",
    "# 14\n",
    "def STM_RSW_LOW(input_data):\n",
    "  return LOW(RSW(STM(input_data)))\n",
    "\n",
    "# 15\n",
    "def RSW_LOW_STM(input_data):\n",
    "  return STM(LOW(RSW(input_data)))\n",
    "\n",
    "# 16\n",
    "def RSW_STM_LOW(input_data):\n",
    "  return LOW(STM(RSW(input_data)))"
   ]
  },
  {
   "cell_type": "code",
   "execution_count": 28,
   "id": "8a967d7f-c8da-4712-81f6-17b32f7c067a",
   "metadata": {},
   "outputs": [],
   "source": [
    "max_features = 0\n",
    "def preprocess_and_adapt_ts(preprocessing_function,training_set):\n",
    "  # Set a large sequence length to find the longest sample in the training set.\n",
    "  sequence_length = 15000\n",
    "  vectorize_layer = TextVectorization(\n",
    "      standardize=preprocessing_function,\n",
    "      output_mode='int',\n",
    "      output_sequence_length=sequence_length,\n",
    "      encoding='ISO-8859-1')\n",
    "\n",
    "  train_text = training_set.map(lambda x, y: x)\n",
    "  vectorize_layer.adapt(train_text)\n",
    "\n",
    "  model = tf.keras.models.Sequential()\n",
    "  model.add(tf.keras.Input(shape=(1,), dtype=tf.string))\n",
    "  model.add(vectorize_layer)\n",
    "\n",
    "  longest_sample_length=1\n",
    "\n",
    "  for element in training_set:\n",
    "    authorDocument=element[0]\n",
    "    label=element[1]\n",
    "\n",
    "    author_batch = tf.expand_dims(authorDocument, axis=0)\n",
    "    out = model(author_batch)\n",
    "    # Convert token list to numpy array.\n",
    "    token_list = out.numpy()[0]\n",
    "    token_list = np.trim_zeros(token_list,'b')\n",
    "    if longest_sample_length < len(token_list):\n",
    "      longest_sample_length = len(token_list)\n",
    "\n",
    "  print(\"Length of the longest sample is:\", longest_sample_length)\n",
    "\n",
    "  # After tokenization longest_sample_length covers all the document lenghts in our dataset.\n",
    "  sequence_length = longest_sample_length\n",
    "\n",
    "  vectorize_layer = TextVectorization(\n",
    "      standardize=preprocessing_function,\n",
    "      output_mode='int',\n",
    "      output_sequence_length=sequence_length,\n",
    "      encoding='ISO-8859-1')\n",
    "\n",
    "  # Finally adapt the vectorize layer.\n",
    "  train_text = training_set.map(lambda x, y: x)\n",
    "  vectorize_layer.adapt(train_text)\n",
    "  global max_features\n",
    "  max_features=len(vectorize_layer.get_vocabulary()) + 1\n",
    "  return vectorize_layer"
   ]
  },
  {
   "cell_type": "code",
   "execution_count": 29,
   "id": "13c78204-8b92-4386-846a-137461880caa",
   "metadata": {},
   "outputs": [],
   "source": [
    "model_results = defaultdict(lambda: defaultdict(list))\n",
    "prepro_functions_dict_base = {\n",
    "    'DON':DON,\n",
    "    'LOW':LOW,\n",
    "    'RSW':RSW,\n",
    "    'STM':STM\n",
    "    }\n",
    "\n",
    "# 3 prepro functions = 15 combs...+1 for do_nothing\n",
    "\n",
    "prepro_functions_dict_comb = {\n",
    "    # 1. Do nothing\n",
    "    'DON': DON,\n",
    "    # 2. Lowercasing\n",
    "    'LOW':LOW,\n",
    "    # 3. Removing Stopwords\n",
    "    'RSW':RSW,\n",
    "    # 4. Porter Stemming\n",
    "    'STM':STM,\n",
    "    # 5. LOW->RSW\n",
    "    'LOW_RSW':LOW_RSW,\n",
    "    # 6. LOW->STM\n",
    "    'LOW_STM':LOW_STM,\n",
    "    # 7. RSW->LOW\n",
    "    'RSW_LOW':RSW_LOW,\n",
    "    # 8. RSW->STM\n",
    "    'RSW_STM':RSW_STM,\n",
    "    # 9. STM->LOW\n",
    "    'STM_LOW':STM_LOW,\n",
    "    # 10. STM->RSW\n",
    "    'STM_RSW':STM_RSW,\n",
    "    # 11. LOW->STM->RSW\n",
    "    'LOW_STM_RSW':LOW_STM_RSW,\n",
    "    # 12. LOW->RSW->STM\n",
    "    'LOW_RSW_STM':LOW_RSW_STM,\n",
    "    # 13. STM->LOW->RSW\n",
    "    'STM_LOW_RSW':STM_LOW_RSW,\n",
    "    # 14. STM->RSW->LOW\n",
    "    'STM_RSW_LOW':STM_RSW_LOW,\n",
    "    # 15. RSW->LOW->STM\n",
    "    'RSW_LOW_STM':RSW_LOW_STM,\n",
    "    # 16. RSW->STM->LOW\n",
    "    'RSW_STM_LOW':RSW_STM_LOW\n",
    "}"
   ]
  },
  {
   "cell_type": "code",
   "execution_count": 30,
   "id": "82705342-1523-4b21-b220-1fdfd58a322b",
   "metadata": {},
   "outputs": [
    {
     "name": "stdout",
     "output_type": "stream",
     "text": [
      "\n",
      "\n",
      "* * * * EVALUATION USING DON AS PREPROCESSING FUNCTION * * * *\n",
      "Length of the longest sample is: 3703\n",
      "\n",
      "\n",
      "***** FINISHED PROCESSING AND ADAPTING THE TRAINING SET, THE SIMULATION BEGINS *******\n",
      "Sample considered is:  tf.Tensor([[b'The House Ways and Means Trade \\nSubcommittee unanimously approved a toned-down version of\\nlegislation designed to toughen U.S. trade laws and wedge open\\nforeign markets to more U.S. goods.\\n    The measure now goes to the full House Ways and Means\\nCommittee next week, but major changes are not expected,\\ncongressional sources said.\\n    \"This product could very well be toughening our trade policy\\nand doing it in a manner that opens markets without this\\nfrightening word \\'protectionism\\',\" Ways and Means chairman Dan\\nRostenkowski, an Illinois Democrat said.\\n    The trade subcommittee backed away from mandating specific\\nretaliation against foreign countries for unfair foreign trade\\npractices as the House had approved in a trade bill last year.\\n    But it held over for the full Ways and Means Committee\\ndebate on a controversial plan by Rep. Richard Gephardt to\\nmandate a reduction in trade surpluses with the U.S. by\\ncountries such as Japan, South Korea and Taiwan.\\n    Gephardt, a Missouri Democrat, has not decided the exact\\nform of his amendment, an aide said. Last year the House\\napproved his idea to force an annual ten pct trade surplus cut\\nby those countries. \\n    The trade bill will be wrapped in with legislation from\\nother committees dealing with relaxation of export controls,\\nincentives for research, expanded worker training and education\\nand other efforts to increase U.S. competitiveness.\\n    The comprehensive trade bill is to be considered by the\\nfull House in late April and then will be considered by Senate\\ncommittees.\\n    It requires President Reagan to retaliate against foreign\\nunfair trade practices but do not mandate quotas or tariffs and\\nallow an exemption if U.S. economic security would be harmed by\\nU.S. actions against other countries.\\n    The bill would make it easier for U.S. industries to win\\nrelief from surges of imports of competitive products.\\n    It extends until January 1993, the administration\\'s\\nauthority to negotiate trade agreements as part of the new\\nround of multilateral talks under the General Agreements on\\nTariffs and Trade.\\n    And, it includes provisions to tighten trade rules on\\ncopyrights, patents and telecommunications goods.\\n Reuter\\n']], shape=(1, 1), dtype=string)\n",
      "Preprocessed:  tf.Tensor([[b'   T   h   e       H   o   u   s   e       W   a   y   s       a   n   d       M   e   a   n   s       T   r   a   d   e          S   u   b   c   o   m   m   i   t   t   e   e       u   n   a   n   i   m   o   u   s   l   y       a   p   p   r   o   v   e   d       a       t   o   n   e   d   -   d   o   w   n       v   e   r   s   i   o   n       o   f      l   e   g   i   s   l   a   t   i   o   n       d   e   s   i   g   n   e   d       t   o       t   o   u   g   h   e   n       U   .   S   .       t   r   a   d   e       l   a   w   s       a   n   d       w   e   d   g   e       o   p   e   n      f   o   r   e   i   g   n       m   a   r   k   e   t   s       t   o       m   o   r   e       U   .   S   .       g   o   o   d   s   .                      T   h   e       m   e   a   s   u   r   e       n   o   w       g   o   e   s       t   o       t   h   e       f   u   l   l       H   o   u   s   e       W   a   y   s       a   n   d       M   e   a   n   s      C   o   m   m   i   t   t   e   e       n   e   x   t       w   e   e   k   ,       b   u   t       m   a   j   o   r       c   h   a   n   g   e   s       a   r   e       n   o   t       e   x   p   e   c   t   e   d   ,      c   o   n   g   r   e   s   s   i   o   n   a   l       s   o   u   r   c   e   s       s   a   i   d   .                      \"   T   h   i   s       p   r   o   d   u   c   t       c   o   u   l   d       v   e   r   y       w   e   l   l       b   e       t   o   u   g   h   e   n   i   n   g       o   u   r       t   r   a   d   e       p   o   l   i   c   y      a   n   d       d   o   i   n   g       i   t       i   n       a       m   a   n   n   e   r       t   h   a   t       o   p   e   n   s       m   a   r   k   e   t   s       w   i   t   h   o   u   t       t   h   i   s      f   r   i   g   h   t   e   n   i   n   g       w   o   r   d       \\'   p   r   o   t   e   c   t   i   o   n   i   s   m   \\'   ,   \"       W   a   y   s       a   n   d       M   e   a   n   s       c   h   a   i   r   m   a   n       D   a   n      R   o   s   t   e   n   k   o   w   s   k   i   ,       a   n       I   l   l   i   n   o   i   s       D   e   m   o   c   r   a   t       s   a   i   d   .                      T   h   e       t   r   a   d   e       s   u   b   c   o   m   m   i   t   t   e   e       b   a   c   k   e   d       a   w   a   y       f   r   o   m       m   a   n   d   a   t   i   n   g       s   p   e   c   i   f   i   c      r   e   t   a   l   i   a   t   i   o   n       a   g   a   i   n   s   t       f   o   r   e   i   g   n       c   o   u   n   t   r   i   e   s       f   o   r       u   n   f   a   i   r       f   o   r   e   i   g   n       t   r   a   d   e      p   r   a   c   t   i   c   e   s       a   s       t   h   e       H   o   u   s   e       h   a   d       a   p   p   r   o   v   e   d       i   n       a       t   r   a   d   e       b   i   l   l       l   a   s   t       y   e   a   r   .                      B   u   t       i   t       h   e   l   d       o   v   e   r       f   o   r       t   h   e       f   u   l   l       W   a   y   s       a   n   d       M   e   a   n   s       C   o   m   m   i   t   t   e   e      d   e   b   a   t   e       o   n       a       c   o   n   t   r   o   v   e   r   s   i   a   l       p   l   a   n       b   y       R   e   p   .       R   i   c   h   a   r   d       G   e   p   h   a   r   d   t       t   o      m   a   n   d   a   t   e       a       r   e   d   u   c   t   i   o   n       i   n       t   r   a   d   e       s   u   r   p   l   u   s   e   s       w   i   t   h       t   h   e       U   .   S   .       b   y      c   o   u   n   t   r   i   e   s       s   u   c   h       a   s       J   a   p   a   n   ,       S   o   u   t   h       K   o   r   e   a       a   n   d       T   a   i   w   a   n   .                      G   e   p   h   a   r   d   t   ,       a       M   i   s   s   o   u   r   i       D   e   m   o   c   r   a   t   ,       h   a   s       n   o   t       d   e   c   i   d   e   d       t   h   e       e   x   a   c   t      f   o   r   m       o   f       h   i   s       a   m   e   n   d   m   e   n   t   ,       a   n       a   i   d   e       s   a   i   d   .       L   a   s   t       y   e   a   r       t   h   e       H   o   u   s   e      a   p   p   r   o   v   e   d       h   i   s       i   d   e   a       t   o       f   o   r   c   e       a   n       a   n   n   u   a   l       t   e   n       p   c   t       t   r   a   d   e       s   u   r   p   l   u   s       c   u   t      b   y       t   h   o   s   e       c   o   u   n   t   r   i   e   s   .                          T   h   e       t   r   a   d   e       b   i   l   l       w   i   l   l       b   e       w   r   a   p   p   e   d       i   n       w   i   t   h       l   e   g   i   s   l   a   t   i   o   n       f   r   o   m      o   t   h   e   r       c   o   m   m   i   t   t   e   e   s       d   e   a   l   i   n   g       w   i   t   h       r   e   l   a   x   a   t   i   o   n       o   f       e   x   p   o   r   t       c   o   n   t   r   o   l   s   ,      i   n   c   e   n   t   i   v   e   s       f   o   r       r   e   s   e   a   r   c   h   ,       e   x   p   a   n   d   e   d       w   o   r   k   e   r       t   r   a   i   n   i   n   g       a   n   d       e   d   u   c   a   t   i   o   n      a   n   d       o   t   h   e   r       e   f   f   o   r   t   s       t   o       i   n   c   r   e   a   s   e       U   .   S   .       c   o   m   p   e   t   i   t   i   v   e   n   e   s   s   .                      T   h   e       c   o   m   p   r   e   h   e   n   s   i   v   e       t   r   a   d   e       b   i   l   l       i   s       t   o       b   e       c   o   n   s   i   d   e   r   e   d       b   y       t   h   e      f   u   l   l       H   o   u   s   e       i   n       l   a   t   e       A   p   r   i   l       a   n   d       t   h   e   n       w   i   l   l       b   e       c   o   n   s   i   d   e   r   e   d       b   y       S   e   n   a   t   e      c   o   m   m   i   t   t   e   e   s   .                      I   t       r   e   q   u   i   r   e   s       P   r   e   s   i   d   e   n   t       R   e   a   g   a   n       t   o       r   e   t   a   l   i   a   t   e       a   g   a   i   n   s   t       f   o   r   e   i   g   n      u   n   f   a   i   r       t   r   a   d   e       p   r   a   c   t   i   c   e   s       b   u   t       d   o       n   o   t       m   a   n   d   a   t   e       q   u   o   t   a   s       o   r       t   a   r   i   f   f   s       a   n   d      a   l   l   o   w       a   n       e   x   e   m   p   t   i   o   n       i   f       U   .   S   .       e   c   o   n   o   m   i   c       s   e   c   u   r   i   t   y       w   o   u   l   d       b   e       h   a   r   m   e   d       b   y      U   .   S   .       a   c   t   i   o   n   s       a   g   a   i   n   s   t       o   t   h   e   r       c   o   u   n   t   r   i   e   s   .                      T   h   e       b   i   l   l       w   o   u   l   d       m   a   k   e       i   t       e   a   s   i   e   r       f   o   r       U   .   S   .       i   n   d   u   s   t   r   i   e   s       t   o       w   i   n      r   e   l   i   e   f       f   r   o   m       s   u   r   g   e   s       o   f       i   m   p   o   r   t   s       o   f       c   o   m   p   e   t   i   t   i   v   e       p   r   o   d   u   c   t   s   .                      I   t       e   x   t   e   n   d   s       u   n   t   i   l       J   a   n   u   a   r   y       1   9   9   3   ,       t   h   e       a   d   m   i   n   i   s   t   r   a   t   i   o   n   \\'   s      a   u   t   h   o   r   i   t   y       t   o       n   e   g   o   t   i   a   t   e       t   r   a   d   e       a   g   r   e   e   m   e   n   t   s       a   s       p   a   r   t       o   f       t   h   e       n   e   w      r   o   u   n   d       o   f       m   u   l   t   i   l   a   t   e   r   a   l       t   a   l   k   s       u   n   d   e   r       t   h   e       G   e   n   e   r   a   l       A   g   r   e   e   m   e   n   t   s       o   n      T   a   r   i   f   f   s       a   n   d       T   r   a   d   e   .                      A   n   d   ,       i   t       i   n   c   l   u   d   e   s       p   r   o   v   i   s   i   o   n   s       t   o       t   i   g   h   t   e   n       t   r   a   d   e       r   u   l   e   s       o   n      c   o   p   y   r   i   g   h   t   s   ,       p   a   t   e   n   t   s       a   n   d       t   e   l   e   c   o   m   m   u   n   i   c   a   t   i   o   n   s       g   o   o   d   s   .          R   e   u   t   e   r      ']], shape=(1, 1), dtype=string)\n"
     ]
    },
    {
     "name": "stderr",
     "output_type": "stream",
     "text": [
      "2025-05-02 05:20:45.342836: I tensorflow/core/framework/local_rendezvous.cc:407] Local rendezvous is aborting with status: OUT_OF_RANGE: End of sequence\n",
      "/opt/homebrew/anaconda3/lib/python3.12/site-packages/sklearn/ensemble/_weight_boosting.py:527: FutureWarning: The SAMME.R algorithm (the default) is deprecated and will be removed in 1.6. Use the SAMME algorithm to circumvent this warning.\n",
      "  warnings.warn(\n"
     ]
    },
    {
     "name": "stdout",
     "output_type": "stream",
     "text": [
      "AdaBoost Accuracy on Test set -> 0.3\n",
      "XGBoost Accuracy on Test set -> 0.48\n",
      "RandomForest Accuracy on Test set -> 0.44\n",
      "DecisionTree Accuracy on Test set -> 0.38\n",
      "\n",
      "\n",
      "* * * * EVALUATION USING LOW AS PREPROCESSING FUNCTION * * * *\n",
      "Length of the longest sample is: 3703\n",
      "\n",
      "\n",
      "***** FINISHED PROCESSING AND ADAPTING THE TRAINING SET, THE SIMULATION BEGINS *******\n",
      "Sample considered is:  tf.Tensor([[b'The House Ways and Means Trade \\nSubcommittee unanimously approved a toned-down version of\\nlegislation designed to toughen U.S. trade laws and wedge open\\nforeign markets to more U.S. goods.\\n    The measure now goes to the full House Ways and Means\\nCommittee next week, but major changes are not expected,\\ncongressional sources said.\\n    \"This product could very well be toughening our trade policy\\nand doing it in a manner that opens markets without this\\nfrightening word \\'protectionism\\',\" Ways and Means chairman Dan\\nRostenkowski, an Illinois Democrat said.\\n    The trade subcommittee backed away from mandating specific\\nretaliation against foreign countries for unfair foreign trade\\npractices as the House had approved in a trade bill last year.\\n    But it held over for the full Ways and Means Committee\\ndebate on a controversial plan by Rep. Richard Gephardt to\\nmandate a reduction in trade surpluses with the U.S. by\\ncountries such as Japan, South Korea and Taiwan.\\n    Gephardt, a Missouri Democrat, has not decided the exact\\nform of his amendment, an aide said. Last year the House\\napproved his idea to force an annual ten pct trade surplus cut\\nby those countries. \\n    The trade bill will be wrapped in with legislation from\\nother committees dealing with relaxation of export controls,\\nincentives for research, expanded worker training and education\\nand other efforts to increase U.S. competitiveness.\\n    The comprehensive trade bill is to be considered by the\\nfull House in late April and then will be considered by Senate\\ncommittees.\\n    It requires President Reagan to retaliate against foreign\\nunfair trade practices but do not mandate quotas or tariffs and\\nallow an exemption if U.S. economic security would be harmed by\\nU.S. actions against other countries.\\n    The bill would make it easier for U.S. industries to win\\nrelief from surges of imports of competitive products.\\n    It extends until January 1993, the administration\\'s\\nauthority to negotiate trade agreements as part of the new\\nround of multilateral talks under the General Agreements on\\nTariffs and Trade.\\n    And, it includes provisions to tighten trade rules on\\ncopyrights, patents and telecommunications goods.\\n Reuter\\n']], shape=(1, 1), dtype=string)\n",
      "Preprocessed:  tf.Tensor([[b'   t   h   e       h   o   u   s   e       w   a   y   s       a   n   d       m   e   a   n   s       t   r   a   d   e          s   u   b   c   o   m   m   i   t   t   e   e       u   n   a   n   i   m   o   u   s   l   y       a   p   p   r   o   v   e   d       a       t   o   n   e   d   -   d   o   w   n       v   e   r   s   i   o   n       o   f      l   e   g   i   s   l   a   t   i   o   n       d   e   s   i   g   n   e   d       t   o       t   o   u   g   h   e   n       u   .   s   .       t   r   a   d   e       l   a   w   s       a   n   d       w   e   d   g   e       o   p   e   n      f   o   r   e   i   g   n       m   a   r   k   e   t   s       t   o       m   o   r   e       u   .   s   .       g   o   o   d   s   .                      t   h   e       m   e   a   s   u   r   e       n   o   w       g   o   e   s       t   o       t   h   e       f   u   l   l       h   o   u   s   e       w   a   y   s       a   n   d       m   e   a   n   s      c   o   m   m   i   t   t   e   e       n   e   x   t       w   e   e   k   ,       b   u   t       m   a   j   o   r       c   h   a   n   g   e   s       a   r   e       n   o   t       e   x   p   e   c   t   e   d   ,      c   o   n   g   r   e   s   s   i   o   n   a   l       s   o   u   r   c   e   s       s   a   i   d   .                      \"   t   h   i   s       p   r   o   d   u   c   t       c   o   u   l   d       v   e   r   y       w   e   l   l       b   e       t   o   u   g   h   e   n   i   n   g       o   u   r       t   r   a   d   e       p   o   l   i   c   y      a   n   d       d   o   i   n   g       i   t       i   n       a       m   a   n   n   e   r       t   h   a   t       o   p   e   n   s       m   a   r   k   e   t   s       w   i   t   h   o   u   t       t   h   i   s      f   r   i   g   h   t   e   n   i   n   g       w   o   r   d       \\'   p   r   o   t   e   c   t   i   o   n   i   s   m   \\'   ,   \"       w   a   y   s       a   n   d       m   e   a   n   s       c   h   a   i   r   m   a   n       d   a   n      r   o   s   t   e   n   k   o   w   s   k   i   ,       a   n       i   l   l   i   n   o   i   s       d   e   m   o   c   r   a   t       s   a   i   d   .                      t   h   e       t   r   a   d   e       s   u   b   c   o   m   m   i   t   t   e   e       b   a   c   k   e   d       a   w   a   y       f   r   o   m       m   a   n   d   a   t   i   n   g       s   p   e   c   i   f   i   c      r   e   t   a   l   i   a   t   i   o   n       a   g   a   i   n   s   t       f   o   r   e   i   g   n       c   o   u   n   t   r   i   e   s       f   o   r       u   n   f   a   i   r       f   o   r   e   i   g   n       t   r   a   d   e      p   r   a   c   t   i   c   e   s       a   s       t   h   e       h   o   u   s   e       h   a   d       a   p   p   r   o   v   e   d       i   n       a       t   r   a   d   e       b   i   l   l       l   a   s   t       y   e   a   r   .                      b   u   t       i   t       h   e   l   d       o   v   e   r       f   o   r       t   h   e       f   u   l   l       w   a   y   s       a   n   d       m   e   a   n   s       c   o   m   m   i   t   t   e   e      d   e   b   a   t   e       o   n       a       c   o   n   t   r   o   v   e   r   s   i   a   l       p   l   a   n       b   y       r   e   p   .       r   i   c   h   a   r   d       g   e   p   h   a   r   d   t       t   o      m   a   n   d   a   t   e       a       r   e   d   u   c   t   i   o   n       i   n       t   r   a   d   e       s   u   r   p   l   u   s   e   s       w   i   t   h       t   h   e       u   .   s   .       b   y      c   o   u   n   t   r   i   e   s       s   u   c   h       a   s       j   a   p   a   n   ,       s   o   u   t   h       k   o   r   e   a       a   n   d       t   a   i   w   a   n   .                      g   e   p   h   a   r   d   t   ,       a       m   i   s   s   o   u   r   i       d   e   m   o   c   r   a   t   ,       h   a   s       n   o   t       d   e   c   i   d   e   d       t   h   e       e   x   a   c   t      f   o   r   m       o   f       h   i   s       a   m   e   n   d   m   e   n   t   ,       a   n       a   i   d   e       s   a   i   d   .       l   a   s   t       y   e   a   r       t   h   e       h   o   u   s   e      a   p   p   r   o   v   e   d       h   i   s       i   d   e   a       t   o       f   o   r   c   e       a   n       a   n   n   u   a   l       t   e   n       p   c   t       t   r   a   d   e       s   u   r   p   l   u   s       c   u   t      b   y       t   h   o   s   e       c   o   u   n   t   r   i   e   s   .                          t   h   e       t   r   a   d   e       b   i   l   l       w   i   l   l       b   e       w   r   a   p   p   e   d       i   n       w   i   t   h       l   e   g   i   s   l   a   t   i   o   n       f   r   o   m      o   t   h   e   r       c   o   m   m   i   t   t   e   e   s       d   e   a   l   i   n   g       w   i   t   h       r   e   l   a   x   a   t   i   o   n       o   f       e   x   p   o   r   t       c   o   n   t   r   o   l   s   ,      i   n   c   e   n   t   i   v   e   s       f   o   r       r   e   s   e   a   r   c   h   ,       e   x   p   a   n   d   e   d       w   o   r   k   e   r       t   r   a   i   n   i   n   g       a   n   d       e   d   u   c   a   t   i   o   n      a   n   d       o   t   h   e   r       e   f   f   o   r   t   s       t   o       i   n   c   r   e   a   s   e       u   .   s   .       c   o   m   p   e   t   i   t   i   v   e   n   e   s   s   .                      t   h   e       c   o   m   p   r   e   h   e   n   s   i   v   e       t   r   a   d   e       b   i   l   l       i   s       t   o       b   e       c   o   n   s   i   d   e   r   e   d       b   y       t   h   e      f   u   l   l       h   o   u   s   e       i   n       l   a   t   e       a   p   r   i   l       a   n   d       t   h   e   n       w   i   l   l       b   e       c   o   n   s   i   d   e   r   e   d       b   y       s   e   n   a   t   e      c   o   m   m   i   t   t   e   e   s   .                      i   t       r   e   q   u   i   r   e   s       p   r   e   s   i   d   e   n   t       r   e   a   g   a   n       t   o       r   e   t   a   l   i   a   t   e       a   g   a   i   n   s   t       f   o   r   e   i   g   n      u   n   f   a   i   r       t   r   a   d   e       p   r   a   c   t   i   c   e   s       b   u   t       d   o       n   o   t       m   a   n   d   a   t   e       q   u   o   t   a   s       o   r       t   a   r   i   f   f   s       a   n   d      a   l   l   o   w       a   n       e   x   e   m   p   t   i   o   n       i   f       u   .   s   .       e   c   o   n   o   m   i   c       s   e   c   u   r   i   t   y       w   o   u   l   d       b   e       h   a   r   m   e   d       b   y      u   .   s   .       a   c   t   i   o   n   s       a   g   a   i   n   s   t       o   t   h   e   r       c   o   u   n   t   r   i   e   s   .                      t   h   e       b   i   l   l       w   o   u   l   d       m   a   k   e       i   t       e   a   s   i   e   r       f   o   r       u   .   s   .       i   n   d   u   s   t   r   i   e   s       t   o       w   i   n      r   e   l   i   e   f       f   r   o   m       s   u   r   g   e   s       o   f       i   m   p   o   r   t   s       o   f       c   o   m   p   e   t   i   t   i   v   e       p   r   o   d   u   c   t   s   .                      i   t       e   x   t   e   n   d   s       u   n   t   i   l       j   a   n   u   a   r   y       1   9   9   3   ,       t   h   e       a   d   m   i   n   i   s   t   r   a   t   i   o   n   \\'   s      a   u   t   h   o   r   i   t   y       t   o       n   e   g   o   t   i   a   t   e       t   r   a   d   e       a   g   r   e   e   m   e   n   t   s       a   s       p   a   r   t       o   f       t   h   e       n   e   w      r   o   u   n   d       o   f       m   u   l   t   i   l   a   t   e   r   a   l       t   a   l   k   s       u   n   d   e   r       t   h   e       g   e   n   e   r   a   l       a   g   r   e   e   m   e   n   t   s       o   n      t   a   r   i   f   f   s       a   n   d       t   r   a   d   e   .                      a   n   d   ,       i   t       i   n   c   l   u   d   e   s       p   r   o   v   i   s   i   o   n   s       t   o       t   i   g   h   t   e   n       t   r   a   d   e       r   u   l   e   s       o   n      c   o   p   y   r   i   g   h   t   s   ,       p   a   t   e   n   t   s       a   n   d       t   e   l   e   c   o   m   m   u   n   i   c   a   t   i   o   n   s       g   o   o   d   s   .          r   e   u   t   e   r      ']], shape=(1, 1), dtype=string)\n"
     ]
    },
    {
     "name": "stderr",
     "output_type": "stream",
     "text": [
      "/opt/homebrew/anaconda3/lib/python3.12/site-packages/sklearn/ensemble/_weight_boosting.py:527: FutureWarning: The SAMME.R algorithm (the default) is deprecated and will be removed in 1.6. Use the SAMME algorithm to circumvent this warning.\n",
      "  warnings.warn(\n"
     ]
    },
    {
     "name": "stdout",
     "output_type": "stream",
     "text": [
      "AdaBoost Accuracy on Test set -> 0.38\n",
      "XGBoost Accuracy on Test set -> 0.42\n",
      "RandomForest Accuracy on Test set -> 0.42\n",
      "DecisionTree Accuracy on Test set -> 0.32\n",
      "\n",
      "\n",
      "* * * * EVALUATION USING RSW AS PREPROCESSING FUNCTION * * * *\n",
      "Length of the longest sample is: 2018\n",
      "\n",
      "\n",
      "***** FINISHED PROCESSING AND ADAPTING THE TRAINING SET, THE SIMULATION BEGINS *******\n",
      "Sample considered is:  tf.Tensor([[b'The House Ways and Means Trade \\nSubcommittee unanimously approved a toned-down version of\\nlegislation designed to toughen U.S. trade laws and wedge open\\nforeign markets to more U.S. goods.\\n    The measure now goes to the full House Ways and Means\\nCommittee next week, but major changes are not expected,\\ncongressional sources said.\\n    \"This product could very well be toughening our trade policy\\nand doing it in a manner that opens markets without this\\nfrightening word \\'protectionism\\',\" Ways and Means chairman Dan\\nRostenkowski, an Illinois Democrat said.\\n    The trade subcommittee backed away from mandating specific\\nretaliation against foreign countries for unfair foreign trade\\npractices as the House had approved in a trade bill last year.\\n    But it held over for the full Ways and Means Committee\\ndebate on a controversial plan by Rep. Richard Gephardt to\\nmandate a reduction in trade surpluses with the U.S. by\\ncountries such as Japan, South Korea and Taiwan.\\n    Gephardt, a Missouri Democrat, has not decided the exact\\nform of his amendment, an aide said. Last year the House\\napproved his idea to force an annual ten pct trade surplus cut\\nby those countries. \\n    The trade bill will be wrapped in with legislation from\\nother committees dealing with relaxation of export controls,\\nincentives for research, expanded worker training and education\\nand other efforts to increase U.S. competitiveness.\\n    The comprehensive trade bill is to be considered by the\\nfull House in late April and then will be considered by Senate\\ncommittees.\\n    It requires President Reagan to retaliate against foreign\\nunfair trade practices but do not mandate quotas or tariffs and\\nallow an exemption if U.S. economic security would be harmed by\\nU.S. actions against other countries.\\n    The bill would make it easier for U.S. industries to win\\nrelief from surges of imports of competitive products.\\n    It extends until January 1993, the administration\\'s\\nauthority to negotiate trade agreements as part of the new\\nround of multilateral talks under the General Agreements on\\nTariffs and Trade.\\n    And, it includes provisions to tighten trade rules on\\ncopyrights, patents and telecommunications goods.\\n Reuter\\n']], shape=(1, 1), dtype=string)\n",
      "Preprocessed:  tf.Tensor([[b'T h e H u e W n M e n T r e S u b c e e u n n u l p p r v e n e w n v e r n f l e g l n e g n e u g h e n U S r e l w n w e g e p e n f r e g n r k e r e U S g T h e e u r e n w g e h e f u l l H u e W n M e n C e e n e x w e e k b u j r c h n g e r e n e x p e c e c n g r e n l u r c e T h p r u c c u l v e r w e l l b e u g h e n n g u r r e p l c n n g n n n e r h p e n r k e w h u h f r g h e n n g w r p r e c n W n M e n c h r n D n R e n k w k n I l l n D e c r T h e r e u b c e e b c k e w f r n n g p e c f c r e l n g n f r e g n c u n r e f r u n f r f r e g n r e p r c c e h e H u e h p p r v e n r e b l l l e r B u h e l v e r f r h e f u l l W n M e n C e e e b e n c n r v e r l p l n b R e p R c h r G e p h r n e r e u c n n r e u r p l u e w h h e U S b c u n r e u c h J p n S u h K r e n T w n G e p h r M u r D e c r h n e c e h e e x c f r f h e n e n n e L e r h e H u e p p r v e h e f r c e n n n u l e n p c r e u r p l u c u b h e c u n r e T h e r e b l l w l l b e w r p p e n w h l e g l n f r h e r c e e e l n g w h r e l x n f e x p r c n r l n c e n v e f r r e e r c h e x p n e w r k e r r n n g n e u c n n h e r e f f r n c r e e U S c p e v e n e T h e c p r e h e n v e r e b l l b e c n e r e b h e f u l l H u e n l e A p r l n h e n w l l b e c n e r e b S e n e c e e I r e q u r e P r e e n R e g n r e l e g n f r e g n u n f r r e p r c c e b u n n e q u r r f f n l l w n e x e p n f U S e c n c e c u r w u l b e h r e b U S c n g n h e r c u n r e T h e b l l w u l k e e e r f r U S n u r e w n r e l e f f r u r g e f p r f c p e v e p r u c I e x e n u n l J n u r 1 9 9 3 h e n r n u h r n e g e r e g r e e e n p r f h e n e w r u n f u l l e r l l k u n e r h e G e n e r l A g r e e e n n T r f f n T r e A n n c l u e p r v n g h e n r e r u l e n c p r g h p e n n e l e c u n c n g R e u e r']], shape=(1, 1), dtype=string)\n"
     ]
    },
    {
     "name": "stderr",
     "output_type": "stream",
     "text": [
      "/opt/homebrew/anaconda3/lib/python3.12/site-packages/sklearn/ensemble/_weight_boosting.py:527: FutureWarning: The SAMME.R algorithm (the default) is deprecated and will be removed in 1.6. Use the SAMME algorithm to circumvent this warning.\n",
      "  warnings.warn(\n"
     ]
    },
    {
     "name": "stdout",
     "output_type": "stream",
     "text": [
      "AdaBoost Accuracy on Test set -> 0.34\n",
      "XGBoost Accuracy on Test set -> 0.4\n",
      "RandomForest Accuracy on Test set -> 0.46\n",
      "DecisionTree Accuracy on Test set -> 0.44\n",
      "\n",
      "\n",
      "* * * * EVALUATION USING STM AS PREPROCESSING FUNCTION * * * *\n",
      "Length of the longest sample is: 3620\n",
      "\n",
      "\n",
      "***** FINISHED PROCESSING AND ADAPTING THE TRAINING SET, THE SIMULATION BEGINS *******\n",
      "Sample considered is:  tf.Tensor([[b'The House Ways and Means Trade \\nSubcommittee unanimously approved a toned-down version of\\nlegislation designed to toughen U.S. trade laws and wedge open\\nforeign markets to more U.S. goods.\\n    The measure now goes to the full House Ways and Means\\nCommittee next week, but major changes are not expected,\\ncongressional sources said.\\n    \"This product could very well be toughening our trade policy\\nand doing it in a manner that opens markets without this\\nfrightening word \\'protectionism\\',\" Ways and Means chairman Dan\\nRostenkowski, an Illinois Democrat said.\\n    The trade subcommittee backed away from mandating specific\\nretaliation against foreign countries for unfair foreign trade\\npractices as the House had approved in a trade bill last year.\\n    But it held over for the full Ways and Means Committee\\ndebate on a controversial plan by Rep. Richard Gephardt to\\nmandate a reduction in trade surpluses with the U.S. by\\ncountries such as Japan, South Korea and Taiwan.\\n    Gephardt, a Missouri Democrat, has not decided the exact\\nform of his amendment, an aide said. Last year the House\\napproved his idea to force an annual ten pct trade surplus cut\\nby those countries. \\n    The trade bill will be wrapped in with legislation from\\nother committees dealing with relaxation of export controls,\\nincentives for research, expanded worker training and education\\nand other efforts to increase U.S. competitiveness.\\n    The comprehensive trade bill is to be considered by the\\nfull House in late April and then will be considered by Senate\\ncommittees.\\n    It requires President Reagan to retaliate against foreign\\nunfair trade practices but do not mandate quotas or tariffs and\\nallow an exemption if U.S. economic security would be harmed by\\nU.S. actions against other countries.\\n    The bill would make it easier for U.S. industries to win\\nrelief from surges of imports of competitive products.\\n    It extends until January 1993, the administration\\'s\\nauthority to negotiate trade agreements as part of the new\\nround of multilateral talks under the General Agreements on\\nTariffs and Trade.\\n    And, it includes provisions to tighten trade rules on\\ncopyrights, patents and telecommunications goods.\\n Reuter\\n']], shape=(1, 1), dtype=string)\n",
      "Preprocessed:  tf.Tensor([[b't h e h o u s e w a y s a n d m e a n s t r a d e s u b c o m m i t t e e u n a n i m o u s l y a p p r o v e d a t o n e d d o w n v e r s i o n o f l e g i s l a t i o n d e s i g n e d t o t o u g h e n u s t r a d e l a w s a n d w e d g e o p e n f o r e i g n m a r k e t s t o m o r e u s g o o d s t h e m e a s u r e n o w g o e s t o t h e f u l l h o u s e w a y s a n d m e a n s c o m m i t t e e n e x t w e e k b u t m a j o r c h a n g e s a r e n o t e x p e c t e d c o n g r e s s i o n a l s o u r c e s s a i d t h i s p r o d u c t c o u l d v e r y w e l l b e t o u g h e n i n g o u r t r a d e p o l i c y a n d d o i n g i t i n a m a n n e r t h a t o p e n s m a r k e t s w i t h o u t t h i s f r i g h t e n i n g w o r d p r o t e c t i o n i s m w a y s a n d m e a n s c h a i r m a n d a n r o s t e n k o w s k i a n i l l i n o i s d e m o c r a t s a i d t h e t r a d e s u b c o m m i t t e e b a c k e d a w a y f r o m m a n d a t i n g s p e c i f i c r e t a l i a t i o n a g a i n s t f o r e i g n c o u n t r i e s f o r u n f a i r f o r e i g n t r a d e p r a c t i c e s a s t h e h o u s e h a d a p p r o v e d i n a t r a d e b i l l l a s t y e a r b u t i t h e l d o v e r f o r t h e f u l l w a y s a n d m e a n s c o m m i t t e e d e b a t e o n a c o n t r o v e r s i a l p l a n b y r e p r i c h a r d g e p h a r d t t o m a n d a t e a r e d u c t i o n i n t r a d e s u r p l u s e s w i t h t h e u s b y c o u n t r i e s s u c h a s j a p a n s o u t h k o r e a a n d t a i w a n g e p h a r d t a m i s s o u r i d e m o c r a t h a s n o t d e c i d e d t h e e x a c t f o r m o f h i s a m e n d m e n t a n a i d e s a i d l a s t y e a r t h e h o u s e a p p r o v e d h i s i d e a t o f o r c e a n a n n u a l t e n p c t t r a d e s u r p l u s c u t b y t h o s e c o u n t r i e s t h e t r a d e b i l l w i l l b e w r a p p e d i n w i t h l e g i s l a t i o n f r o m o t h e r c o m m i t t e e s d e a l i n g w i t h r e l a x a t i o n o f e x p o r t c o n t r o l s i n c e n t i v e s f o r r e s e a r c h e x p a n d e d w o r k e r t r a i n i n g a n d e d u c a t i o n a n d o t h e r e f f o r t s t o i n c r e a s e u s c o m p e t i t i v e n e s s t h e c o m p r e h e n s i v e t r a d e b i l l i s t o b e c o n s i d e r e d b y t h e f u l l h o u s e i n l a t e a p r i l a n d t h e n w i l l b e c o n s i d e r e d b y s e n a t e c o m m i t t e e s i t r e q u i r e s p r e s i d e n t r e a g a n t o r e t a l i a t e a g a i n s t f o r e i g n u n f a i r t r a d e p r a c t i c e s b u t d o n o t m a n d a t e q u o t a s o r t a r i f f s a n d a l l o w a n e x e m p t i o n i f u s e c o n o m i c s e c u r i t y w o u l d b e h a r m e d b y u s a c t i o n s a g a i n s t o t h e r c o u n t r i e s t h e b i l l w o u l d m a k e i t e a s i e r f o r u s i n d u s t r i e s t o w i n r e l i e f f r o m s u r g e s o f i m p o r t s o f c o m p e t i t i v e p r o d u c t s i t e x t e n d s u n t i l j a n u a r y 1 9 9 3 t h e a d m i n i s t r a t i o n s a u t h o r i t y t o n e g o t i a t e t r a d e a g r e e m e n t s a s p a r t o f t h e n e w r o u n d o f m u l t i l a t e r a l t a l k s u n d e r t h e g e n e r a l a g r e e m e n t s o n t a r i f f s a n d t r a d e a n d i t i n c l u d e s p r o v i s i o n s t o t i g h t e n t r a d e r u l e s o n c o p y r i g h t s p a t e n t s a n d t e l e c o m m u n i c a t i o n s g o o d s r e u t e r']], shape=(1, 1), dtype=string)\n"
     ]
    },
    {
     "name": "stderr",
     "output_type": "stream",
     "text": [
      "/opt/homebrew/anaconda3/lib/python3.12/site-packages/sklearn/ensemble/_weight_boosting.py:527: FutureWarning: The SAMME.R algorithm (the default) is deprecated and will be removed in 1.6. Use the SAMME algorithm to circumvent this warning.\n",
      "  warnings.warn(\n"
     ]
    },
    {
     "name": "stdout",
     "output_type": "stream",
     "text": [
      "AdaBoost Accuracy on Test set -> 0.28\n",
      "XGBoost Accuracy on Test set -> 0.38\n",
      "RandomForest Accuracy on Test set -> 0.42\n",
      "DecisionTree Accuracy on Test set -> 0.32\n",
      "\n",
      "\n",
      "* * * * EVALUATION USING LOW_RSW AS PREPROCESSING FUNCTION * * * *\n",
      "Length of the longest sample is: 1973\n",
      "\n",
      "\n",
      "***** FINISHED PROCESSING AND ADAPTING THE TRAINING SET, THE SIMULATION BEGINS *******\n",
      "Sample considered is:  tf.Tensor([[b'The House Ways and Means Trade \\nSubcommittee unanimously approved a toned-down version of\\nlegislation designed to toughen U.S. trade laws and wedge open\\nforeign markets to more U.S. goods.\\n    The measure now goes to the full House Ways and Means\\nCommittee next week, but major changes are not expected,\\ncongressional sources said.\\n    \"This product could very well be toughening our trade policy\\nand doing it in a manner that opens markets without this\\nfrightening word \\'protectionism\\',\" Ways and Means chairman Dan\\nRostenkowski, an Illinois Democrat said.\\n    The trade subcommittee backed away from mandating specific\\nretaliation against foreign countries for unfair foreign trade\\npractices as the House had approved in a trade bill last year.\\n    But it held over for the full Ways and Means Committee\\ndebate on a controversial plan by Rep. Richard Gephardt to\\nmandate a reduction in trade surpluses with the U.S. by\\ncountries such as Japan, South Korea and Taiwan.\\n    Gephardt, a Missouri Democrat, has not decided the exact\\nform of his amendment, an aide said. Last year the House\\napproved his idea to force an annual ten pct trade surplus cut\\nby those countries. \\n    The trade bill will be wrapped in with legislation from\\nother committees dealing with relaxation of export controls,\\nincentives for research, expanded worker training and education\\nand other efforts to increase U.S. competitiveness.\\n    The comprehensive trade bill is to be considered by the\\nfull House in late April and then will be considered by Senate\\ncommittees.\\n    It requires President Reagan to retaliate against foreign\\nunfair trade practices but do not mandate quotas or tariffs and\\nallow an exemption if U.S. economic security would be harmed by\\nU.S. actions against other countries.\\n    The bill would make it easier for U.S. industries to win\\nrelief from surges of imports of competitive products.\\n    It extends until January 1993, the administration\\'s\\nauthority to negotiate trade agreements as part of the new\\nround of multilateral talks under the General Agreements on\\nTariffs and Trade.\\n    And, it includes provisions to tighten trade rules on\\ncopyrights, patents and telecommunications goods.\\n Reuter\\n']], shape=(1, 1), dtype=string)\n",
      "Preprocessed:  tf.Tensor([[b'h e h u e w n e n r e u b c e e u n n u l p p r v e n e w n v e r n f l e g l n e g n e u g h e n u r e l w n w e g e p e n f r e g n r k e r e u g h e e u r e n w g e h e f u l l h u e w n e n c e e n e x w e e k b u j r c h n g e r e n e x p e c e c n g r e n l u r c e h p r u c c u l v e r w e l l b e u g h e n n g u r r e p l c n n g n n n e r h p e n r k e w h u h f r g h e n n g w r p r e c n w n e n c h r n n r e n k w k n l l n e c r h e r e u b c e e b c k e w f r n n g p e c f c r e l n g n f r e g n c u n r e f r u n f r f r e g n r e p r c c e h e h u e h p p r v e n r e b l l l e r b u h e l v e r f r h e f u l l w n e n c e e e b e n c n r v e r l p l n b r e p r c h r g e p h r n e r e u c n n r e u r p l u e w h h e u b c u n r e u c h j p n u h k r e n w n g e p h r u r e c r h n e c e h e e x c f r f h e n e n n e l e r h e h u e p p r v e h e f r c e n n n u l e n p c r e u r p l u c u b h e c u n r e h e r e b l l w l l b e w r p p e n w h l e g l n f r h e r c e e e l n g w h r e l x n f e x p r c n r l n c e n v e f r r e e r c h e x p n e w r k e r r n n g n e u c n n h e r e f f r n c r e e u c p e v e n e h e c p r e h e n v e r e b l l b e c n e r e b h e f u l l h u e n l e p r l n h e n w l l b e c n e r e b e n e c e e r e q u r e p r e e n r e g n r e l e g n f r e g n u n f r r e p r c c e b u n n e q u r r f f n l l w n e x e p n f u e c n c e c u r w u l b e h r e b u c n g n h e r c u n r e h e b l l w u l k e e e r f r u n u r e w n r e l e f f r u r g e f p r f c p e v e p r u c e x e n u n l j n u r 1 9 9 3 h e n r n u h r n e g e r e g r e e e n p r f h e n e w r u n f u l l e r l l k u n e r h e g e n e r l g r e e e n n r f f n r e n n c l u e p r v n g h e n r e r u l e n c p r g h p e n n e l e c u n c n g r e u e r']], shape=(1, 1), dtype=string)\n"
     ]
    },
    {
     "name": "stderr",
     "output_type": "stream",
     "text": [
      "/opt/homebrew/anaconda3/lib/python3.12/site-packages/sklearn/ensemble/_weight_boosting.py:527: FutureWarning: The SAMME.R algorithm (the default) is deprecated and will be removed in 1.6. Use the SAMME algorithm to circumvent this warning.\n",
      "  warnings.warn(\n"
     ]
    },
    {
     "name": "stdout",
     "output_type": "stream",
     "text": [
      "AdaBoost Accuracy on Test set -> 0.28\n",
      "XGBoost Accuracy on Test set -> 0.38\n",
      "RandomForest Accuracy on Test set -> 0.46\n",
      "DecisionTree Accuracy on Test set -> 0.38\n",
      "\n",
      "\n",
      "* * * * EVALUATION USING LOW_STM AS PREPROCESSING FUNCTION * * * *\n",
      "Length of the longest sample is: 3620\n",
      "\n",
      "\n",
      "***** FINISHED PROCESSING AND ADAPTING THE TRAINING SET, THE SIMULATION BEGINS *******\n",
      "Sample considered is:  tf.Tensor([[b'The House Ways and Means Trade \\nSubcommittee unanimously approved a toned-down version of\\nlegislation designed to toughen U.S. trade laws and wedge open\\nforeign markets to more U.S. goods.\\n    The measure now goes to the full House Ways and Means\\nCommittee next week, but major changes are not expected,\\ncongressional sources said.\\n    \"This product could very well be toughening our trade policy\\nand doing it in a manner that opens markets without this\\nfrightening word \\'protectionism\\',\" Ways and Means chairman Dan\\nRostenkowski, an Illinois Democrat said.\\n    The trade subcommittee backed away from mandating specific\\nretaliation against foreign countries for unfair foreign trade\\npractices as the House had approved in a trade bill last year.\\n    But it held over for the full Ways and Means Committee\\ndebate on a controversial plan by Rep. Richard Gephardt to\\nmandate a reduction in trade surpluses with the U.S. by\\ncountries such as Japan, South Korea and Taiwan.\\n    Gephardt, a Missouri Democrat, has not decided the exact\\nform of his amendment, an aide said. Last year the House\\napproved his idea to force an annual ten pct trade surplus cut\\nby those countries. \\n    The trade bill will be wrapped in with legislation from\\nother committees dealing with relaxation of export controls,\\nincentives for research, expanded worker training and education\\nand other efforts to increase U.S. competitiveness.\\n    The comprehensive trade bill is to be considered by the\\nfull House in late April and then will be considered by Senate\\ncommittees.\\n    It requires President Reagan to retaliate against foreign\\nunfair trade practices but do not mandate quotas or tariffs and\\nallow an exemption if U.S. economic security would be harmed by\\nU.S. actions against other countries.\\n    The bill would make it easier for U.S. industries to win\\nrelief from surges of imports of competitive products.\\n    It extends until January 1993, the administration\\'s\\nauthority to negotiate trade agreements as part of the new\\nround of multilateral talks under the General Agreements on\\nTariffs and Trade.\\n    And, it includes provisions to tighten trade rules on\\ncopyrights, patents and telecommunications goods.\\n Reuter\\n']], shape=(1, 1), dtype=string)\n",
      "Preprocessed:  tf.Tensor([[b't h e h o u s e w a y s a n d m e a n s t r a d e s u b c o m m i t t e e u n a n i m o u s l y a p p r o v e d a t o n e d d o w n v e r s i o n o f l e g i s l a t i o n d e s i g n e d t o t o u g h e n u s t r a d e l a w s a n d w e d g e o p e n f o r e i g n m a r k e t s t o m o r e u s g o o d s t h e m e a s u r e n o w g o e s t o t h e f u l l h o u s e w a y s a n d m e a n s c o m m i t t e e n e x t w e e k b u t m a j o r c h a n g e s a r e n o t e x p e c t e d c o n g r e s s i o n a l s o u r c e s s a i d t h i s p r o d u c t c o u l d v e r y w e l l b e t o u g h e n i n g o u r t r a d e p o l i c y a n d d o i n g i t i n a m a n n e r t h a t o p e n s m a r k e t s w i t h o u t t h i s f r i g h t e n i n g w o r d p r o t e c t i o n i s m w a y s a n d m e a n s c h a i r m a n d a n r o s t e n k o w s k i a n i l l i n o i s d e m o c r a t s a i d t h e t r a d e s u b c o m m i t t e e b a c k e d a w a y f r o m m a n d a t i n g s p e c i f i c r e t a l i a t i o n a g a i n s t f o r e i g n c o u n t r i e s f o r u n f a i r f o r e i g n t r a d e p r a c t i c e s a s t h e h o u s e h a d a p p r o v e d i n a t r a d e b i l l l a s t y e a r b u t i t h e l d o v e r f o r t h e f u l l w a y s a n d m e a n s c o m m i t t e e d e b a t e o n a c o n t r o v e r s i a l p l a n b y r e p r i c h a r d g e p h a r d t t o m a n d a t e a r e d u c t i o n i n t r a d e s u r p l u s e s w i t h t h e u s b y c o u n t r i e s s u c h a s j a p a n s o u t h k o r e a a n d t a i w a n g e p h a r d t a m i s s o u r i d e m o c r a t h a s n o t d e c i d e d t h e e x a c t f o r m o f h i s a m e n d m e n t a n a i d e s a i d l a s t y e a r t h e h o u s e a p p r o v e d h i s i d e a t o f o r c e a n a n n u a l t e n p c t t r a d e s u r p l u s c u t b y t h o s e c o u n t r i e s t h e t r a d e b i l l w i l l b e w r a p p e d i n w i t h l e g i s l a t i o n f r o m o t h e r c o m m i t t e e s d e a l i n g w i t h r e l a x a t i o n o f e x p o r t c o n t r o l s i n c e n t i v e s f o r r e s e a r c h e x p a n d e d w o r k e r t r a i n i n g a n d e d u c a t i o n a n d o t h e r e f f o r t s t o i n c r e a s e u s c o m p e t i t i v e n e s s t h e c o m p r e h e n s i v e t r a d e b i l l i s t o b e c o n s i d e r e d b y t h e f u l l h o u s e i n l a t e a p r i l a n d t h e n w i l l b e c o n s i d e r e d b y s e n a t e c o m m i t t e e s i t r e q u i r e s p r e s i d e n t r e a g a n t o r e t a l i a t e a g a i n s t f o r e i g n u n f a i r t r a d e p r a c t i c e s b u t d o n o t m a n d a t e q u o t a s o r t a r i f f s a n d a l l o w a n e x e m p t i o n i f u s e c o n o m i c s e c u r i t y w o u l d b e h a r m e d b y u s a c t i o n s a g a i n s t o t h e r c o u n t r i e s t h e b i l l w o u l d m a k e i t e a s i e r f o r u s i n d u s t r i e s t o w i n r e l i e f f r o m s u r g e s o f i m p o r t s o f c o m p e t i t i v e p r o d u c t s i t e x t e n d s u n t i l j a n u a r y 1 9 9 3 t h e a d m i n i s t r a t i o n s a u t h o r i t y t o n e g o t i a t e t r a d e a g r e e m e n t s a s p a r t o f t h e n e w r o u n d o f m u l t i l a t e r a l t a l k s u n d e r t h e g e n e r a l a g r e e m e n t s o n t a r i f f s a n d t r a d e a n d i t i n c l u d e s p r o v i s i o n s t o t i g h t e n t r a d e r u l e s o n c o p y r i g h t s p a t e n t s a n d t e l e c o m m u n i c a t i o n s g o o d s r e u t e r']], shape=(1, 1), dtype=string)\n"
     ]
    },
    {
     "name": "stderr",
     "output_type": "stream",
     "text": [
      "/opt/homebrew/anaconda3/lib/python3.12/site-packages/sklearn/ensemble/_weight_boosting.py:527: FutureWarning: The SAMME.R algorithm (the default) is deprecated and will be removed in 1.6. Use the SAMME algorithm to circumvent this warning.\n",
      "  warnings.warn(\n"
     ]
    },
    {
     "name": "stdout",
     "output_type": "stream",
     "text": [
      "AdaBoost Accuracy on Test set -> 0.28\n",
      "XGBoost Accuracy on Test set -> 0.38\n",
      "RandomForest Accuracy on Test set -> 0.42\n",
      "DecisionTree Accuracy on Test set -> 0.32\n",
      "\n",
      "\n",
      "* * * * EVALUATION USING RSW_LOW AS PREPROCESSING FUNCTION * * * *\n",
      "Length of the longest sample is: 2018\n",
      "\n",
      "\n",
      "***** FINISHED PROCESSING AND ADAPTING THE TRAINING SET, THE SIMULATION BEGINS *******\n",
      "Sample considered is:  tf.Tensor([[b'The House Ways and Means Trade \\nSubcommittee unanimously approved a toned-down version of\\nlegislation designed to toughen U.S. trade laws and wedge open\\nforeign markets to more U.S. goods.\\n    The measure now goes to the full House Ways and Means\\nCommittee next week, but major changes are not expected,\\ncongressional sources said.\\n    \"This product could very well be toughening our trade policy\\nand doing it in a manner that opens markets without this\\nfrightening word \\'protectionism\\',\" Ways and Means chairman Dan\\nRostenkowski, an Illinois Democrat said.\\n    The trade subcommittee backed away from mandating specific\\nretaliation against foreign countries for unfair foreign trade\\npractices as the House had approved in a trade bill last year.\\n    But it held over for the full Ways and Means Committee\\ndebate on a controversial plan by Rep. Richard Gephardt to\\nmandate a reduction in trade surpluses with the U.S. by\\ncountries such as Japan, South Korea and Taiwan.\\n    Gephardt, a Missouri Democrat, has not decided the exact\\nform of his amendment, an aide said. Last year the House\\napproved his idea to force an annual ten pct trade surplus cut\\nby those countries. \\n    The trade bill will be wrapped in with legislation from\\nother committees dealing with relaxation of export controls,\\nincentives for research, expanded worker training and education\\nand other efforts to increase U.S. competitiveness.\\n    The comprehensive trade bill is to be considered by the\\nfull House in late April and then will be considered by Senate\\ncommittees.\\n    It requires President Reagan to retaliate against foreign\\nunfair trade practices but do not mandate quotas or tariffs and\\nallow an exemption if U.S. economic security would be harmed by\\nU.S. actions against other countries.\\n    The bill would make it easier for U.S. industries to win\\nrelief from surges of imports of competitive products.\\n    It extends until January 1993, the administration\\'s\\nauthority to negotiate trade agreements as part of the new\\nround of multilateral talks under the General Agreements on\\nTariffs and Trade.\\n    And, it includes provisions to tighten trade rules on\\ncopyrights, patents and telecommunications goods.\\n Reuter\\n']], shape=(1, 1), dtype=string)\n",
      "Preprocessed:  tf.Tensor([[b'   t       h       e       h       u       e       w       n       m       e       n       t       r       e       s       u       b       c       e       e       u       n       n       u       l       p       p       r       v       e       n       e       w       n       v       e       r       n       f       l       e       g       l       n       e       g       n       e       u       g       h       e       n       u       s       r       e       l       w       n       w       e       g       e       p       e       n       f       r       e       g       n       r       k       e       r       e       u       s       g       t       h       e       e       u       r       e       n       w       g       e       h       e       f       u       l       l       h       u       e       w       n       m       e       n       c       e       e       n       e       x       w       e       e       k       b       u       j       r       c       h       n       g       e       r       e       n       e       x       p       e       c       e       c       n       g       r       e       n       l       u       r       c       e       t       h       p       r       u       c       c       u       l       v       e       r       w       e       l       l       b       e       u       g       h       e       n       n       g       u       r       r       e       p       l       c       n       n       g       n       n       n       e       r       h       p       e       n       r       k       e       w       h       u       h       f       r       g       h       e       n       n       g       w       r       p       r       e       c       n       w       n       m       e       n       c       h       r       n       d       n       r       e       n       k       w       k       n       i       l       l       n       d       e       c       r       t       h       e       r       e       u       b       c       e       e       b       c       k       e       w       f       r       n       n       g       p       e       c       f       c       r       e       l       n       g       n       f       r       e       g       n       c       u       n       r       e       f       r       u       n       f       r       f       r       e       g       n       r       e       p       r       c       c       e       h       e       h       u       e       h       p       p       r       v       e       n       r       e       b       l       l       l       e       r       b       u       h       e       l       v       e       r       f       r       h       e       f       u       l       l       w       n       m       e       n       c       e       e       e       b       e       n       c       n       r       v       e       r       l       p       l       n       b       r       e       p       r       c       h       r       g       e       p       h       r       n       e       r       e       u       c       n       n       r       e       u       r       p       l       u       e       w       h       h       e       u       s       b       c       u       n       r       e       u       c       h       j       p       n       s       u       h       k       r       e       n       t       w       n       g       e       p       h       r       m       u       r       d       e       c       r       h       n       e       c       e       h       e       e       x       c       f       r       f       h       e       n       e       n       n       e       l       e       r       h       e       h       u       e       p       p       r       v       e       h       e       f       r       c       e       n       n       n       u       l       e       n       p       c       r       e       u       r       p       l       u       c       u       b       h       e       c       u       n       r       e       t       h       e       r       e       b       l       l       w       l       l       b       e       w       r       p       p       e       n       w       h       l       e       g       l       n       f       r       h       e       r       c       e       e       e       l       n       g       w       h       r       e       l       x       n       f       e       x       p       r       c       n       r       l       n       c       e       n       v       e       f       r       r       e       e       r       c       h       e       x       p       n       e       w       r       k       e       r       r       n       n       g       n       e       u       c       n       n       h       e       r       e       f       f       r       n       c       r       e       e       u       s       c       p       e       v       e       n       e       t       h       e       c       p       r       e       h       e       n       v       e       r       e       b       l       l       b       e       c       n       e       r       e       b       h       e       f       u       l       l       h       u       e       n       l       e       a       p       r       l       n       h       e       n       w       l       l       b       e       c       n       e       r       e       b       s       e       n       e       c       e       e       i       r       e       q       u       r       e       p       r       e       e       n       r       e       g       n       r       e       l       e       g       n       f       r       e       g       n       u       n       f       r       r       e       p       r       c       c       e       b       u       n       n       e       q       u       r       r       f       f       n       l       l       w       n       e       x       e       p       n       f       u       s       e       c       n       c       e       c       u       r       w       u       l       b       e       h       r       e       b       u       s       c       n       g       n       h       e       r       c       u       n       r       e       t       h       e       b       l       l       w       u       l       k       e       e       e       r       f       r       u       s       n       u       r       e       w       n       r       e       l       e       f       f       r       u       r       g       e       f       p       r       f       c       p       e       v       e       p       r       u       c       i       e       x       e       n       u       n       l       j       n       u       r       1       9       9       3       h       e       n       r       n       u       h       r       n       e       g       e       r       e       g       r       e       e       e       n       p       r       f       h       e       n       e       w       r       u       n       f       u       l       l       e       r       l       l       k       u       n       e       r       h       e       g       e       n       e       r       l       a       g       r       e       e       e       n       n       t       r       f       f       n       t       r       e       a       n       n       c       l       u       e       p       r       v       n       g       h       e       n       r       e       r       u       l       e       n       c       p       r       g       h       p       e       n       n       e       l       e       c       u       n       c       n       g       r       e       u       e       r   ']], shape=(1, 1), dtype=string)\n"
     ]
    },
    {
     "name": "stderr",
     "output_type": "stream",
     "text": [
      "/opt/homebrew/anaconda3/lib/python3.12/site-packages/sklearn/ensemble/_weight_boosting.py:527: FutureWarning: The SAMME.R algorithm (the default) is deprecated and will be removed in 1.6. Use the SAMME algorithm to circumvent this warning.\n",
      "  warnings.warn(\n"
     ]
    },
    {
     "name": "stdout",
     "output_type": "stream",
     "text": [
      "AdaBoost Accuracy on Test set -> 0.46\n",
      "XGBoost Accuracy on Test set -> 0.36\n",
      "RandomForest Accuracy on Test set -> 0.48\n",
      "DecisionTree Accuracy on Test set -> 0.42\n",
      "\n",
      "\n",
      "* * * * EVALUATION USING RSW_STM AS PREPROCESSING FUNCTION * * * *\n",
      "Length of the longest sample is: 2018\n",
      "\n",
      "\n",
      "***** FINISHED PROCESSING AND ADAPTING THE TRAINING SET, THE SIMULATION BEGINS *******\n",
      "Sample considered is:  tf.Tensor([[b'The House Ways and Means Trade \\nSubcommittee unanimously approved a toned-down version of\\nlegislation designed to toughen U.S. trade laws and wedge open\\nforeign markets to more U.S. goods.\\n    The measure now goes to the full House Ways and Means\\nCommittee next week, but major changes are not expected,\\ncongressional sources said.\\n    \"This product could very well be toughening our trade policy\\nand doing it in a manner that opens markets without this\\nfrightening word \\'protectionism\\',\" Ways and Means chairman Dan\\nRostenkowski, an Illinois Democrat said.\\n    The trade subcommittee backed away from mandating specific\\nretaliation against foreign countries for unfair foreign trade\\npractices as the House had approved in a trade bill last year.\\n    But it held over for the full Ways and Means Committee\\ndebate on a controversial plan by Rep. Richard Gephardt to\\nmandate a reduction in trade surpluses with the U.S. by\\ncountries such as Japan, South Korea and Taiwan.\\n    Gephardt, a Missouri Democrat, has not decided the exact\\nform of his amendment, an aide said. Last year the House\\napproved his idea to force an annual ten pct trade surplus cut\\nby those countries. \\n    The trade bill will be wrapped in with legislation from\\nother committees dealing with relaxation of export controls,\\nincentives for research, expanded worker training and education\\nand other efforts to increase U.S. competitiveness.\\n    The comprehensive trade bill is to be considered by the\\nfull House in late April and then will be considered by Senate\\ncommittees.\\n    It requires President Reagan to retaliate against foreign\\nunfair trade practices but do not mandate quotas or tariffs and\\nallow an exemption if U.S. economic security would be harmed by\\nU.S. actions against other countries.\\n    The bill would make it easier for U.S. industries to win\\nrelief from surges of imports of competitive products.\\n    It extends until January 1993, the administration\\'s\\nauthority to negotiate trade agreements as part of the new\\nround of multilateral talks under the General Agreements on\\nTariffs and Trade.\\n    And, it includes provisions to tighten trade rules on\\ncopyrights, patents and telecommunications goods.\\n Reuter\\n']], shape=(1, 1), dtype=string)\n",
      "Preprocessed:  tf.Tensor([[b't h e h u e w n m e n t r e s u b c e e u n n u l p p r v e n e w n v e r n f l e g l n e g n e u g h e n u s r e l w n w e g e p e n f r e g n r k e r e u s g t h e e u r e n w g e h e f u l l h u e w n m e n c e e n e x w e e k b u j r c h n g e r e n e x p e c e c n g r e n l u r c e t h p r u c c u l v e r w e l l b e u g h e n n g u r r e p l c n n g n n n e r h p e n r k e w h u h f r g h e n n g w r p r e c n w n m e n c h r n d n r e n k w k n i l l n d e c r t h e r e u b c e e b c k e w f r n n g p e c f c r e l n g n f r e g n c u n r e f r u n f r f r e g n r e p r c c e h e h u e h p p r v e n r e b l l l e r b u h e l v e r f r h e f u l l w n m e n c e e e b e n c n r v e r l p l n b r e p r c h r g e p h r n e r e u c n n r e u r p l u e w h h e u s b c u n r e u c h j p n s u h k r e n t w n g e p h r m u r d e c r h n e c e h e e x c f r f h e n e n n e l e r h e h u e p p r v e h e f r c e n n n u l e n p c r e u r p l u c u b h e c u n r e t h e r e b l l w l l b e w r p p e n w h l e g l n f r h e r c e e e l n g w h r e l x n f e x p r c n r l n c e n v e f r r e e r c h e x p n e w r k e r r n n g n e u c n n h e r e f f r n c r e e u s c p e v e n e t h e c p r e h e n v e r e b l l b e c n e r e b h e f u l l h u e n l e a p r l n h e n w l l b e c n e r e b s e n e c e e i r e q u r e p r e e n r e g n r e l e g n f r e g n u n f r r e p r c c e b u n n e q u r r f f n l l w n e x e p n f u s e c n c e c u r w u l b e h r e b u s c n g n h e r c u n r e t h e b l l w u l k e e e r f r u s n u r e w n r e l e f f r u r g e f p r f c p e v e p r u c i e x e n u n l j n u r 1 9 9 3 h e n r n u h r n e g e r e g r e e e n p r f h e n e w r u n f u l l e r l l k u n e r h e g e n e r l a g r e e e n n t r f f n t r e a n n c l u e p r v n g h e n r e r u l e n c p r g h p e n n e l e c u n c n g r e u e r']], shape=(1, 1), dtype=string)\n"
     ]
    },
    {
     "name": "stderr",
     "output_type": "stream",
     "text": [
      "/opt/homebrew/anaconda3/lib/python3.12/site-packages/sklearn/ensemble/_weight_boosting.py:527: FutureWarning: The SAMME.R algorithm (the default) is deprecated and will be removed in 1.6. Use the SAMME algorithm to circumvent this warning.\n",
      "  warnings.warn(\n"
     ]
    },
    {
     "name": "stdout",
     "output_type": "stream",
     "text": [
      "AdaBoost Accuracy on Test set -> 0.46\n",
      "XGBoost Accuracy on Test set -> 0.36\n",
      "RandomForest Accuracy on Test set -> 0.48\n",
      "DecisionTree Accuracy on Test set -> 0.42\n",
      "\n",
      "\n",
      "* * * * EVALUATION USING STM_LOW AS PREPROCESSING FUNCTION * * * *\n",
      "Length of the longest sample is: 3620\n",
      "\n",
      "\n",
      "***** FINISHED PROCESSING AND ADAPTING THE TRAINING SET, THE SIMULATION BEGINS *******\n",
      "Sample considered is:  tf.Tensor([[b'The House Ways and Means Trade \\nSubcommittee unanimously approved a toned-down version of\\nlegislation designed to toughen U.S. trade laws and wedge open\\nforeign markets to more U.S. goods.\\n    The measure now goes to the full House Ways and Means\\nCommittee next week, but major changes are not expected,\\ncongressional sources said.\\n    \"This product could very well be toughening our trade policy\\nand doing it in a manner that opens markets without this\\nfrightening word \\'protectionism\\',\" Ways and Means chairman Dan\\nRostenkowski, an Illinois Democrat said.\\n    The trade subcommittee backed away from mandating specific\\nretaliation against foreign countries for unfair foreign trade\\npractices as the House had approved in a trade bill last year.\\n    But it held over for the full Ways and Means Committee\\ndebate on a controversial plan by Rep. Richard Gephardt to\\nmandate a reduction in trade surpluses with the U.S. by\\ncountries such as Japan, South Korea and Taiwan.\\n    Gephardt, a Missouri Democrat, has not decided the exact\\nform of his amendment, an aide said. Last year the House\\napproved his idea to force an annual ten pct trade surplus cut\\nby those countries. \\n    The trade bill will be wrapped in with legislation from\\nother committees dealing with relaxation of export controls,\\nincentives for research, expanded worker training and education\\nand other efforts to increase U.S. competitiveness.\\n    The comprehensive trade bill is to be considered by the\\nfull House in late April and then will be considered by Senate\\ncommittees.\\n    It requires President Reagan to retaliate against foreign\\nunfair trade practices but do not mandate quotas or tariffs and\\nallow an exemption if U.S. economic security would be harmed by\\nU.S. actions against other countries.\\n    The bill would make it easier for U.S. industries to win\\nrelief from surges of imports of competitive products.\\n    It extends until January 1993, the administration\\'s\\nauthority to negotiate trade agreements as part of the new\\nround of multilateral talks under the General Agreements on\\nTariffs and Trade.\\n    And, it includes provisions to tighten trade rules on\\ncopyrights, patents and telecommunications goods.\\n Reuter\\n']], shape=(1, 1), dtype=string)\n",
      "Preprocessed:  tf.Tensor([[b'   t       h       e       h       o       u       s       e       w       a       y       s       a       n       d       m       e       a       n       s       t       r       a       d       e       s       u       b       c       o       m       m       i       t       t       e       e       u       n       a       n       i       m       o       u       s       l       y       a       p       p       r       o       v       e       d       a       t       o       n       e       d       d       o       w       n       v       e       r       s       i       o       n       o       f       l       e       g       i       s       l       a       t       i       o       n       d       e       s       i       g       n       e       d       t       o       t       o       u       g       h       e       n       u       s       t       r       a       d       e       l       a       w       s       a       n       d       w       e       d       g       e       o       p       e       n       f       o       r       e       i       g       n       m       a       r       k       e       t       s       t       o       m       o       r       e       u       s       g       o       o       d       s       t       h       e       m       e       a       s       u       r       e       n       o       w       g       o       e       s       t       o       t       h       e       f       u       l       l       h       o       u       s       e       w       a       y       s       a       n       d       m       e       a       n       s       c       o       m       m       i       t       t       e       e       n       e       x       t       w       e       e       k       b       u       t       m       a       j       o       r       c       h       a       n       g       e       s       a       r       e       n       o       t       e       x       p       e       c       t       e       d       c       o       n       g       r       e       s       s       i       o       n       a       l       s       o       u       r       c       e       s       s       a       i       d       t       h       i       s       p       r       o       d       u       c       t       c       o       u       l       d       v       e       r       y       w       e       l       l       b       e       t       o       u       g       h       e       n       i       n       g       o       u       r       t       r       a       d       e       p       o       l       i       c       y       a       n       d       d       o       i       n       g       i       t       i       n       a       m       a       n       n       e       r       t       h       a       t       o       p       e       n       s       m       a       r       k       e       t       s       w       i       t       h       o       u       t       t       h       i       s       f       r       i       g       h       t       e       n       i       n       g       w       o       r       d       p       r       o       t       e       c       t       i       o       n       i       s       m       w       a       y       s       a       n       d       m       e       a       n       s       c       h       a       i       r       m       a       n       d       a       n       r       o       s       t       e       n       k       o       w       s       k       i       a       n       i       l       l       i       n       o       i       s       d       e       m       o       c       r       a       t       s       a       i       d       t       h       e       t       r       a       d       e       s       u       b       c       o       m       m       i       t       t       e       e       b       a       c       k       e       d       a       w       a       y       f       r       o       m       m       a       n       d       a       t       i       n       g       s       p       e       c       i       f       i       c       r       e       t       a       l       i       a       t       i       o       n       a       g       a       i       n       s       t       f       o       r       e       i       g       n       c       o       u       n       t       r       i       e       s       f       o       r       u       n       f       a       i       r       f       o       r       e       i       g       n       t       r       a       d       e       p       r       a       c       t       i       c       e       s       a       s       t       h       e       h       o       u       s       e       h       a       d       a       p       p       r       o       v       e       d       i       n       a       t       r       a       d       e       b       i       l       l       l       a       s       t       y       e       a       r       b       u       t       i       t       h       e       l       d       o       v       e       r       f       o       r       t       h       e       f       u       l       l       w       a       y       s       a       n       d       m       e       a       n       s       c       o       m       m       i       t       t       e       e       d       e       b       a       t       e       o       n       a       c       o       n       t       r       o       v       e       r       s       i       a       l       p       l       a       n       b       y       r       e       p       r       i       c       h       a       r       d       g       e       p       h       a       r       d       t       t       o       m       a       n       d       a       t       e       a       r       e       d       u       c       t       i       o       n       i       n       t       r       a       d       e       s       u       r       p       l       u       s       e       s       w       i       t       h       t       h       e       u       s       b       y       c       o       u       n       t       r       i       e       s       s       u       c       h       a       s       j       a       p       a       n       s       o       u       t       h       k       o       r       e       a       a       n       d       t       a       i       w       a       n       g       e       p       h       a       r       d       t       a       m       i       s       s       o       u       r       i       d       e       m       o       c       r       a       t       h       a       s       n       o       t       d       e       c       i       d       e       d       t       h       e       e       x       a       c       t       f       o       r       m       o       f       h       i       s       a       m       e       n       d       m       e       n       t       a       n       a       i       d       e       s       a       i       d       l       a       s       t       y       e       a       r       t       h       e       h       o       u       s       e       a       p       p       r       o       v       e       d       h       i       s       i       d       e       a       t       o       f       o       r       c       e       a       n       a       n       n       u       a       l       t       e       n       p       c       t       t       r       a       d       e       s       u       r       p       l       u       s       c       u       t       b       y       t       h       o       s       e       c       o       u       n       t       r       i       e       s       t       h       e       t       r       a       d       e       b       i       l       l       w       i       l       l       b       e       w       r       a       p       p       e       d       i       n       w       i       t       h       l       e       g       i       s       l       a       t       i       o       n       f       r       o       m       o       t       h       e       r       c       o       m       m       i       t       t       e       e       s       d       e       a       l       i       n       g       w       i       t       h       r       e       l       a       x       a       t       i       o       n       o       f       e       x       p       o       r       t       c       o       n       t       r       o       l       s       i       n       c       e       n       t       i       v       e       s       f       o       r       r       e       s       e       a       r       c       h       e       x       p       a       n       d       e       d       w       o       r       k       e       r       t       r       a       i       n       i       n       g       a       n       d       e       d       u       c       a       t       i       o       n       a       n       d       o       t       h       e       r       e       f       f       o       r       t       s       t       o       i       n       c       r       e       a       s       e       u       s       c       o       m       p       e       t       i       t       i       v       e       n       e       s       s       t       h       e       c       o       m       p       r       e       h       e       n       s       i       v       e       t       r       a       d       e       b       i       l       l       i       s       t       o       b       e       c       o       n       s       i       d       e       r       e       d       b       y       t       h       e       f       u       l       l       h       o       u       s       e       i       n       l       a       t       e       a       p       r       i       l       a       n       d       t       h       e       n       w       i       l       l       b       e       c       o       n       s       i       d       e       r       e       d       b       y       s       e       n       a       t       e       c       o       m       m       i       t       t       e       e       s       i       t       r       e       q       u       i       r       e       s       p       r       e       s       i       d       e       n       t       r       e       a       g       a       n       t       o       r       e       t       a       l       i       a       t       e       a       g       a       i       n       s       t       f       o       r       e       i       g       n       u       n       f       a       i       r       t       r       a       d       e       p       r       a       c       t       i       c       e       s       b       u       t       d       o       n       o       t       m       a       n       d       a       t       e       q       u       o       t       a       s       o       r       t       a       r       i       f       f       s       a       n       d       a       l       l       o       w       a       n       e       x       e       m       p       t       i       o       n       i       f       u       s       e       c       o       n       o       m       i       c       s       e       c       u       r       i       t       y       w       o       u       l       d       b       e       h       a       r       m       e       d       b       y       u       s       a       c       t       i       o       n       s       a       g       a       i       n       s       t       o       t       h       e       r       c       o       u       n       t       r       i       e       s       t       h       e       b       i       l       l       w       o       u       l       d       m       a       k       e       i       t       e       a       s       i       e       r       f       o       r       u       s       i       n       d       u       s       t       r       i       e       s       t       o       w       i       n       r       e       l       i       e       f       f       r       o       m       s       u       r       g       e       s       o       f       i       m       p       o       r       t       s       o       f       c       o       m       p       e       t       i       t       i       v       e       p       r       o       d       u       c       t       s       i       t       e       x       t       e       n       d       s       u       n       t       i       l       j       a       n       u       a       r       y       1       9       9       3       t       h       e       a       d       m       i       n       i       s       t       r       a       t       i       o       n       s       a       u       t       h       o       r       i       t       y       t       o       n       e       g       o       t       i       a       t       e       t       r       a       d       e       a       g       r       e       e       m       e       n       t       s       a       s       p       a       r       t       o       f       t       h       e       n       e       w       r       o       u       n       d       o       f       m       u       l       t       i       l       a       t       e       r       a       l       t       a       l       k       s       u       n       d       e       r       t       h       e       g       e       n       e       r       a       l       a       g       r       e       e       m       e       n       t       s       o       n       t       a       r       i       f       f       s       a       n       d       t       r       a       d       e       a       n       d       i       t       i       n       c       l       u       d       e       s       p       r       o       v       i       s       i       o       n       s       t       o       t       i       g       h       t       e       n       t       r       a       d       e       r       u       l       e       s       o       n       c       o       p       y       r       i       g       h       t       s       p       a       t       e       n       t       s       a       n       d       t       e       l       e       c       o       m       m       u       n       i       c       a       t       i       o       n       s       g       o       o       d       s       r       e       u       t       e       r   ']], shape=(1, 1), dtype=string)\n"
     ]
    },
    {
     "name": "stderr",
     "output_type": "stream",
     "text": [
      "/opt/homebrew/anaconda3/lib/python3.12/site-packages/sklearn/ensemble/_weight_boosting.py:527: FutureWarning: The SAMME.R algorithm (the default) is deprecated and will be removed in 1.6. Use the SAMME algorithm to circumvent this warning.\n",
      "  warnings.warn(\n"
     ]
    },
    {
     "name": "stdout",
     "output_type": "stream",
     "text": [
      "AdaBoost Accuracy on Test set -> 0.28\n",
      "XGBoost Accuracy on Test set -> 0.38\n",
      "RandomForest Accuracy on Test set -> 0.42\n",
      "DecisionTree Accuracy on Test set -> 0.32\n",
      "\n",
      "\n",
      "* * * * EVALUATION USING STM_RSW AS PREPROCESSING FUNCTION * * * *\n",
      "Length of the longest sample is: 1973\n",
      "\n",
      "\n",
      "***** FINISHED PROCESSING AND ADAPTING THE TRAINING SET, THE SIMULATION BEGINS *******\n",
      "Sample considered is:  tf.Tensor([[b'The House Ways and Means Trade \\nSubcommittee unanimously approved a toned-down version of\\nlegislation designed to toughen U.S. trade laws and wedge open\\nforeign markets to more U.S. goods.\\n    The measure now goes to the full House Ways and Means\\nCommittee next week, but major changes are not expected,\\ncongressional sources said.\\n    \"This product could very well be toughening our trade policy\\nand doing it in a manner that opens markets without this\\nfrightening word \\'protectionism\\',\" Ways and Means chairman Dan\\nRostenkowski, an Illinois Democrat said.\\n    The trade subcommittee backed away from mandating specific\\nretaliation against foreign countries for unfair foreign trade\\npractices as the House had approved in a trade bill last year.\\n    But it held over for the full Ways and Means Committee\\ndebate on a controversial plan by Rep. Richard Gephardt to\\nmandate a reduction in trade surpluses with the U.S. by\\ncountries such as Japan, South Korea and Taiwan.\\n    Gephardt, a Missouri Democrat, has not decided the exact\\nform of his amendment, an aide said. Last year the House\\napproved his idea to force an annual ten pct trade surplus cut\\nby those countries. \\n    The trade bill will be wrapped in with legislation from\\nother committees dealing with relaxation of export controls,\\nincentives for research, expanded worker training and education\\nand other efforts to increase U.S. competitiveness.\\n    The comprehensive trade bill is to be considered by the\\nfull House in late April and then will be considered by Senate\\ncommittees.\\n    It requires President Reagan to retaliate against foreign\\nunfair trade practices but do not mandate quotas or tariffs and\\nallow an exemption if U.S. economic security would be harmed by\\nU.S. actions against other countries.\\n    The bill would make it easier for U.S. industries to win\\nrelief from surges of imports of competitive products.\\n    It extends until January 1993, the administration\\'s\\nauthority to negotiate trade agreements as part of the new\\nround of multilateral talks under the General Agreements on\\nTariffs and Trade.\\n    And, it includes provisions to tighten trade rules on\\ncopyrights, patents and telecommunications goods.\\n Reuter\\n']], shape=(1, 1), dtype=string)\n",
      "Preprocessed:  tf.Tensor([[b'h e h u e w n e n r e u b c e e u n n u l p p r v e n e w n v e r n f l e g l n e g n e u g h e n u r e l w n w e g e p e n f r e g n r k e r e u g h e e u r e n w g e h e f u l l h u e w n e n c e e n e x w e e k b u j r c h n g e r e n e x p e c e c n g r e n l u r c e h p r u c c u l v e r w e l l b e u g h e n n g u r r e p l c n n g n n n e r h p e n r k e w h u h f r g h e n n g w r p r e c n w n e n c h r n n r e n k w k n l l n e c r h e r e u b c e e b c k e w f r n n g p e c f c r e l n g n f r e g n c u n r e f r u n f r f r e g n r e p r c c e h e h u e h p p r v e n r e b l l l e r b u h e l v e r f r h e f u l l w n e n c e e e b e n c n r v e r l p l n b r e p r c h r g e p h r n e r e u c n n r e u r p l u e w h h e u b c u n r e u c h j p n u h k r e n w n g e p h r u r e c r h n e c e h e e x c f r f h e n e n n e l e r h e h u e p p r v e h e f r c e n n n u l e n p c r e u r p l u c u b h e c u n r e h e r e b l l w l l b e w r p p e n w h l e g l n f r h e r c e e e l n g w h r e l x n f e x p r c n r l n c e n v e f r r e e r c h e x p n e w r k e r r n n g n e u c n n h e r e f f r n c r e e u c p e v e n e h e c p r e h e n v e r e b l l b e c n e r e b h e f u l l h u e n l e p r l n h e n w l l b e c n e r e b e n e c e e r e q u r e p r e e n r e g n r e l e g n f r e g n u n f r r e p r c c e b u n n e q u r r f f n l l w n e x e p n f u e c n c e c u r w u l b e h r e b u c n g n h e r c u n r e h e b l l w u l k e e e r f r u n u r e w n r e l e f f r u r g e f p r f c p e v e p r u c e x e n u n l j n u r 1 9 9 3 h e n r n u h r n e g e r e g r e e e n p r f h e n e w r u n f u l l e r l l k u n e r h e g e n e r l g r e e e n n r f f n r e n n c l u e p r v n g h e n r e r u l e n c p r g h p e n n e l e c u n c n g r e u e r']], shape=(1, 1), dtype=string)\n"
     ]
    },
    {
     "name": "stderr",
     "output_type": "stream",
     "text": [
      "/opt/homebrew/anaconda3/lib/python3.12/site-packages/sklearn/ensemble/_weight_boosting.py:527: FutureWarning: The SAMME.R algorithm (the default) is deprecated and will be removed in 1.6. Use the SAMME algorithm to circumvent this warning.\n",
      "  warnings.warn(\n"
     ]
    },
    {
     "name": "stdout",
     "output_type": "stream",
     "text": [
      "AdaBoost Accuracy on Test set -> 0.28\n",
      "XGBoost Accuracy on Test set -> 0.38\n",
      "RandomForest Accuracy on Test set -> 0.46\n",
      "DecisionTree Accuracy on Test set -> 0.38\n",
      "\n",
      "\n",
      "* * * * EVALUATION USING LOW_STM_RSW AS PREPROCESSING FUNCTION * * * *\n",
      "Length of the longest sample is: 1973\n",
      "\n",
      "\n",
      "***** FINISHED PROCESSING AND ADAPTING THE TRAINING SET, THE SIMULATION BEGINS *******\n",
      "Sample considered is:  tf.Tensor([[b'The House Ways and Means Trade \\nSubcommittee unanimously approved a toned-down version of\\nlegislation designed to toughen U.S. trade laws and wedge open\\nforeign markets to more U.S. goods.\\n    The measure now goes to the full House Ways and Means\\nCommittee next week, but major changes are not expected,\\ncongressional sources said.\\n    \"This product could very well be toughening our trade policy\\nand doing it in a manner that opens markets without this\\nfrightening word \\'protectionism\\',\" Ways and Means chairman Dan\\nRostenkowski, an Illinois Democrat said.\\n    The trade subcommittee backed away from mandating specific\\nretaliation against foreign countries for unfair foreign trade\\npractices as the House had approved in a trade bill last year.\\n    But it held over for the full Ways and Means Committee\\ndebate on a controversial plan by Rep. Richard Gephardt to\\nmandate a reduction in trade surpluses with the U.S. by\\ncountries such as Japan, South Korea and Taiwan.\\n    Gephardt, a Missouri Democrat, has not decided the exact\\nform of his amendment, an aide said. Last year the House\\napproved his idea to force an annual ten pct trade surplus cut\\nby those countries. \\n    The trade bill will be wrapped in with legislation from\\nother committees dealing with relaxation of export controls,\\nincentives for research, expanded worker training and education\\nand other efforts to increase U.S. competitiveness.\\n    The comprehensive trade bill is to be considered by the\\nfull House in late April and then will be considered by Senate\\ncommittees.\\n    It requires President Reagan to retaliate against foreign\\nunfair trade practices but do not mandate quotas or tariffs and\\nallow an exemption if U.S. economic security would be harmed by\\nU.S. actions against other countries.\\n    The bill would make it easier for U.S. industries to win\\nrelief from surges of imports of competitive products.\\n    It extends until January 1993, the administration\\'s\\nauthority to negotiate trade agreements as part of the new\\nround of multilateral talks under the General Agreements on\\nTariffs and Trade.\\n    And, it includes provisions to tighten trade rules on\\ncopyrights, patents and telecommunications goods.\\n Reuter\\n']], shape=(1, 1), dtype=string)\n",
      "Preprocessed:  tf.Tensor([[b'h e h u e w n e n r e u b c e e u n n u l p p r v e n e w n v e r n f l e g l n e g n e u g h e n u r e l w n w e g e p e n f r e g n r k e r e u g h e e u r e n w g e h e f u l l h u e w n e n c e e n e x w e e k b u j r c h n g e r e n e x p e c e c n g r e n l u r c e h p r u c c u l v e r w e l l b e u g h e n n g u r r e p l c n n g n n n e r h p e n r k e w h u h f r g h e n n g w r p r e c n w n e n c h r n n r e n k w k n l l n e c r h e r e u b c e e b c k e w f r n n g p e c f c r e l n g n f r e g n c u n r e f r u n f r f r e g n r e p r c c e h e h u e h p p r v e n r e b l l l e r b u h e l v e r f r h e f u l l w n e n c e e e b e n c n r v e r l p l n b r e p r c h r g e p h r n e r e u c n n r e u r p l u e w h h e u b c u n r e u c h j p n u h k r e n w n g e p h r u r e c r h n e c e h e e x c f r f h e n e n n e l e r h e h u e p p r v e h e f r c e n n n u l e n p c r e u r p l u c u b h e c u n r e h e r e b l l w l l b e w r p p e n w h l e g l n f r h e r c e e e l n g w h r e l x n f e x p r c n r l n c e n v e f r r e e r c h e x p n e w r k e r r n n g n e u c n n h e r e f f r n c r e e u c p e v e n e h e c p r e h e n v e r e b l l b e c n e r e b h e f u l l h u e n l e p r l n h e n w l l b e c n e r e b e n e c e e r e q u r e p r e e n r e g n r e l e g n f r e g n u n f r r e p r c c e b u n n e q u r r f f n l l w n e x e p n f u e c n c e c u r w u l b e h r e b u c n g n h e r c u n r e h e b l l w u l k e e e r f r u n u r e w n r e l e f f r u r g e f p r f c p e v e p r u c e x e n u n l j n u r 1 9 9 3 h e n r n u h r n e g e r e g r e e e n p r f h e n e w r u n f u l l e r l l k u n e r h e g e n e r l g r e e e n n r f f n r e n n c l u e p r v n g h e n r e r u l e n c p r g h p e n n e l e c u n c n g r e u e r']], shape=(1, 1), dtype=string)\n"
     ]
    },
    {
     "name": "stderr",
     "output_type": "stream",
     "text": [
      "/opt/homebrew/anaconda3/lib/python3.12/site-packages/sklearn/ensemble/_weight_boosting.py:527: FutureWarning: The SAMME.R algorithm (the default) is deprecated and will be removed in 1.6. Use the SAMME algorithm to circumvent this warning.\n",
      "  warnings.warn(\n"
     ]
    },
    {
     "name": "stdout",
     "output_type": "stream",
     "text": [
      "AdaBoost Accuracy on Test set -> 0.28\n",
      "XGBoost Accuracy on Test set -> 0.38\n",
      "RandomForest Accuracy on Test set -> 0.46\n",
      "DecisionTree Accuracy on Test set -> 0.38\n",
      "\n",
      "\n",
      "* * * * EVALUATION USING LOW_RSW_STM AS PREPROCESSING FUNCTION * * * *\n",
      "Length of the longest sample is: 1973\n",
      "\n",
      "\n",
      "***** FINISHED PROCESSING AND ADAPTING THE TRAINING SET, THE SIMULATION BEGINS *******\n",
      "Sample considered is:  tf.Tensor([[b'The House Ways and Means Trade \\nSubcommittee unanimously approved a toned-down version of\\nlegislation designed to toughen U.S. trade laws and wedge open\\nforeign markets to more U.S. goods.\\n    The measure now goes to the full House Ways and Means\\nCommittee next week, but major changes are not expected,\\ncongressional sources said.\\n    \"This product could very well be toughening our trade policy\\nand doing it in a manner that opens markets without this\\nfrightening word \\'protectionism\\',\" Ways and Means chairman Dan\\nRostenkowski, an Illinois Democrat said.\\n    The trade subcommittee backed away from mandating specific\\nretaliation against foreign countries for unfair foreign trade\\npractices as the House had approved in a trade bill last year.\\n    But it held over for the full Ways and Means Committee\\ndebate on a controversial plan by Rep. Richard Gephardt to\\nmandate a reduction in trade surpluses with the U.S. by\\ncountries such as Japan, South Korea and Taiwan.\\n    Gephardt, a Missouri Democrat, has not decided the exact\\nform of his amendment, an aide said. Last year the House\\napproved his idea to force an annual ten pct trade surplus cut\\nby those countries. \\n    The trade bill will be wrapped in with legislation from\\nother committees dealing with relaxation of export controls,\\nincentives for research, expanded worker training and education\\nand other efforts to increase U.S. competitiveness.\\n    The comprehensive trade bill is to be considered by the\\nfull House in late April and then will be considered by Senate\\ncommittees.\\n    It requires President Reagan to retaliate against foreign\\nunfair trade practices but do not mandate quotas or tariffs and\\nallow an exemption if U.S. economic security would be harmed by\\nU.S. actions against other countries.\\n    The bill would make it easier for U.S. industries to win\\nrelief from surges of imports of competitive products.\\n    It extends until January 1993, the administration\\'s\\nauthority to negotiate trade agreements as part of the new\\nround of multilateral talks under the General Agreements on\\nTariffs and Trade.\\n    And, it includes provisions to tighten trade rules on\\ncopyrights, patents and telecommunications goods.\\n Reuter\\n']], shape=(1, 1), dtype=string)\n",
      "Preprocessed:  tf.Tensor([[b'h e h u e w n e n r e u b c e e u n n u l p p r v e n e w n v e r n f l e g l n e g n e u g h e n u r e l w n w e g e p e n f r e g n r k e r e u g h e e u r e n w g e h e f u l l h u e w n e n c e e n e x w e e k b u j r c h n g e r e n e x p e c e c n g r e n l u r c e h p r u c c u l v e r w e l l b e u g h e n n g u r r e p l c n n g n n n e r h p e n r k e w h u h f r g h e n n g w r p r e c n w n e n c h r n n r e n k w k n l l n e c r h e r e u b c e e b c k e w f r n n g p e c f c r e l n g n f r e g n c u n r e f r u n f r f r e g n r e p r c c e h e h u e h p p r v e n r e b l l l e r b u h e l v e r f r h e f u l l w n e n c e e e b e n c n r v e r l p l n b r e p r c h r g e p h r n e r e u c n n r e u r p l u e w h h e u b c u n r e u c h j p n u h k r e n w n g e p h r u r e c r h n e c e h e e x c f r f h e n e n n e l e r h e h u e p p r v e h e f r c e n n n u l e n p c r e u r p l u c u b h e c u n r e h e r e b l l w l l b e w r p p e n w h l e g l n f r h e r c e e e l n g w h r e l x n f e x p r c n r l n c e n v e f r r e e r c h e x p n e w r k e r r n n g n e u c n n h e r e f f r n c r e e u c p e v e n e h e c p r e h e n v e r e b l l b e c n e r e b h e f u l l h u e n l e p r l n h e n w l l b e c n e r e b e n e c e e r e q u r e p r e e n r e g n r e l e g n f r e g n u n f r r e p r c c e b u n n e q u r r f f n l l w n e x e p n f u e c n c e c u r w u l b e h r e b u c n g n h e r c u n r e h e b l l w u l k e e e r f r u n u r e w n r e l e f f r u r g e f p r f c p e v e p r u c e x e n u n l j n u r 1 9 9 3 h e n r n u h r n e g e r e g r e e e n p r f h e n e w r u n f u l l e r l l k u n e r h e g e n e r l g r e e e n n r f f n r e n n c l u e p r v n g h e n r e r u l e n c p r g h p e n n e l e c u n c n g r e u e r']], shape=(1, 1), dtype=string)\n"
     ]
    },
    {
     "name": "stderr",
     "output_type": "stream",
     "text": [
      "/opt/homebrew/anaconda3/lib/python3.12/site-packages/sklearn/ensemble/_weight_boosting.py:527: FutureWarning: The SAMME.R algorithm (the default) is deprecated and will be removed in 1.6. Use the SAMME algorithm to circumvent this warning.\n",
      "  warnings.warn(\n"
     ]
    },
    {
     "name": "stdout",
     "output_type": "stream",
     "text": [
      "AdaBoost Accuracy on Test set -> 0.28\n",
      "XGBoost Accuracy on Test set -> 0.38\n",
      "RandomForest Accuracy on Test set -> 0.46\n",
      "DecisionTree Accuracy on Test set -> 0.38\n",
      "\n",
      "\n",
      "* * * * EVALUATION USING STM_LOW_RSW AS PREPROCESSING FUNCTION * * * *\n",
      "Length of the longest sample is: 1973\n",
      "\n",
      "\n",
      "***** FINISHED PROCESSING AND ADAPTING THE TRAINING SET, THE SIMULATION BEGINS *******\n",
      "Sample considered is:  tf.Tensor([[b'The House Ways and Means Trade \\nSubcommittee unanimously approved a toned-down version of\\nlegislation designed to toughen U.S. trade laws and wedge open\\nforeign markets to more U.S. goods.\\n    The measure now goes to the full House Ways and Means\\nCommittee next week, but major changes are not expected,\\ncongressional sources said.\\n    \"This product could very well be toughening our trade policy\\nand doing it in a manner that opens markets without this\\nfrightening word \\'protectionism\\',\" Ways and Means chairman Dan\\nRostenkowski, an Illinois Democrat said.\\n    The trade subcommittee backed away from mandating specific\\nretaliation against foreign countries for unfair foreign trade\\npractices as the House had approved in a trade bill last year.\\n    But it held over for the full Ways and Means Committee\\ndebate on a controversial plan by Rep. Richard Gephardt to\\nmandate a reduction in trade surpluses with the U.S. by\\ncountries such as Japan, South Korea and Taiwan.\\n    Gephardt, a Missouri Democrat, has not decided the exact\\nform of his amendment, an aide said. Last year the House\\napproved his idea to force an annual ten pct trade surplus cut\\nby those countries. \\n    The trade bill will be wrapped in with legislation from\\nother committees dealing with relaxation of export controls,\\nincentives for research, expanded worker training and education\\nand other efforts to increase U.S. competitiveness.\\n    The comprehensive trade bill is to be considered by the\\nfull House in late April and then will be considered by Senate\\ncommittees.\\n    It requires President Reagan to retaliate against foreign\\nunfair trade practices but do not mandate quotas or tariffs and\\nallow an exemption if U.S. economic security would be harmed by\\nU.S. actions against other countries.\\n    The bill would make it easier for U.S. industries to win\\nrelief from surges of imports of competitive products.\\n    It extends until January 1993, the administration\\'s\\nauthority to negotiate trade agreements as part of the new\\nround of multilateral talks under the General Agreements on\\nTariffs and Trade.\\n    And, it includes provisions to tighten trade rules on\\ncopyrights, patents and telecommunications goods.\\n Reuter\\n']], shape=(1, 1), dtype=string)\n",
      "Preprocessed:  tf.Tensor([[b'h e h u e w n e n r e u b c e e u n n u l p p r v e n e w n v e r n f l e g l n e g n e u g h e n u r e l w n w e g e p e n f r e g n r k e r e u g h e e u r e n w g e h e f u l l h u e w n e n c e e n e x w e e k b u j r c h n g e r e n e x p e c e c n g r e n l u r c e h p r u c c u l v e r w e l l b e u g h e n n g u r r e p l c n n g n n n e r h p e n r k e w h u h f r g h e n n g w r p r e c n w n e n c h r n n r e n k w k n l l n e c r h e r e u b c e e b c k e w f r n n g p e c f c r e l n g n f r e g n c u n r e f r u n f r f r e g n r e p r c c e h e h u e h p p r v e n r e b l l l e r b u h e l v e r f r h e f u l l w n e n c e e e b e n c n r v e r l p l n b r e p r c h r g e p h r n e r e u c n n r e u r p l u e w h h e u b c u n r e u c h j p n u h k r e n w n g e p h r u r e c r h n e c e h e e x c f r f h e n e n n e l e r h e h u e p p r v e h e f r c e n n n u l e n p c r e u r p l u c u b h e c u n r e h e r e b l l w l l b e w r p p e n w h l e g l n f r h e r c e e e l n g w h r e l x n f e x p r c n r l n c e n v e f r r e e r c h e x p n e w r k e r r n n g n e u c n n h e r e f f r n c r e e u c p e v e n e h e c p r e h e n v e r e b l l b e c n e r e b h e f u l l h u e n l e p r l n h e n w l l b e c n e r e b e n e c e e r e q u r e p r e e n r e g n r e l e g n f r e g n u n f r r e p r c c e b u n n e q u r r f f n l l w n e x e p n f u e c n c e c u r w u l b e h r e b u c n g n h e r c u n r e h e b l l w u l k e e e r f r u n u r e w n r e l e f f r u r g e f p r f c p e v e p r u c e x e n u n l j n u r 1 9 9 3 h e n r n u h r n e g e r e g r e e e n p r f h e n e w r u n f u l l e r l l k u n e r h e g e n e r l g r e e e n n r f f n r e n n c l u e p r v n g h e n r e r u l e n c p r g h p e n n e l e c u n c n g r e u e r']], shape=(1, 1), dtype=string)\n"
     ]
    },
    {
     "name": "stderr",
     "output_type": "stream",
     "text": [
      "/opt/homebrew/anaconda3/lib/python3.12/site-packages/sklearn/ensemble/_weight_boosting.py:527: FutureWarning: The SAMME.R algorithm (the default) is deprecated and will be removed in 1.6. Use the SAMME algorithm to circumvent this warning.\n",
      "  warnings.warn(\n"
     ]
    },
    {
     "name": "stdout",
     "output_type": "stream",
     "text": [
      "AdaBoost Accuracy on Test set -> 0.28\n",
      "XGBoost Accuracy on Test set -> 0.38\n",
      "RandomForest Accuracy on Test set -> 0.46\n",
      "DecisionTree Accuracy on Test set -> 0.38\n",
      "\n",
      "\n",
      "* * * * EVALUATION USING STM_RSW_LOW AS PREPROCESSING FUNCTION * * * *\n",
      "Length of the longest sample is: 1973\n",
      "\n",
      "\n",
      "***** FINISHED PROCESSING AND ADAPTING THE TRAINING SET, THE SIMULATION BEGINS *******\n",
      "Sample considered is:  tf.Tensor([[b'The House Ways and Means Trade \\nSubcommittee unanimously approved a toned-down version of\\nlegislation designed to toughen U.S. trade laws and wedge open\\nforeign markets to more U.S. goods.\\n    The measure now goes to the full House Ways and Means\\nCommittee next week, but major changes are not expected,\\ncongressional sources said.\\n    \"This product could very well be toughening our trade policy\\nand doing it in a manner that opens markets without this\\nfrightening word \\'protectionism\\',\" Ways and Means chairman Dan\\nRostenkowski, an Illinois Democrat said.\\n    The trade subcommittee backed away from mandating specific\\nretaliation against foreign countries for unfair foreign trade\\npractices as the House had approved in a trade bill last year.\\n    But it held over for the full Ways and Means Committee\\ndebate on a controversial plan by Rep. Richard Gephardt to\\nmandate a reduction in trade surpluses with the U.S. by\\ncountries such as Japan, South Korea and Taiwan.\\n    Gephardt, a Missouri Democrat, has not decided the exact\\nform of his amendment, an aide said. Last year the House\\napproved his idea to force an annual ten pct trade surplus cut\\nby those countries. \\n    The trade bill will be wrapped in with legislation from\\nother committees dealing with relaxation of export controls,\\nincentives for research, expanded worker training and education\\nand other efforts to increase U.S. competitiveness.\\n    The comprehensive trade bill is to be considered by the\\nfull House in late April and then will be considered by Senate\\ncommittees.\\n    It requires President Reagan to retaliate against foreign\\nunfair trade practices but do not mandate quotas or tariffs and\\nallow an exemption if U.S. economic security would be harmed by\\nU.S. actions against other countries.\\n    The bill would make it easier for U.S. industries to win\\nrelief from surges of imports of competitive products.\\n    It extends until January 1993, the administration\\'s\\nauthority to negotiate trade agreements as part of the new\\nround of multilateral talks under the General Agreements on\\nTariffs and Trade.\\n    And, it includes provisions to tighten trade rules on\\ncopyrights, patents and telecommunications goods.\\n Reuter\\n']], shape=(1, 1), dtype=string)\n",
      "Preprocessed:  tf.Tensor([[b'   h       e       h       u       e       w       n       e       n       r       e       u       b       c       e       e       u       n       n       u       l       p       p       r       v       e       n       e       w       n       v       e       r       n       f       l       e       g       l       n       e       g       n       e       u       g       h       e       n       u       r       e       l       w       n       w       e       g       e       p       e       n       f       r       e       g       n       r       k       e       r       e       u       g       h       e       e       u       r       e       n       w       g       e       h       e       f       u       l       l       h       u       e       w       n       e       n       c       e       e       n       e       x       w       e       e       k       b       u       j       r       c       h       n       g       e       r       e       n       e       x       p       e       c       e       c       n       g       r       e       n       l       u       r       c       e       h       p       r       u       c       c       u       l       v       e       r       w       e       l       l       b       e       u       g       h       e       n       n       g       u       r       r       e       p       l       c       n       n       g       n       n       n       e       r       h       p       e       n       r       k       e       w       h       u       h       f       r       g       h       e       n       n       g       w       r       p       r       e       c       n       w       n       e       n       c       h       r       n       n       r       e       n       k       w       k       n       l       l       n       e       c       r       h       e       r       e       u       b       c       e       e       b       c       k       e       w       f       r       n       n       g       p       e       c       f       c       r       e       l       n       g       n       f       r       e       g       n       c       u       n       r       e       f       r       u       n       f       r       f       r       e       g       n       r       e       p       r       c       c       e       h       e       h       u       e       h       p       p       r       v       e       n       r       e       b       l       l       l       e       r       b       u       h       e       l       v       e       r       f       r       h       e       f       u       l       l       w       n       e       n       c       e       e       e       b       e       n       c       n       r       v       e       r       l       p       l       n       b       r       e       p       r       c       h       r       g       e       p       h       r       n       e       r       e       u       c       n       n       r       e       u       r       p       l       u       e       w       h       h       e       u       b       c       u       n       r       e       u       c       h       j       p       n       u       h       k       r       e       n       w       n       g       e       p       h       r       u       r       e       c       r       h       n       e       c       e       h       e       e       x       c       f       r       f       h       e       n       e       n       n       e       l       e       r       h       e       h       u       e       p       p       r       v       e       h       e       f       r       c       e       n       n       n       u       l       e       n       p       c       r       e       u       r       p       l       u       c       u       b       h       e       c       u       n       r       e       h       e       r       e       b       l       l       w       l       l       b       e       w       r       p       p       e       n       w       h       l       e       g       l       n       f       r       h       e       r       c       e       e       e       l       n       g       w       h       r       e       l       x       n       f       e       x       p       r       c       n       r       l       n       c       e       n       v       e       f       r       r       e       e       r       c       h       e       x       p       n       e       w       r       k       e       r       r       n       n       g       n       e       u       c       n       n       h       e       r       e       f       f       r       n       c       r       e       e       u       c       p       e       v       e       n       e       h       e       c       p       r       e       h       e       n       v       e       r       e       b       l       l       b       e       c       n       e       r       e       b       h       e       f       u       l       l       h       u       e       n       l       e       p       r       l       n       h       e       n       w       l       l       b       e       c       n       e       r       e       b       e       n       e       c       e       e       r       e       q       u       r       e       p       r       e       e       n       r       e       g       n       r       e       l       e       g       n       f       r       e       g       n       u       n       f       r       r       e       p       r       c       c       e       b       u       n       n       e       q       u       r       r       f       f       n       l       l       w       n       e       x       e       p       n       f       u       e       c       n       c       e       c       u       r       w       u       l       b       e       h       r       e       b       u       c       n       g       n       h       e       r       c       u       n       r       e       h       e       b       l       l       w       u       l       k       e       e       e       r       f       r       u       n       u       r       e       w       n       r       e       l       e       f       f       r       u       r       g       e       f       p       r       f       c       p       e       v       e       p       r       u       c       e       x       e       n       u       n       l       j       n       u       r       1       9       9       3       h       e       n       r       n       u       h       r       n       e       g       e       r       e       g       r       e       e       e       n       p       r       f       h       e       n       e       w       r       u       n       f       u       l       l       e       r       l       l       k       u       n       e       r       h       e       g       e       n       e       r       l       g       r       e       e       e       n       n       r       f       f       n       r       e       n       n       c       l       u       e       p       r       v       n       g       h       e       n       r       e       r       u       l       e       n       c       p       r       g       h       p       e       n       n       e       l       e       c       u       n       c       n       g       r       e       u       e       r   ']], shape=(1, 1), dtype=string)\n"
     ]
    },
    {
     "name": "stderr",
     "output_type": "stream",
     "text": [
      "/opt/homebrew/anaconda3/lib/python3.12/site-packages/sklearn/ensemble/_weight_boosting.py:527: FutureWarning: The SAMME.R algorithm (the default) is deprecated and will be removed in 1.6. Use the SAMME algorithm to circumvent this warning.\n",
      "  warnings.warn(\n"
     ]
    },
    {
     "name": "stdout",
     "output_type": "stream",
     "text": [
      "AdaBoost Accuracy on Test set -> 0.28\n",
      "XGBoost Accuracy on Test set -> 0.38\n",
      "RandomForest Accuracy on Test set -> 0.46\n",
      "DecisionTree Accuracy on Test set -> 0.38\n",
      "\n",
      "\n",
      "* * * * EVALUATION USING RSW_LOW_STM AS PREPROCESSING FUNCTION * * * *\n",
      "Length of the longest sample is: 2018\n",
      "\n",
      "\n",
      "***** FINISHED PROCESSING AND ADAPTING THE TRAINING SET, THE SIMULATION BEGINS *******\n",
      "Sample considered is:  tf.Tensor([[b'The House Ways and Means Trade \\nSubcommittee unanimously approved a toned-down version of\\nlegislation designed to toughen U.S. trade laws and wedge open\\nforeign markets to more U.S. goods.\\n    The measure now goes to the full House Ways and Means\\nCommittee next week, but major changes are not expected,\\ncongressional sources said.\\n    \"This product could very well be toughening our trade policy\\nand doing it in a manner that opens markets without this\\nfrightening word \\'protectionism\\',\" Ways and Means chairman Dan\\nRostenkowski, an Illinois Democrat said.\\n    The trade subcommittee backed away from mandating specific\\nretaliation against foreign countries for unfair foreign trade\\npractices as the House had approved in a trade bill last year.\\n    But it held over for the full Ways and Means Committee\\ndebate on a controversial plan by Rep. Richard Gephardt to\\nmandate a reduction in trade surpluses with the U.S. by\\ncountries such as Japan, South Korea and Taiwan.\\n    Gephardt, a Missouri Democrat, has not decided the exact\\nform of his amendment, an aide said. Last year the House\\napproved his idea to force an annual ten pct trade surplus cut\\nby those countries. \\n    The trade bill will be wrapped in with legislation from\\nother committees dealing with relaxation of export controls,\\nincentives for research, expanded worker training and education\\nand other efforts to increase U.S. competitiveness.\\n    The comprehensive trade bill is to be considered by the\\nfull House in late April and then will be considered by Senate\\ncommittees.\\n    It requires President Reagan to retaliate against foreign\\nunfair trade practices but do not mandate quotas or tariffs and\\nallow an exemption if U.S. economic security would be harmed by\\nU.S. actions against other countries.\\n    The bill would make it easier for U.S. industries to win\\nrelief from surges of imports of competitive products.\\n    It extends until January 1993, the administration\\'s\\nauthority to negotiate trade agreements as part of the new\\nround of multilateral talks under the General Agreements on\\nTariffs and Trade.\\n    And, it includes provisions to tighten trade rules on\\ncopyrights, patents and telecommunications goods.\\n Reuter\\n']], shape=(1, 1), dtype=string)\n",
      "Preprocessed:  tf.Tensor([[b't h e h u e w n m e n t r e s u b c e e u n n u l p p r v e n e w n v e r n f l e g l n e g n e u g h e n u s r e l w n w e g e p e n f r e g n r k e r e u s g t h e e u r e n w g e h e f u l l h u e w n m e n c e e n e x w e e k b u j r c h n g e r e n e x p e c e c n g r e n l u r c e t h p r u c c u l v e r w e l l b e u g h e n n g u r r e p l c n n g n n n e r h p e n r k e w h u h f r g h e n n g w r p r e c n w n m e n c h r n d n r e n k w k n i l l n d e c r t h e r e u b c e e b c k e w f r n n g p e c f c r e l n g n f r e g n c u n r e f r u n f r f r e g n r e p r c c e h e h u e h p p r v e n r e b l l l e r b u h e l v e r f r h e f u l l w n m e n c e e e b e n c n r v e r l p l n b r e p r c h r g e p h r n e r e u c n n r e u r p l u e w h h e u s b c u n r e u c h j p n s u h k r e n t w n g e p h r m u r d e c r h n e c e h e e x c f r f h e n e n n e l e r h e h u e p p r v e h e f r c e n n n u l e n p c r e u r p l u c u b h e c u n r e t h e r e b l l w l l b e w r p p e n w h l e g l n f r h e r c e e e l n g w h r e l x n f e x p r c n r l n c e n v e f r r e e r c h e x p n e w r k e r r n n g n e u c n n h e r e f f r n c r e e u s c p e v e n e t h e c p r e h e n v e r e b l l b e c n e r e b h e f u l l h u e n l e a p r l n h e n w l l b e c n e r e b s e n e c e e i r e q u r e p r e e n r e g n r e l e g n f r e g n u n f r r e p r c c e b u n n e q u r r f f n l l w n e x e p n f u s e c n c e c u r w u l b e h r e b u s c n g n h e r c u n r e t h e b l l w u l k e e e r f r u s n u r e w n r e l e f f r u r g e f p r f c p e v e p r u c i e x e n u n l j n u r 1 9 9 3 h e n r n u h r n e g e r e g r e e e n p r f h e n e w r u n f u l l e r l l k u n e r h e g e n e r l a g r e e e n n t r f f n t r e a n n c l u e p r v n g h e n r e r u l e n c p r g h p e n n e l e c u n c n g r e u e r']], shape=(1, 1), dtype=string)\n"
     ]
    },
    {
     "name": "stderr",
     "output_type": "stream",
     "text": [
      "/opt/homebrew/anaconda3/lib/python3.12/site-packages/sklearn/ensemble/_weight_boosting.py:527: FutureWarning: The SAMME.R algorithm (the default) is deprecated and will be removed in 1.6. Use the SAMME algorithm to circumvent this warning.\n",
      "  warnings.warn(\n"
     ]
    },
    {
     "name": "stdout",
     "output_type": "stream",
     "text": [
      "AdaBoost Accuracy on Test set -> 0.46\n",
      "XGBoost Accuracy on Test set -> 0.36\n",
      "RandomForest Accuracy on Test set -> 0.48\n",
      "DecisionTree Accuracy on Test set -> 0.42\n",
      "\n",
      "\n",
      "* * * * EVALUATION USING RSW_STM_LOW AS PREPROCESSING FUNCTION * * * *\n",
      "Length of the longest sample is: 2018\n",
      "\n",
      "\n",
      "***** FINISHED PROCESSING AND ADAPTING THE TRAINING SET, THE SIMULATION BEGINS *******\n",
      "Sample considered is:  tf.Tensor([[b'The House Ways and Means Trade \\nSubcommittee unanimously approved a toned-down version of\\nlegislation designed to toughen U.S. trade laws and wedge open\\nforeign markets to more U.S. goods.\\n    The measure now goes to the full House Ways and Means\\nCommittee next week, but major changes are not expected,\\ncongressional sources said.\\n    \"This product could very well be toughening our trade policy\\nand doing it in a manner that opens markets without this\\nfrightening word \\'protectionism\\',\" Ways and Means chairman Dan\\nRostenkowski, an Illinois Democrat said.\\n    The trade subcommittee backed away from mandating specific\\nretaliation against foreign countries for unfair foreign trade\\npractices as the House had approved in a trade bill last year.\\n    But it held over for the full Ways and Means Committee\\ndebate on a controversial plan by Rep. Richard Gephardt to\\nmandate a reduction in trade surpluses with the U.S. by\\ncountries such as Japan, South Korea and Taiwan.\\n    Gephardt, a Missouri Democrat, has not decided the exact\\nform of his amendment, an aide said. Last year the House\\napproved his idea to force an annual ten pct trade surplus cut\\nby those countries. \\n    The trade bill will be wrapped in with legislation from\\nother committees dealing with relaxation of export controls,\\nincentives for research, expanded worker training and education\\nand other efforts to increase U.S. competitiveness.\\n    The comprehensive trade bill is to be considered by the\\nfull House in late April and then will be considered by Senate\\ncommittees.\\n    It requires President Reagan to retaliate against foreign\\nunfair trade practices but do not mandate quotas or tariffs and\\nallow an exemption if U.S. economic security would be harmed by\\nU.S. actions against other countries.\\n    The bill would make it easier for U.S. industries to win\\nrelief from surges of imports of competitive products.\\n    It extends until January 1993, the administration\\'s\\nauthority to negotiate trade agreements as part of the new\\nround of multilateral talks under the General Agreements on\\nTariffs and Trade.\\n    And, it includes provisions to tighten trade rules on\\ncopyrights, patents and telecommunications goods.\\n Reuter\\n']], shape=(1, 1), dtype=string)\n",
      "Preprocessed:  tf.Tensor([[b'   t       h       e       h       u       e       w       n       m       e       n       t       r       e       s       u       b       c       e       e       u       n       n       u       l       p       p       r       v       e       n       e       w       n       v       e       r       n       f       l       e       g       l       n       e       g       n       e       u       g       h       e       n       u       s       r       e       l       w       n       w       e       g       e       p       e       n       f       r       e       g       n       r       k       e       r       e       u       s       g       t       h       e       e       u       r       e       n       w       g       e       h       e       f       u       l       l       h       u       e       w       n       m       e       n       c       e       e       n       e       x       w       e       e       k       b       u       j       r       c       h       n       g       e       r       e       n       e       x       p       e       c       e       c       n       g       r       e       n       l       u       r       c       e       t       h       p       r       u       c       c       u       l       v       e       r       w       e       l       l       b       e       u       g       h       e       n       n       g       u       r       r       e       p       l       c       n       n       g       n       n       n       e       r       h       p       e       n       r       k       e       w       h       u       h       f       r       g       h       e       n       n       g       w       r       p       r       e       c       n       w       n       m       e       n       c       h       r       n       d       n       r       e       n       k       w       k       n       i       l       l       n       d       e       c       r       t       h       e       r       e       u       b       c       e       e       b       c       k       e       w       f       r       n       n       g       p       e       c       f       c       r       e       l       n       g       n       f       r       e       g       n       c       u       n       r       e       f       r       u       n       f       r       f       r       e       g       n       r       e       p       r       c       c       e       h       e       h       u       e       h       p       p       r       v       e       n       r       e       b       l       l       l       e       r       b       u       h       e       l       v       e       r       f       r       h       e       f       u       l       l       w       n       m       e       n       c       e       e       e       b       e       n       c       n       r       v       e       r       l       p       l       n       b       r       e       p       r       c       h       r       g       e       p       h       r       n       e       r       e       u       c       n       n       r       e       u       r       p       l       u       e       w       h       h       e       u       s       b       c       u       n       r       e       u       c       h       j       p       n       s       u       h       k       r       e       n       t       w       n       g       e       p       h       r       m       u       r       d       e       c       r       h       n       e       c       e       h       e       e       x       c       f       r       f       h       e       n       e       n       n       e       l       e       r       h       e       h       u       e       p       p       r       v       e       h       e       f       r       c       e       n       n       n       u       l       e       n       p       c       r       e       u       r       p       l       u       c       u       b       h       e       c       u       n       r       e       t       h       e       r       e       b       l       l       w       l       l       b       e       w       r       p       p       e       n       w       h       l       e       g       l       n       f       r       h       e       r       c       e       e       e       l       n       g       w       h       r       e       l       x       n       f       e       x       p       r       c       n       r       l       n       c       e       n       v       e       f       r       r       e       e       r       c       h       e       x       p       n       e       w       r       k       e       r       r       n       n       g       n       e       u       c       n       n       h       e       r       e       f       f       r       n       c       r       e       e       u       s       c       p       e       v       e       n       e       t       h       e       c       p       r       e       h       e       n       v       e       r       e       b       l       l       b       e       c       n       e       r       e       b       h       e       f       u       l       l       h       u       e       n       l       e       a       p       r       l       n       h       e       n       w       l       l       b       e       c       n       e       r       e       b       s       e       n       e       c       e       e       i       r       e       q       u       r       e       p       r       e       e       n       r       e       g       n       r       e       l       e       g       n       f       r       e       g       n       u       n       f       r       r       e       p       r       c       c       e       b       u       n       n       e       q       u       r       r       f       f       n       l       l       w       n       e       x       e       p       n       f       u       s       e       c       n       c       e       c       u       r       w       u       l       b       e       h       r       e       b       u       s       c       n       g       n       h       e       r       c       u       n       r       e       t       h       e       b       l       l       w       u       l       k       e       e       e       r       f       r       u       s       n       u       r       e       w       n       r       e       l       e       f       f       r       u       r       g       e       f       p       r       f       c       p       e       v       e       p       r       u       c       i       e       x       e       n       u       n       l       j       n       u       r       1       9       9       3       h       e       n       r       n       u       h       r       n       e       g       e       r       e       g       r       e       e       e       n       p       r       f       h       e       n       e       w       r       u       n       f       u       l       l       e       r       l       l       k       u       n       e       r       h       e       g       e       n       e       r       l       a       g       r       e       e       e       n       n       t       r       f       f       n       t       r       e       a       n       n       c       l       u       e       p       r       v       n       g       h       e       n       r       e       r       u       l       e       n       c       p       r       g       h       p       e       n       n       e       l       e       c       u       n       c       n       g       r       e       u       e       r   ']], shape=(1, 1), dtype=string)\n"
     ]
    },
    {
     "name": "stderr",
     "output_type": "stream",
     "text": [
      "/opt/homebrew/anaconda3/lib/python3.12/site-packages/sklearn/ensemble/_weight_boosting.py:527: FutureWarning: The SAMME.R algorithm (the default) is deprecated and will be removed in 1.6. Use the SAMME algorithm to circumvent this warning.\n",
      "  warnings.warn(\n"
     ]
    },
    {
     "name": "stdout",
     "output_type": "stream",
     "text": [
      "AdaBoost Accuracy on Test set -> 0.46\n",
      "XGBoost Accuracy on Test set -> 0.36\n",
      "RandomForest Accuracy on Test set -> 0.48\n",
      "DecisionTree Accuracy on Test set -> 0.42\n"
     ]
    }
   ],
   "source": [
    "for key in prepro_functions_dict_comb:\n",
    "    print(\"\\n\\n* * * * EVALUATION USING\", key, \"AS PREPROCESSING FUNCTION * * * *\")\n",
    "\n",
    "    train_ds = tf.data.Dataset.from_tensor_slices((X_train_text, y_train)).shuffle(buffer_size=len(train_df), seed=1, reshuffle_each_iteration=False).batch(1)\n",
    "    test_ds = tf.data.Dataset.from_tensor_slices((X_test_text, y_test)).shuffle(buffer_size=len(test_df), seed=1, reshuffle_each_iteration=False).batch(1)\n",
    "\n",
    "    # Preprocess training set to build a dictionary.\n",
    "    vectorize_layer = preprocess_and_adapt_ts(prepro_functions_dict_comb[key],train_ds)\n",
    "\n",
    "    train_ds = tf.data.Dataset.from_tensor_slices((X_train_text, y_train)).shuffle(buffer_size=len(train_df), seed=1, reshuffle_each_iteration=False).batch(1)\n",
    "    print(\"\\n\\n***** FINISHED PROCESSING AND ADAPTING THE TRAINING SET, THE SIMULATION BEGINS *******\")\n",
    "    # Print a raw and a preprocessed sample.\n",
    "    for element in train_ds:\n",
    "      authorDocument=element[0]\n",
    "      label=element[1]\n",
    "      author_batch = tf.expand_dims(authorDocument, 0)\n",
    "\n",
    "      print(\"Sample considered is: \", author_batch)\n",
    "      print(\"Preprocessed: \", str(prepro_functions_dict_comb[key](author_batch.numpy())))\n",
    "      break\n",
    "\n",
    "    train_ds = tf.data.Dataset.from_tensor_slices((X_train_text, y_train)).shuffle(buffer_size=len(train_df), seed=1, reshuffle_each_iteration=False).batch(1)\n",
    "\n",
    "    model = tf.keras.models.Sequential()\n",
    "    model.add(tf.keras.Input(shape=(1,), dtype=tf.string))\n",
    "    model.add(vectorize_layer)\n",
    "\n",
    "    training_labels=[]\n",
    "    training_samples=[]\n",
    "\n",
    "    max_features=len(vectorize_layer.get_vocabulary()) + 1\n",
    "\n",
    "    for element in train_ds:\n",
    "      authorDocument=element[0]\n",
    "      label=element[1]\n",
    "      author_batch = tf.expand_dims(authorDocument, 0)\n",
    "        \n",
    "      text_vect_out = vectorize_layer(author_batch)\n",
    "\n",
    "      training_labels.append(label.numpy())\n",
    "      current_sample=np.zeros(max_features)\n",
    "      for current_token in text_vect_out[0][:].numpy():\n",
    "        current_sample[current_token]+=1\n",
    "      training_samples.append(current_sample)\n",
    "\n",
    "    training_labels=np.array(training_labels)\n",
    "    training_samples=np.array(training_samples)\n",
    "\n",
    "    test_labels=[]\n",
    "    test_samples=[]\n",
    "\n",
    "    for element in test_ds:\n",
    "      authorDocument=element[0]\n",
    "      label=element[1]\n",
    "      author_batch = tf.expand_dims(authorDocument, 0)\n",
    "\n",
    "      text_vect_out = vectorize_layer(author_batch)\n",
    "\n",
    "      test_labels.append(label.numpy())\n",
    "      current_sample=np.zeros(max_features)\n",
    "      for current_token in text_vect_out[0][:].numpy():\n",
    "        current_sample[current_token]+=1\n",
    "      test_samples.append(current_sample)\n",
    "\n",
    "    test_labels=np.array(test_labels)\n",
    "    test_samples=np.array(test_samples)\n",
    "\n",
    "    models = {\n",
    "        \"AdaBoost\": AdaBoostClassifier(random_state=0),\n",
    "        \"XGBoost\": XGBClassifier(random_state=0),\n",
    "        \"RandomForest\": RandomForestClassifier(random_state=0),\n",
    "        \"DecisionTree\": DecisionTreeClassifier(random_state=0)\n",
    "    }\n",
    "\n",
    "    for name, model in models.items():\n",
    "        model.fit(training_samples, training_labels.ravel())\n",
    "        acc = model.score(test_samples, test_labels)\n",
    "        model_results[key][name].append(acc)\n",
    "        print(f\"{name} Accuracy on Test set ->\", acc)\n",
    "    "
   ]
  },
  {
   "cell_type": "markdown",
   "id": "1a141e6c-b4ef-4fe2-95d2-9652dd0b9801",
   "metadata": {},
   "source": [
    "# Результаты"
   ]
  },
  {
   "cell_type": "code",
   "execution_count": 31,
   "id": "a1e46a58-d968-429c-90a2-a5553b89ee49",
   "metadata": {},
   "outputs": [
    {
     "name": "stdout",
     "output_type": "stream",
     "text": [
      "PREPRO FUNCTION         | MODEL NAME        | ACCURANCY   \n",
      "------------------------------------------------------------\n",
      "DON                     | AdaBoost          | 0.3000\n",
      "DON                     | XGBoost           | 0.4800\n",
      "DON                     | RandomForest      | 0.4400\n",
      "DON                     | DecisionTree      | 0.3800\n",
      "------------------------------------------------------------\n",
      "LOW                     | AdaBoost          | 0.3800\n",
      "LOW                     | XGBoost           | 0.4200\n",
      "LOW                     | RandomForest      | 0.4200\n",
      "LOW                     | DecisionTree      | 0.3200\n",
      "------------------------------------------------------------\n",
      "RSW                     | AdaBoost          | 0.3400\n",
      "RSW                     | XGBoost           | 0.4000\n",
      "RSW                     | RandomForest      | 0.4600\n",
      "RSW                     | DecisionTree      | 0.4400\n",
      "------------------------------------------------------------\n",
      "STM                     | AdaBoost          | 0.2800\n",
      "STM                     | XGBoost           | 0.3800\n",
      "STM                     | RandomForest      | 0.4200\n",
      "STM                     | DecisionTree      | 0.3200\n",
      "------------------------------------------------------------\n",
      "LOW_RSW                 | AdaBoost          | 0.2800\n",
      "LOW_RSW                 | XGBoost           | 0.3800\n",
      "LOW_RSW                 | RandomForest      | 0.4600\n",
      "LOW_RSW                 | DecisionTree      | 0.3800\n",
      "------------------------------------------------------------\n",
      "LOW_STM                 | AdaBoost          | 0.2800\n",
      "LOW_STM                 | XGBoost           | 0.3800\n",
      "LOW_STM                 | RandomForest      | 0.4200\n",
      "LOW_STM                 | DecisionTree      | 0.3200\n",
      "------------------------------------------------------------\n",
      "RSW_LOW                 | AdaBoost          | 0.4600\n",
      "RSW_LOW                 | XGBoost           | 0.3600\n",
      "RSW_LOW                 | RandomForest      | 0.4800\n",
      "RSW_LOW                 | DecisionTree      | 0.4200\n",
      "------------------------------------------------------------\n",
      "RSW_STM                 | AdaBoost          | 0.4600\n",
      "RSW_STM                 | XGBoost           | 0.3600\n",
      "RSW_STM                 | RandomForest      | 0.4800\n",
      "RSW_STM                 | DecisionTree      | 0.4200\n",
      "------------------------------------------------------------\n",
      "STM_LOW                 | AdaBoost          | 0.2800\n",
      "STM_LOW                 | XGBoost           | 0.3800\n",
      "STM_LOW                 | RandomForest      | 0.4200\n",
      "STM_LOW                 | DecisionTree      | 0.3200\n",
      "------------------------------------------------------------\n",
      "STM_RSW                 | AdaBoost          | 0.2800\n",
      "STM_RSW                 | XGBoost           | 0.3800\n",
      "STM_RSW                 | RandomForest      | 0.4600\n",
      "STM_RSW                 | DecisionTree      | 0.3800\n",
      "------------------------------------------------------------\n",
      "LOW_STM_RSW             | AdaBoost          | 0.2800\n",
      "LOW_STM_RSW             | XGBoost           | 0.3800\n",
      "LOW_STM_RSW             | RandomForest      | 0.4600\n",
      "LOW_STM_RSW             | DecisionTree      | 0.3800\n",
      "------------------------------------------------------------\n",
      "LOW_RSW_STM             | AdaBoost          | 0.2800\n",
      "LOW_RSW_STM             | XGBoost           | 0.3800\n",
      "LOW_RSW_STM             | RandomForest      | 0.4600\n",
      "LOW_RSW_STM             | DecisionTree      | 0.3800\n",
      "------------------------------------------------------------\n",
      "STM_LOW_RSW             | AdaBoost          | 0.2800\n",
      "STM_LOW_RSW             | XGBoost           | 0.3800\n",
      "STM_LOW_RSW             | RandomForest      | 0.4600\n",
      "STM_LOW_RSW             | DecisionTree      | 0.3800\n",
      "------------------------------------------------------------\n",
      "STM_RSW_LOW             | AdaBoost          | 0.2800\n",
      "STM_RSW_LOW             | XGBoost           | 0.3800\n",
      "STM_RSW_LOW             | RandomForest      | 0.4600\n",
      "STM_RSW_LOW             | DecisionTree      | 0.3800\n",
      "------------------------------------------------------------\n",
      "RSW_LOW_STM             | AdaBoost          | 0.4600\n",
      "RSW_LOW_STM             | XGBoost           | 0.3600\n",
      "RSW_LOW_STM             | RandomForest      | 0.4800\n",
      "RSW_LOW_STM             | DecisionTree      | 0.4200\n",
      "------------------------------------------------------------\n",
      "RSW_STM_LOW             | AdaBoost          | 0.4600\n",
      "RSW_STM_LOW             | XGBoost           | 0.3600\n",
      "RSW_STM_LOW             | RandomForest      | 0.4800\n",
      "RSW_STM_LOW             | DecisionTree      | 0.4200\n",
      "------------------------------------------------------------\n"
     ]
    }
   ],
   "source": [
    "best_result_per_model = {}\n",
    "\n",
    "print(\"PREPRO FUNCTION         | MODEL NAME        | ACCURANCY   \")\n",
    "print(\"-\" * 60)\n",
    "\n",
    "for prepro_func in prepro_functions_dict_comb:\n",
    "    for model_name, scores in model_results[prepro_func].items():\n",
    "        acc = round(scores[-1], 4)\n",
    "        if model_name not in best_result_per_model or acc > best_result_per_model[model_name][1]:\n",
    "            best_result_per_model[model_name] = (prepro_func, acc)\n",
    "        print(f\"{prepro_func:23} | {model_name:17} | {acc:>6.4f}\")\n",
    "    print(\"-\" * 60)"
   ]
  },
  {
   "cell_type": "code",
   "execution_count": 32,
   "id": "8067c5c2-1044-4907-a1ea-27a0947352fb",
   "metadata": {},
   "outputs": [
    {
     "name": "stdout",
     "output_type": "stream",
     "text": [
      "MODEL NAME         | BEST PREPRO FUNCTION   | MAX ACCURACY\n",
      "------------------------------------------------------------\n",
      "AdaBoost           | RSW_LOW                | 0.4600\n",
      "XGBoost            | DON                    | 0.4800\n",
      "RandomForest       | RSW_LOW                | 0.4800\n",
      "DecisionTree       | RSW                    | 0.4400\n"
     ]
    }
   ],
   "source": [
    "print(\"MODEL NAME         | BEST PREPRO FUNCTION   | MAX ACCURACY\")\n",
    "print(\"-\" * 60)\n",
    "for model_name, (best_func, acc) in best_result_per_model.items():\n",
    "    print(f\"{model_name:18} | {best_func:22} | {acc:.4f}\")"
   ]
  },
  {
   "cell_type": "markdown",
   "id": "eb3d2e51-7d99-430b-b755-f97d20efdf1e",
   "metadata": {},
   "source": [
    "# Сохраним результаты в отдельную таблицу"
   ]
  },
  {
   "cell_type": "code",
   "execution_count": 33,
   "id": "47a5d751-82fb-4fa5-a1b2-3481826c3d17",
   "metadata": {},
   "outputs": [],
   "source": [
    "prepo_path = \"../reports/preprocessing_combinations/reuters21578/\"\n",
    "os.makedirs(prepo_path, exist_ok=True)"
   ]
  },
  {
   "cell_type": "code",
   "execution_count": 34,
   "id": "ae3ad912-6f0b-455f-95f3-edb902d24064",
   "metadata": {},
   "outputs": [],
   "source": [
    "rows = []\n",
    "\n",
    "for prepo_func, model_scores in model_results.items():\n",
    "    for model_name, acc in model_scores.items():\n",
    "        rows.append({\n",
    "            \"prepo_func\": prepo_func,\n",
    "            \"model\": model_name,\n",
    "            \"accuracy\": round(acc[-1], 4)\n",
    "        })\n",
    "\n",
    "df_full = pd.DataFrame(rows)\n",
    "df_full.to_csv(f\"{prepo_path}full.csv\", index=False)"
   ]
  },
  {
   "cell_type": "code",
   "execution_count": 35,
   "id": "4006ce19-f50d-435f-97fe-699ddf3017cb",
   "metadata": {},
   "outputs": [],
   "source": [
    "df_best = pd.DataFrame([\n",
    "    {\"model\": model, \"best_prepo_func\": func, \"max_accuracy\": acc}\n",
    "    for model, (func, acc) in best_result_per_model.items()\n",
    "])\n",
    "df_best.to_csv(f\"{prepo_path}best.csv\", index=False)"
   ]
  },
  {
   "cell_type": "code",
   "execution_count": null,
   "id": "3798db08-5808-4cea-a883-554535a908bc",
   "metadata": {},
   "outputs": [],
   "source": []
  }
 ],
 "metadata": {
  "kernelspec": {
   "display_name": "Python 3 (ipykernel)",
   "language": "python",
   "name": "python3"
  },
  "language_info": {
   "codemirror_mode": {
    "name": "ipython",
    "version": 3
   },
   "file_extension": ".py",
   "mimetype": "text/x-python",
   "name": "python",
   "nbconvert_exporter": "python",
   "pygments_lexer": "ipython3",
   "version": "3.12.7"
  }
 },
 "nbformat": 4,
 "nbformat_minor": 5
}
