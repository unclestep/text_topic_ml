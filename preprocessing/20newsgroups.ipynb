{
 "cells": [
  {
   "cell_type": "markdown",
   "id": "340a1f23-3471-4ebc-9d48-68b45457c362",
   "metadata": {},
   "source": [
    "# **20newsgroups**"
   ]
  },
  {
   "cell_type": "markdown",
   "id": "e2247fca-a5f8-4752-acf1-146b524a7c7d",
   "metadata": {},
   "source": [
    "Данный код базируется на коде автора: https://github.com/marco-siino/text_preprocessing_impact/blob/main/20N_DS/LR_20N_TextPreProImpact_NB.ipynb. Научная статья разработчика указана в списке использованной литературы и специально дублируется здесь: https://www.sciencedirect.com/science/article/pii/S0306437923001783?ref=cra_js_challenge&fr=RR-1 \n",
    "\n",
    "Здесь воспроизводится эксперимент с изменениями в процессе загрузки датасетов и некоторыми вытекающими правками в коде с целью получить оптимальные комбинации для моделей и датасетов, обозначенных в работе. "
   ]
  },
  {
   "cell_type": "markdown",
   "id": "ca026184-019b-4e83-bf68-8d095414c821",
   "metadata": {},
   "source": [
    "# Импорт модулей"
   ]
  },
  {
   "cell_type": "code",
   "execution_count": 1,
   "id": "4f7f7965-e80c-44e8-94bf-0f753bc7db2c",
   "metadata": {},
   "outputs": [
    {
     "name": "stderr",
     "output_type": "stream",
     "text": [
      "[nltk_data] Downloading package stopwords to\n",
      "[nltk_data]     /Users/stepan/nltk_data...\n",
      "[nltk_data]   Package stopwords is already up-to-date!\n",
      "[nltk_data] Downloading package punkt to /Users/stepan/nltk_data...\n",
      "[nltk_data]   Package punkt is already up-to-date!\n",
      "[nltk_data] Downloading package brown to /Users/stepan/nltk_data...\n",
      "[nltk_data]   Package brown is already up-to-date!\n",
      "[nltk_data] Downloading package punkt_tab to\n",
      "[nltk_data]     /Users/stepan/nltk_data...\n",
      "[nltk_data]   Package punkt_tab is already up-to-date!\n",
      "[nltk_data] Downloading package wordnet to /Users/stepan/nltk_data...\n",
      "[nltk_data]   Package wordnet is already up-to-date!\n",
      "[nltk_data] Downloading package averaged_perceptron_tagger_eng to\n",
      "[nltk_data]     /Users/stepan/nltk_data...\n",
      "[nltk_data]   Package averaged_perceptron_tagger_eng is already up-to-\n",
      "[nltk_data]       date!\n",
      "[nltk_data] Downloading package conll2000 to\n",
      "[nltk_data]     /Users/stepan/nltk_data...\n",
      "[nltk_data]   Package conll2000 is already up-to-date!\n",
      "[nltk_data] Downloading package movie_reviews to\n",
      "[nltk_data]     /Users/stepan/nltk_data...\n",
      "[nltk_data]   Package movie_reviews is already up-to-date!\n"
     ]
    }
   ],
   "source": [
    "import matplotlib.pyplot as plt\n",
    "import ast\n",
    "import os\n",
    "import random\n",
    "import re\n",
    "import shutil\n",
    "import string\n",
    "import tensorflow as tf\n",
    "from tensorflow.keras.layers import TextVectorization\n",
    "import nltk\n",
    "import pandas as pd\n",
    "\n",
    "from numpy.random import seed\n",
    "import numpy as np\n",
    "from pathlib import Path\n",
    "from sklearn.naive_bayes import MultinomialNB\n",
    "from nltk.corpus import stopwords\n",
    "from nltk.tokenize import word_tokenize\n",
    "from nltk.stem import PorterStemmer\n",
    "from textblob import TextBlob\n",
    "\n",
    "from datasets import load_dataset\n",
    "from sklearn.ensemble import AdaBoostClassifier, RandomForestClassifier\n",
    "from sklearn.tree import DecisionTreeClassifier\n",
    "from sklearn.linear_model import LogisticRegression\n",
    "from sklearn.naive_bayes import MultinomialNB\n",
    "from sklearn.svm import LinearSVC\n",
    "from sklearn.preprocessing import LabelEncoder\n",
    "from sklearn.model_selection import train_test_split\n",
    "from xgboost import XGBClassifier\n",
    "from sklearn.metrics import recall_score\n",
    "\n",
    "from collections import defaultdict\n",
    "\n",
    "nltk.download('stopwords')\n",
    "nltk.download('punkt')\n",
    "\n",
    "os.environ['TF_CUDNN_DETERMINISTIC']='true'\n",
    "os.environ['TF_DETERMINISTIC_OPS']='true'\n",
    "\n",
    "import textblob.download_corpora as dl\n",
    "dl.download_all()"
   ]
  },
  {
   "cell_type": "markdown",
   "id": "a309e2f2-e229-4c93-a9cd-8cf52d68624e",
   "metadata": {},
   "source": [
    "# Загружаем датасет"
   ]
  },
  {
   "cell_type": "code",
   "execution_count": 2,
   "id": "8a371f96-4904-40c9-821b-57329873a432",
   "metadata": {},
   "outputs": [],
   "source": [
    "test_dir = '../data/raw/20newsgroups/test.csv'\n",
    "train_dir = '../data/raw/20newsgroups/train.csv'"
   ]
  },
  {
   "cell_type": "code",
   "execution_count": 3,
   "id": "f012ae72-6ee1-47d4-9929-dfb77b7a10a2",
   "metadata": {},
   "outputs": [],
   "source": [
    "test_df = pd.read_csv(test_dir)\n",
    "train_df = pd.read_csv(train_dir)"
   ]
  },
  {
   "cell_type": "markdown",
   "id": "ba0e2863-5931-4d5d-ac7a-0e4783cc15f7",
   "metadata": {},
   "source": [
    "# Создаем обучающую выборку"
   ]
  },
  {
   "cell_type": "code",
   "execution_count": 4,
   "id": "50bb5251-df7b-4687-8934-48ae781a82d7",
   "metadata": {},
   "outputs": [],
   "source": [
    "X_train_text = train_df[\"text\"].astype(str).values\n",
    "y_train = train_df[\"label\"].values\n",
    "X_test_text = test_df[\"text\"].astype(str).values\n",
    "y_test = test_df[\"label\"].values"
   ]
  },
  {
   "cell_type": "code",
   "execution_count": 5,
   "id": "676323f3-3573-41a6-b5d0-ba8c7656f1c3",
   "metadata": {},
   "outputs": [],
   "source": [
    "train_ds = tf.data.Dataset.from_tensor_slices((X_train_text, y_train))\n",
    "test_ds = tf.data.Dataset.from_tensor_slices((X_test_text, y_test))"
   ]
  },
  {
   "cell_type": "markdown",
   "id": "3df0f9a3-0dfd-41bf-8738-2707c9012ef4",
   "metadata": {},
   "source": [
    "# Функции предобработки текста"
   ]
  },
  {
   "cell_type": "code",
   "execution_count": 6,
   "id": "6953b286-ce4a-4b88-9794-130ae0ab8f88",
   "metadata": {},
   "outputs": [],
   "source": [
    "# Do-Nothing preprocessing function.\n",
    "def DON(input_data):\n",
    "  tag_open_CDATA_removed = tf.strings.regex_replace(input_data, r'<\\!\\[CDATA\\[', ' ')\n",
    "  tag_closed_CDATA_removed = tf.strings.regex_replace(tag_open_CDATA_removed, r'\\]{1,}>', ' ')\n",
    "  tag_author_lang_en_removed = tf.strings.regex_replace(tag_closed_CDATA_removed,'', ' ')\n",
    "  tag_closed_author_removed = tf.strings.regex_replace(tag_author_lang_en_removed,'', ' ')\n",
    "  tag_open_documents_removed = tf.strings.regex_replace(tag_closed_author_removed, r'\\n(\\t){0,2}', '')\n",
    "  output_data = tf.strings.regex_replace(tag_open_documents_removed, r'\\n(\\t){0,2}', ' ')\n",
    "  return output_data\n",
    "\n",
    "# Lowercasing preprocessing function.\n",
    "def LOW(input_data):\n",
    "  return tf.strings.lower(DON(input_data))\n",
    "\n",
    "# Removing Stop Words function.\n",
    "def RSW(input_data):\n",
    "  output_data = DON(input_data)\n",
    "\n",
    "  try:\n",
    "    input_string=output_data[0]\n",
    "\n",
    "  except:\n",
    "    input_string=output_data\n",
    "\n",
    "    try:\n",
    "      input_string = input_string.numpy()\n",
    "\n",
    "    except:\n",
    "      return output_data\n",
    "\n",
    "    else:\n",
    "      input_string=(str(input_string))[2:-1]\n",
    "\n",
    "    blob = TextBlob(str(input_string)).words\n",
    "    outputlist = [word for word in blob if word not in stopwords.words('english')]\n",
    "    output_string = (' '.join(word for word in outputlist))\n",
    "    output_tensor=tf.constant(output_string)\n",
    "\n",
    "    return output_tensor\n",
    "\n",
    "  else:\n",
    "\n",
    "    try:\n",
    "      input_string = input_string.numpy()\n",
    "\n",
    "    except:\n",
    "      return output_data\n",
    "\n",
    "    else:\n",
    "      input_string=(str(input_string))[2:-1]\n",
    "\n",
    "    blob = TextBlob(str(input_string)).words\n",
    "    outputlist = [word for word in blob if word not in stopwords.words('english')]\n",
    "    output_string = (' '.join(word for word in outputlist))\n",
    "    output_tensor=tf.constant([[output_string]])\n",
    "\n",
    "    return output_tensor\n",
    "\n",
    "  return output_data\n",
    "\n",
    "# Porter Stemmer preprocessing function.\n",
    "def STM(input_data):\n",
    "  output_data = DON(input_data)\n",
    "  stemmer = PorterStemmer()\n",
    "\n",
    "  try:\n",
    "    input_string=output_data[0]\n",
    "\n",
    "  except:\n",
    "    input_string=output_data\n",
    "\n",
    "    try:\n",
    "      input_string = input_string.numpy()\n",
    "\n",
    "    except:\n",
    "      return output_data\n",
    "\n",
    "    else:\n",
    "      input_string=(str(input_string))[2:-1]\n",
    "\n",
    "    blob = TextBlob(str(input_string)).words\n",
    "    outputlist = [stemmer.stem(word) for word in blob]\n",
    "    output_string = (' '.join(word for word in outputlist))\n",
    "    output_tensor=tf.constant(output_string)\n",
    "\n",
    "    return output_tensor\n",
    "\n",
    "  else:\n",
    "\n",
    "    try:\n",
    "      input_string = input_string.numpy()\n",
    "\n",
    "    except:\n",
    "      return output_data\n",
    "\n",
    "    else:\n",
    "      input_string=(str(input_string))[2:-1]\n",
    "\n",
    "    blob = TextBlob(str(input_string)).words\n",
    "    outputlist = [stemmer.stem(word) for word in blob]\n",
    "    output_string = (' '.join(word for word in outputlist))\n",
    "    output_tensor=tf.constant([[output_string]])\n",
    "\n",
    "    return output_tensor\n",
    "\n",
    "  return output_data"
   ]
  },
  {
   "cell_type": "code",
   "execution_count": 7,
   "id": "76e8555b-3e4f-4f6f-856f-de9f6807cdac",
   "metadata": {},
   "outputs": [],
   "source": [
    "## SECTION WITH PAIRS OF PREPRO FUNCTIONS. APPLICATION ORDER MATTERS (...IN FOLLOWING SECTIONS TOO).\n",
    "#...5\n",
    "def LOW_RSW(input_data):\n",
    "  return RSW(LOW(input_data))\n",
    "\n",
    "# 6\n",
    "def LOW_STM(input_data):\n",
    "  return STM(LOW(input_data))\n",
    "\n",
    "# 7\n",
    "def RSW_LOW(input_data):\n",
    "  return LOW(RSW(input_data))\n",
    "\n",
    "# 8\n",
    "def RSW_STM(input_data):\n",
    "  return STM(RSW(input_data))\n",
    "\n",
    "# 9\n",
    "def STM_LOW(input_data):\n",
    "  return LOW(STM(input_data))\n",
    "\n",
    "# 10\n",
    "def STM_RSW(input_data):\n",
    "  return RSW(STM(input_data))\n",
    "\n",
    "# 11\n",
    "def LOW_STM_RSW(input_data):\n",
    "  return RSW(STM(LOW(input_data)))\n",
    "\n",
    "# 12\n",
    "def LOW_RSW_STM(input_data):\n",
    "  return STM(RSW(LOW(input_data)))\n",
    "\n",
    "# 13\n",
    "def STM_LOW_RSW(input_data):\n",
    "  return RSW(LOW(STM(input_data)))\n",
    "\n",
    "# 14\n",
    "def STM_RSW_LOW(input_data):\n",
    "  return LOW(RSW(STM(input_data)))\n",
    "\n",
    "# 15\n",
    "def RSW_LOW_STM(input_data):\n",
    "  return STM(LOW(RSW(input_data)))\n",
    "\n",
    "# 16\n",
    "def RSW_STM_LOW(input_data):\n",
    "  return LOW(STM(RSW(input_data)))"
   ]
  },
  {
   "cell_type": "code",
   "execution_count": 8,
   "id": "8a967d7f-c8da-4712-81f6-17b32f7c067a",
   "metadata": {},
   "outputs": [],
   "source": [
    "max_features = 0\n",
    "def preprocess_and_adapt_ts(preprocessing_function,training_set):\n",
    "  # Set a large sequence length to find the longest sample in the training set.\n",
    "  sequence_length = 15000\n",
    "  vectorize_layer = TextVectorization(\n",
    "      standardize=preprocessing_function,\n",
    "      output_mode='int',\n",
    "      output_sequence_length=sequence_length,\n",
    "      encoding='ISO-8859-1')\n",
    "\n",
    "  train_text = training_set.map(lambda x, y: x)\n",
    "  vectorize_layer.adapt(train_text)\n",
    "\n",
    "  model = tf.keras.models.Sequential()\n",
    "  model.add(tf.keras.Input(shape=(1,), dtype=tf.string))\n",
    "  model.add(vectorize_layer)\n",
    "\n",
    "  longest_sample_length=1\n",
    "\n",
    "  for element in training_set:\n",
    "    authorDocument=element[0]\n",
    "    label=element[1]\n",
    "\n",
    "    author_batch = tf.expand_dims(authorDocument, axis=0)\n",
    "    out = model(author_batch)\n",
    "    # Convert token list to numpy array.\n",
    "    token_list = out.numpy()[0]\n",
    "    token_list = np.trim_zeros(token_list,'b')\n",
    "    if longest_sample_length < len(token_list):\n",
    "      longest_sample_length = len(token_list)\n",
    "\n",
    "  print(\"Length of the longest sample is:\", longest_sample_length)\n",
    "\n",
    "  # After tokenization longest_sample_length covers all the document lenghts in our dataset.\n",
    "  sequence_length = longest_sample_length\n",
    "\n",
    "  vectorize_layer = TextVectorization(\n",
    "      standardize=preprocessing_function,\n",
    "      output_mode='int',\n",
    "      output_sequence_length=sequence_length,\n",
    "      encoding='ISO-8859-1')\n",
    "\n",
    "  # Finally adapt the vectorize layer.\n",
    "  train_text = training_set.map(lambda x, y: x)\n",
    "  vectorize_layer.adapt(train_text)\n",
    "  global max_features\n",
    "  max_features=len(vectorize_layer.get_vocabulary()) + 1\n",
    "  return vectorize_layer"
   ]
  },
  {
   "cell_type": "code",
   "execution_count": 9,
   "id": "13c78204-8b92-4386-846a-137461880caa",
   "metadata": {},
   "outputs": [],
   "source": [
    "model_results = defaultdict(lambda: defaultdict(list))\n",
    "prepro_functions_dict_base = {\n",
    "    'DON':DON,\n",
    "    'LOW':LOW,\n",
    "    'RSW':RSW,\n",
    "    'STM':STM\n",
    "    }\n",
    "\n",
    "# 3 prepro functions = 15 combs...+1 for do_nothing\n",
    "\n",
    "prepro_functions_dict_comb = {\n",
    "    # 1. Do nothing\n",
    "    'DON': DON,\n",
    "    # 2. Lowercasing\n",
    "    'LOW':LOW,\n",
    "    # 3. Removing Stopwords\n",
    "    'RSW':RSW,\n",
    "    # 4. Porter Stemming\n",
    "    'STM':STM,\n",
    "    # 5. LOW->RSW\n",
    "    'LOW_RSW':LOW_RSW,\n",
    "    # 6. LOW->STM\n",
    "    'LOW_STM':LOW_STM,\n",
    "    # 7. RSW->LOW\n",
    "    'RSW_LOW':RSW_LOW,\n",
    "    # 8. RSW->STM\n",
    "    'RSW_STM':RSW_STM,\n",
    "    # 9. STM->LOW\n",
    "    'STM_LOW':STM_LOW,\n",
    "    # 10. STM->RSW\n",
    "    'STM_RSW':STM_RSW,\n",
    "    # 11. LOW->STM->RSW\n",
    "    'LOW_STM_RSW':LOW_STM_RSW,\n",
    "    # 12. LOW->RSW->STM\n",
    "    'LOW_RSW_STM':LOW_RSW_STM,\n",
    "    # 13. STM->LOW->RSW\n",
    "    'STM_LOW_RSW':STM_LOW_RSW,\n",
    "    # 14. STM->RSW->LOW\n",
    "    'STM_RSW_LOW':STM_RSW_LOW,\n",
    "    # 15. RSW->LOW->STM\n",
    "    'RSW_LOW_STM':RSW_LOW_STM,\n",
    "    # 16. RSW->STM->LOW\n",
    "    'RSW_STM_LOW':RSW_STM_LOW\n",
    "}"
   ]
  },
  {
   "cell_type": "code",
   "execution_count": 10,
   "id": "82705342-1523-4b21-b220-1fdfd58a322b",
   "metadata": {},
   "outputs": [
    {
     "name": "stdout",
     "output_type": "stream",
     "text": [
      "\n",
      "\n",
      "* * * * EVALUATION USING DON AS PREPROCESSING FUNCTION * * * *\n"
     ]
    },
    {
     "name": "stderr",
     "output_type": "stream",
     "text": [
      "2025-05-05 19:17:27.184055: I tensorflow/core/framework/local_rendezvous.cc:407] Local rendezvous is aborting with status: OUT_OF_RANGE: End of sequence\n",
      "2025-05-05 19:17:28.675224: I tensorflow/core/framework/local_rendezvous.cc:407] Local rendezvous is aborting with status: OUT_OF_RANGE: End of sequence\n"
     ]
    },
    {
     "name": "stdout",
     "output_type": "stream",
     "text": [
      "Length of the longest sample is: 3038\n",
      "\n",
      "\n",
      "***** FINISHED PROCESSING AND ADAPTING THE TRAINING SET, THE SIMULATION BEGINS *******\n",
      "Sample considered is:  tf.Tensor([[b': : I have 19 (2 MB worth!) uuencode\\'d GIF images contain charts outlining\\n: : one of the many alternative Space Station designs being considered in\\n: : Crystal City.  [...]\\n\\n: I just posted the GIF files out for anonymous FTP on server ics.uci.edu.\\n: You can retrieve them from:\\n:   ics.uci.edu:incoming/geode01.gif\\n:   ics.uci.edu:incoming/geode02.gif\\n:   ics.uci.edu:incoming/geode03.gif\\n:   ics.uci.edu:incoming/geode04.gif\\n:   ics.uci.edu:incoming/geode05.gif\\n:   ics.uci.edu:incoming/geode06.gif\\n:   ics.uci.edu:incoming/geode07.gif\\n:   ics.uci.edu:incoming/geode08.gif\\n:   ics.uci.edu:incoming/geode09.gif\\n:   ics.uci.edu:incoming/geode10.gif\\n:   ics.uci.edu:incoming/geode11.gif\\n:   ics.uci.edu:incoming/geode12.gif\\n:   ics.uci.edu:incoming/geode13.gif\\n:   ics.uci.edu:incoming/geode14.gif\\n:   ics.uci.edu:incoming/geode15.gif\\n:   ics.uci.edu:incoming/geode16.gif\\n:   ics.uci.edu:incoming/geode17.gif\\n:   ics.uci.edu:incoming/geodeA.gif\\n:   ics.uci.edu:incoming/geodeB.gif\\n\\n: The last two are scanned color photos; the others are scanned briefing\\n: charts.\\n\\n: These will be deleted by the ics.uci.edu system manager in a few days,\\n: so now\\'s the time to grab them if you\\'re interested.  Sorry it took\\n: me so long to get these out, but I was trying for the Ames server,\\n: but it\\'s out of space.\\n\\nBut now I need to clarify the situation.  The \"/incoming\" directory on\\nics.uci.edu does NOT allow you to do an \"ls\" command.  The files are\\nthere (I just checked on 04/28/93 at 9:35 CDT), and you can \"get\" them\\n(don\\'t forget the \"binary\" mode!), but you can\\'t \"ls\" in the\\n\"/incoming\" directory.\\n\\nA further update: Mark\\'s design made the cover of Space News this week\\nas one of the design alternatives which was rejected.  But he\\'s still\\nin there plugging.  I wish him luck -- using ET\\'s as the basis of a\\nSpace Station has been a good idea for a long time.\\n\\nMay the best design win.\\n\\n-- Ken Jenks, NASA/JSC/GM2, Space Shuttle Program Office\\n      kjenks@gothamcity.jsc.nasa.gov  (713) 483-4368']], shape=(1, 1), dtype=string)\n",
      "Preprocessed:  tf.Tensor([[b'   :       :       I       h   a   v   e       1   9       (   2       M   B       w   o   r   t   h   !   )       u   u   e   n   c   o   d   e   \\'   d       G   I   F       i   m   a   g   e   s       c   o   n   t   a   i   n       c   h   a   r   t   s       o   u   t   l   i   n   i   n   g      :       :       o   n   e       o   f       t   h   e       m   a   n   y       a   l   t   e   r   n   a   t   i   v   e       S   p   a   c   e       S   t   a   t   i   o   n       d   e   s   i   g   n   s       b   e   i   n   g       c   o   n   s   i   d   e   r   e   d       i   n      :       :       C   r   y   s   t   a   l       C   i   t   y   .           [   .   .   .   ]         :       I       j   u   s   t       p   o   s   t   e   d       t   h   e       G   I   F       f   i   l   e   s       o   u   t       f   o   r       a   n   o   n   y   m   o   u   s       F   T   P       o   n       s   e   r   v   e   r       i   c   s   .   u   c   i   .   e   d   u   .      :       Y   o   u       c   a   n       r   e   t   r   i   e   v   e       t   h   e   m       f   r   o   m   :      :               i   c   s   .   u   c   i   .   e   d   u   :   i   n   c   o   m   i   n   g   /   g   e   o   d   e   0   1   .   g   i   f      :               i   c   s   .   u   c   i   .   e   d   u   :   i   n   c   o   m   i   n   g   /   g   e   o   d   e   0   2   .   g   i   f      :               i   c   s   .   u   c   i   .   e   d   u   :   i   n   c   o   m   i   n   g   /   g   e   o   d   e   0   3   .   g   i   f      :               i   c   s   .   u   c   i   .   e   d   u   :   i   n   c   o   m   i   n   g   /   g   e   o   d   e   0   4   .   g   i   f      :               i   c   s   .   u   c   i   .   e   d   u   :   i   n   c   o   m   i   n   g   /   g   e   o   d   e   0   5   .   g   i   f      :               i   c   s   .   u   c   i   .   e   d   u   :   i   n   c   o   m   i   n   g   /   g   e   o   d   e   0   6   .   g   i   f      :               i   c   s   .   u   c   i   .   e   d   u   :   i   n   c   o   m   i   n   g   /   g   e   o   d   e   0   7   .   g   i   f      :               i   c   s   .   u   c   i   .   e   d   u   :   i   n   c   o   m   i   n   g   /   g   e   o   d   e   0   8   .   g   i   f      :               i   c   s   .   u   c   i   .   e   d   u   :   i   n   c   o   m   i   n   g   /   g   e   o   d   e   0   9   .   g   i   f      :               i   c   s   .   u   c   i   .   e   d   u   :   i   n   c   o   m   i   n   g   /   g   e   o   d   e   1   0   .   g   i   f      :               i   c   s   .   u   c   i   .   e   d   u   :   i   n   c   o   m   i   n   g   /   g   e   o   d   e   1   1   .   g   i   f      :               i   c   s   .   u   c   i   .   e   d   u   :   i   n   c   o   m   i   n   g   /   g   e   o   d   e   1   2   .   g   i   f      :               i   c   s   .   u   c   i   .   e   d   u   :   i   n   c   o   m   i   n   g   /   g   e   o   d   e   1   3   .   g   i   f      :               i   c   s   .   u   c   i   .   e   d   u   :   i   n   c   o   m   i   n   g   /   g   e   o   d   e   1   4   .   g   i   f      :               i   c   s   .   u   c   i   .   e   d   u   :   i   n   c   o   m   i   n   g   /   g   e   o   d   e   1   5   .   g   i   f      :               i   c   s   .   u   c   i   .   e   d   u   :   i   n   c   o   m   i   n   g   /   g   e   o   d   e   1   6   .   g   i   f      :               i   c   s   .   u   c   i   .   e   d   u   :   i   n   c   o   m   i   n   g   /   g   e   o   d   e   1   7   .   g   i   f      :               i   c   s   .   u   c   i   .   e   d   u   :   i   n   c   o   m   i   n   g   /   g   e   o   d   e   A   .   g   i   f      :               i   c   s   .   u   c   i   .   e   d   u   :   i   n   c   o   m   i   n   g   /   g   e   o   d   e   B   .   g   i   f         :       T   h   e       l   a   s   t       t   w   o       a   r   e       s   c   a   n   n   e   d       c   o   l   o   r       p   h   o   t   o   s   ;       t   h   e       o   t   h   e   r   s       a   r   e       s   c   a   n   n   e   d       b   r   i   e   f   i   n   g      :       c   h   a   r   t   s   .         :       T   h   e   s   e       w   i   l   l       b   e       d   e   l   e   t   e   d       b   y       t   h   e       i   c   s   .   u   c   i   .   e   d   u       s   y   s   t   e   m       m   a   n   a   g   e   r       i   n       a       f   e   w       d   a   y   s   ,      :       s   o       n   o   w   \\'   s       t   h   e       t   i   m   e       t   o       g   r   a   b       t   h   e   m       i   f       y   o   u   \\'   r   e       i   n   t   e   r   e   s   t   e   d   .           S   o   r   r   y       i   t       t   o   o   k      :       m   e       s   o       l   o   n   g       t   o       g   e   t       t   h   e   s   e       o   u   t   ,       b   u   t       I       w   a   s       t   r   y   i   n   g       f   o   r       t   h   e       A   m   e   s       s   e   r   v   e   r   ,      :       b   u   t       i   t   \\'   s       o   u   t       o   f       s   p   a   c   e   .         B   u   t       n   o   w       I       n   e   e   d       t   o       c   l   a   r   i   f   y       t   h   e       s   i   t   u   a   t   i   o   n   .           T   h   e       \"   /   i   n   c   o   m   i   n   g   \"       d   i   r   e   c   t   o   r   y       o   n      i   c   s   .   u   c   i   .   e   d   u       d   o   e   s       N   O   T       a   l   l   o   w       y   o   u       t   o       d   o       a   n       \"   l   s   \"       c   o   m   m   a   n   d   .           T   h   e       f   i   l   e   s       a   r   e      t   h   e   r   e       (   I       j   u   s   t       c   h   e   c   k   e   d       o   n       0   4   /   2   8   /   9   3       a   t       9   :   3   5       C   D   T   )   ,       a   n   d       y   o   u       c   a   n       \"   g   e   t   \"       t   h   e   m      (   d   o   n   \\'   t       f   o   r   g   e   t       t   h   e       \"   b   i   n   a   r   y   \"       m   o   d   e   !   )   ,       b   u   t       y   o   u       c   a   n   \\'   t       \"   l   s   \"       i   n       t   h   e      \"   /   i   n   c   o   m   i   n   g   \"       d   i   r   e   c   t   o   r   y   .         A       f   u   r   t   h   e   r       u   p   d   a   t   e   :       M   a   r   k   \\'   s       d   e   s   i   g   n       m   a   d   e       t   h   e       c   o   v   e   r       o   f       S   p   a   c   e       N   e   w   s       t   h   i   s       w   e   e   k      a   s       o   n   e       o   f       t   h   e       d   e   s   i   g   n       a   l   t   e   r   n   a   t   i   v   e   s       w   h   i   c   h       w   a   s       r   e   j   e   c   t   e   d   .           B   u   t       h   e   \\'   s       s   t   i   l   l      i   n       t   h   e   r   e       p   l   u   g   g   i   n   g   .           I       w   i   s   h       h   i   m       l   u   c   k       -   -       u   s   i   n   g       E   T   \\'   s       a   s       t   h   e       b   a   s   i   s       o   f       a      S   p   a   c   e       S   t   a   t   i   o   n       h   a   s       b   e   e   n       a       g   o   o   d       i   d   e   a       f   o   r       a       l   o   n   g       t   i   m   e   .         M   a   y       t   h   e       b   e   s   t       d   e   s   i   g   n       w   i   n   .         -   -       K   e   n       J   e   n   k   s   ,       N   A   S   A   /   J   S   C   /   G   M   2   ,       S   p   a   c   e       S   h   u   t   t   l   e       P   r   o   g   r   a   m       O   f   f   i   c   e                              k   j   e   n   k   s   @   g   o   t   h   a   m   c   i   t   y   .   j   s   c   .   n   a   s   a   .   g   o   v           (   7   1   3   )       4   8   3   -   4   3   6   8   ']], shape=(1, 1), dtype=string)\n"
     ]
    },
    {
     "name": "stderr",
     "output_type": "stream",
     "text": [
      "2025-05-05 19:17:29.109952: I tensorflow/core/framework/local_rendezvous.cc:407] Local rendezvous is aborting with status: OUT_OF_RANGE: End of sequence\n",
      "/opt/homebrew/anaconda3/lib/python3.12/site-packages/sklearn/metrics/_classification.py:1531: UndefinedMetricWarning: Recall is ill-defined and being set to 0.0 in labels with no true samples. Use `zero_division` parameter to control this behavior.\n",
      "  _warn_prf(average, modifier, f\"{metric.capitalize()} is\", len(result))\n",
      "/opt/homebrew/anaconda3/lib/python3.12/site-packages/sklearn/metrics/_classification.py:1531: UndefinedMetricWarning: Recall is ill-defined and being set to 0.0 in labels with no true samples. Use `zero_division` parameter to control this behavior.\n",
      "  _warn_prf(average, modifier, f\"{metric.capitalize()} is\", len(result))\n"
     ]
    },
    {
     "name": "stdout",
     "output_type": "stream",
     "text": [
      "NB Accuracy on Test set -> 0.14\n",
      "NB Recall on Test set -> 0.13666666666666666\n",
      "SVM Accuracy on Test set -> 0.3\n",
      "SVM Recall on Test set -> 0.2508333333333333\n"
     ]
    },
    {
     "name": "stderr",
     "output_type": "stream",
     "text": [
      "/opt/homebrew/anaconda3/lib/python3.12/site-packages/sklearn/linear_model/_logistic.py:469: ConvergenceWarning: lbfgs failed to converge (status=1):\n",
      "STOP: TOTAL NO. of ITERATIONS REACHED LIMIT.\n",
      "\n",
      "Increase the number of iterations (max_iter) or scale the data as shown in:\n",
      "    https://scikit-learn.org/stable/modules/preprocessing.html\n",
      "Please also refer to the documentation for alternative solver options:\n",
      "    https://scikit-learn.org/stable/modules/linear_model.html#logistic-regression\n",
      "  n_iter_i = _check_optimize_result(\n",
      "/opt/homebrew/anaconda3/lib/python3.12/site-packages/sklearn/metrics/_classification.py:1531: UndefinedMetricWarning: Recall is ill-defined and being set to 0.0 in labels with no true samples. Use `zero_division` parameter to control this behavior.\n",
      "  _warn_prf(average, modifier, f\"{metric.capitalize()} is\", len(result))\n",
      "/opt/homebrew/anaconda3/lib/python3.12/site-packages/sklearn/ensemble/_weight_boosting.py:527: FutureWarning: The SAMME.R algorithm (the default) is deprecated and will be removed in 1.6. Use the SAMME algorithm to circumvent this warning.\n",
      "  warnings.warn(\n"
     ]
    },
    {
     "name": "stdout",
     "output_type": "stream",
     "text": [
      "LR Accuracy on Test set -> 0.24\n",
      "LR Recall on Test set -> 0.22456140350877193\n",
      "AdaBoost Accuracy on Test set -> 0.04\n",
      "AdaBoost Recall on Test set -> 0.07407407407407407\n"
     ]
    },
    {
     "name": "stderr",
     "output_type": "stream",
     "text": [
      "/opt/homebrew/anaconda3/lib/python3.12/site-packages/sklearn/metrics/_classification.py:1531: UndefinedMetricWarning: Recall is ill-defined and being set to 0.0 in labels with no true samples. Use `zero_division` parameter to control this behavior.\n",
      "  _warn_prf(average, modifier, f\"{metric.capitalize()} is\", len(result))\n",
      "/opt/homebrew/anaconda3/lib/python3.12/site-packages/sklearn/metrics/_classification.py:1531: UndefinedMetricWarning: Recall is ill-defined and being set to 0.0 in labels with no true samples. Use `zero_division` parameter to control this behavior.\n",
      "  _warn_prf(average, modifier, f\"{metric.capitalize()} is\", len(result))\n",
      "/opt/homebrew/anaconda3/lib/python3.12/site-packages/sklearn/metrics/_classification.py:1531: UndefinedMetricWarning: Recall is ill-defined and being set to 0.0 in labels with no true samples. Use `zero_division` parameter to control this behavior.\n",
      "  _warn_prf(average, modifier, f\"{metric.capitalize()} is\", len(result))\n"
     ]
    },
    {
     "name": "stdout",
     "output_type": "stream",
     "text": [
      "XGBoost Accuracy on Test set -> 0.22\n",
      "XGBoost Recall on Test set -> 0.12083333333333335\n",
      "RandomForest Accuracy on Test set -> 0.28\n",
      "RandomForest Recall on Test set -> 0.2263157894736842\n",
      "DecisionTree Accuracy on Test set -> 0.12\n",
      "DecisionTree Recall on Test set -> 0.07999999999999999\n",
      "\n",
      "\n",
      "* * * * EVALUATION USING LOW AS PREPROCESSING FUNCTION * * * *\n",
      "Length of the longest sample is: 3038\n",
      "\n",
      "\n",
      "***** FINISHED PROCESSING AND ADAPTING THE TRAINING SET, THE SIMULATION BEGINS *******\n",
      "Sample considered is:  tf.Tensor([[b': : I have 19 (2 MB worth!) uuencode\\'d GIF images contain charts outlining\\n: : one of the many alternative Space Station designs being considered in\\n: : Crystal City.  [...]\\n\\n: I just posted the GIF files out for anonymous FTP on server ics.uci.edu.\\n: You can retrieve them from:\\n:   ics.uci.edu:incoming/geode01.gif\\n:   ics.uci.edu:incoming/geode02.gif\\n:   ics.uci.edu:incoming/geode03.gif\\n:   ics.uci.edu:incoming/geode04.gif\\n:   ics.uci.edu:incoming/geode05.gif\\n:   ics.uci.edu:incoming/geode06.gif\\n:   ics.uci.edu:incoming/geode07.gif\\n:   ics.uci.edu:incoming/geode08.gif\\n:   ics.uci.edu:incoming/geode09.gif\\n:   ics.uci.edu:incoming/geode10.gif\\n:   ics.uci.edu:incoming/geode11.gif\\n:   ics.uci.edu:incoming/geode12.gif\\n:   ics.uci.edu:incoming/geode13.gif\\n:   ics.uci.edu:incoming/geode14.gif\\n:   ics.uci.edu:incoming/geode15.gif\\n:   ics.uci.edu:incoming/geode16.gif\\n:   ics.uci.edu:incoming/geode17.gif\\n:   ics.uci.edu:incoming/geodeA.gif\\n:   ics.uci.edu:incoming/geodeB.gif\\n\\n: The last two are scanned color photos; the others are scanned briefing\\n: charts.\\n\\n: These will be deleted by the ics.uci.edu system manager in a few days,\\n: so now\\'s the time to grab them if you\\'re interested.  Sorry it took\\n: me so long to get these out, but I was trying for the Ames server,\\n: but it\\'s out of space.\\n\\nBut now I need to clarify the situation.  The \"/incoming\" directory on\\nics.uci.edu does NOT allow you to do an \"ls\" command.  The files are\\nthere (I just checked on 04/28/93 at 9:35 CDT), and you can \"get\" them\\n(don\\'t forget the \"binary\" mode!), but you can\\'t \"ls\" in the\\n\"/incoming\" directory.\\n\\nA further update: Mark\\'s design made the cover of Space News this week\\nas one of the design alternatives which was rejected.  But he\\'s still\\nin there plugging.  I wish him luck -- using ET\\'s as the basis of a\\nSpace Station has been a good idea for a long time.\\n\\nMay the best design win.\\n\\n-- Ken Jenks, NASA/JSC/GM2, Space Shuttle Program Office\\n      kjenks@gothamcity.jsc.nasa.gov  (713) 483-4368']], shape=(1, 1), dtype=string)\n",
      "Preprocessed:  tf.Tensor([[b'   :       :       i       h   a   v   e       1   9       (   2       m   b       w   o   r   t   h   !   )       u   u   e   n   c   o   d   e   \\'   d       g   i   f       i   m   a   g   e   s       c   o   n   t   a   i   n       c   h   a   r   t   s       o   u   t   l   i   n   i   n   g      :       :       o   n   e       o   f       t   h   e       m   a   n   y       a   l   t   e   r   n   a   t   i   v   e       s   p   a   c   e       s   t   a   t   i   o   n       d   e   s   i   g   n   s       b   e   i   n   g       c   o   n   s   i   d   e   r   e   d       i   n      :       :       c   r   y   s   t   a   l       c   i   t   y   .           [   .   .   .   ]         :       i       j   u   s   t       p   o   s   t   e   d       t   h   e       g   i   f       f   i   l   e   s       o   u   t       f   o   r       a   n   o   n   y   m   o   u   s       f   t   p       o   n       s   e   r   v   e   r       i   c   s   .   u   c   i   .   e   d   u   .      :       y   o   u       c   a   n       r   e   t   r   i   e   v   e       t   h   e   m       f   r   o   m   :      :               i   c   s   .   u   c   i   .   e   d   u   :   i   n   c   o   m   i   n   g   /   g   e   o   d   e   0   1   .   g   i   f      :               i   c   s   .   u   c   i   .   e   d   u   :   i   n   c   o   m   i   n   g   /   g   e   o   d   e   0   2   .   g   i   f      :               i   c   s   .   u   c   i   .   e   d   u   :   i   n   c   o   m   i   n   g   /   g   e   o   d   e   0   3   .   g   i   f      :               i   c   s   .   u   c   i   .   e   d   u   :   i   n   c   o   m   i   n   g   /   g   e   o   d   e   0   4   .   g   i   f      :               i   c   s   .   u   c   i   .   e   d   u   :   i   n   c   o   m   i   n   g   /   g   e   o   d   e   0   5   .   g   i   f      :               i   c   s   .   u   c   i   .   e   d   u   :   i   n   c   o   m   i   n   g   /   g   e   o   d   e   0   6   .   g   i   f      :               i   c   s   .   u   c   i   .   e   d   u   :   i   n   c   o   m   i   n   g   /   g   e   o   d   e   0   7   .   g   i   f      :               i   c   s   .   u   c   i   .   e   d   u   :   i   n   c   o   m   i   n   g   /   g   e   o   d   e   0   8   .   g   i   f      :               i   c   s   .   u   c   i   .   e   d   u   :   i   n   c   o   m   i   n   g   /   g   e   o   d   e   0   9   .   g   i   f      :               i   c   s   .   u   c   i   .   e   d   u   :   i   n   c   o   m   i   n   g   /   g   e   o   d   e   1   0   .   g   i   f      :               i   c   s   .   u   c   i   .   e   d   u   :   i   n   c   o   m   i   n   g   /   g   e   o   d   e   1   1   .   g   i   f      :               i   c   s   .   u   c   i   .   e   d   u   :   i   n   c   o   m   i   n   g   /   g   e   o   d   e   1   2   .   g   i   f      :               i   c   s   .   u   c   i   .   e   d   u   :   i   n   c   o   m   i   n   g   /   g   e   o   d   e   1   3   .   g   i   f      :               i   c   s   .   u   c   i   .   e   d   u   :   i   n   c   o   m   i   n   g   /   g   e   o   d   e   1   4   .   g   i   f      :               i   c   s   .   u   c   i   .   e   d   u   :   i   n   c   o   m   i   n   g   /   g   e   o   d   e   1   5   .   g   i   f      :               i   c   s   .   u   c   i   .   e   d   u   :   i   n   c   o   m   i   n   g   /   g   e   o   d   e   1   6   .   g   i   f      :               i   c   s   .   u   c   i   .   e   d   u   :   i   n   c   o   m   i   n   g   /   g   e   o   d   e   1   7   .   g   i   f      :               i   c   s   .   u   c   i   .   e   d   u   :   i   n   c   o   m   i   n   g   /   g   e   o   d   e   a   .   g   i   f      :               i   c   s   .   u   c   i   .   e   d   u   :   i   n   c   o   m   i   n   g   /   g   e   o   d   e   b   .   g   i   f         :       t   h   e       l   a   s   t       t   w   o       a   r   e       s   c   a   n   n   e   d       c   o   l   o   r       p   h   o   t   o   s   ;       t   h   e       o   t   h   e   r   s       a   r   e       s   c   a   n   n   e   d       b   r   i   e   f   i   n   g      :       c   h   a   r   t   s   .         :       t   h   e   s   e       w   i   l   l       b   e       d   e   l   e   t   e   d       b   y       t   h   e       i   c   s   .   u   c   i   .   e   d   u       s   y   s   t   e   m       m   a   n   a   g   e   r       i   n       a       f   e   w       d   a   y   s   ,      :       s   o       n   o   w   \\'   s       t   h   e       t   i   m   e       t   o       g   r   a   b       t   h   e   m       i   f       y   o   u   \\'   r   e       i   n   t   e   r   e   s   t   e   d   .           s   o   r   r   y       i   t       t   o   o   k      :       m   e       s   o       l   o   n   g       t   o       g   e   t       t   h   e   s   e       o   u   t   ,       b   u   t       i       w   a   s       t   r   y   i   n   g       f   o   r       t   h   e       a   m   e   s       s   e   r   v   e   r   ,      :       b   u   t       i   t   \\'   s       o   u   t       o   f       s   p   a   c   e   .         b   u   t       n   o   w       i       n   e   e   d       t   o       c   l   a   r   i   f   y       t   h   e       s   i   t   u   a   t   i   o   n   .           t   h   e       \"   /   i   n   c   o   m   i   n   g   \"       d   i   r   e   c   t   o   r   y       o   n      i   c   s   .   u   c   i   .   e   d   u       d   o   e   s       n   o   t       a   l   l   o   w       y   o   u       t   o       d   o       a   n       \"   l   s   \"       c   o   m   m   a   n   d   .           t   h   e       f   i   l   e   s       a   r   e      t   h   e   r   e       (   i       j   u   s   t       c   h   e   c   k   e   d       o   n       0   4   /   2   8   /   9   3       a   t       9   :   3   5       c   d   t   )   ,       a   n   d       y   o   u       c   a   n       \"   g   e   t   \"       t   h   e   m      (   d   o   n   \\'   t       f   o   r   g   e   t       t   h   e       \"   b   i   n   a   r   y   \"       m   o   d   e   !   )   ,       b   u   t       y   o   u       c   a   n   \\'   t       \"   l   s   \"       i   n       t   h   e      \"   /   i   n   c   o   m   i   n   g   \"       d   i   r   e   c   t   o   r   y   .         a       f   u   r   t   h   e   r       u   p   d   a   t   e   :       m   a   r   k   \\'   s       d   e   s   i   g   n       m   a   d   e       t   h   e       c   o   v   e   r       o   f       s   p   a   c   e       n   e   w   s       t   h   i   s       w   e   e   k      a   s       o   n   e       o   f       t   h   e       d   e   s   i   g   n       a   l   t   e   r   n   a   t   i   v   e   s       w   h   i   c   h       w   a   s       r   e   j   e   c   t   e   d   .           b   u   t       h   e   \\'   s       s   t   i   l   l      i   n       t   h   e   r   e       p   l   u   g   g   i   n   g   .           i       w   i   s   h       h   i   m       l   u   c   k       -   -       u   s   i   n   g       e   t   \\'   s       a   s       t   h   e       b   a   s   i   s       o   f       a      s   p   a   c   e       s   t   a   t   i   o   n       h   a   s       b   e   e   n       a       g   o   o   d       i   d   e   a       f   o   r       a       l   o   n   g       t   i   m   e   .         m   a   y       t   h   e       b   e   s   t       d   e   s   i   g   n       w   i   n   .         -   -       k   e   n       j   e   n   k   s   ,       n   a   s   a   /   j   s   c   /   g   m   2   ,       s   p   a   c   e       s   h   u   t   t   l   e       p   r   o   g   r   a   m       o   f   f   i   c   e                              k   j   e   n   k   s   @   g   o   t   h   a   m   c   i   t   y   .   j   s   c   .   n   a   s   a   .   g   o   v           (   7   1   3   )       4   8   3   -   4   3   6   8   ']], shape=(1, 1), dtype=string)\n"
     ]
    },
    {
     "name": "stderr",
     "output_type": "stream",
     "text": [
      "2025-05-05 19:17:33.564263: I tensorflow/core/framework/local_rendezvous.cc:407] Local rendezvous is aborting with status: OUT_OF_RANGE: End of sequence\n",
      "/opt/homebrew/anaconda3/lib/python3.12/site-packages/sklearn/metrics/_classification.py:1531: UndefinedMetricWarning: Recall is ill-defined and being set to 0.0 in labels with no true samples. Use `zero_division` parameter to control this behavior.\n",
      "  _warn_prf(average, modifier, f\"{metric.capitalize()} is\", len(result))\n",
      "/opt/homebrew/anaconda3/lib/python3.12/site-packages/sklearn/metrics/_classification.py:1531: UndefinedMetricWarning: Recall is ill-defined and being set to 0.0 in labels with no true samples. Use `zero_division` parameter to control this behavior.\n",
      "  _warn_prf(average, modifier, f\"{metric.capitalize()} is\", len(result))\n"
     ]
    },
    {
     "name": "stdout",
     "output_type": "stream",
     "text": [
      "NB Accuracy on Test set -> 0.08\n",
      "NB Recall on Test set -> 0.095\n",
      "SVM Accuracy on Test set -> 0.22\n",
      "SVM Recall on Test set -> 0.19649122807017544\n"
     ]
    },
    {
     "name": "stderr",
     "output_type": "stream",
     "text": [
      "/opt/homebrew/anaconda3/lib/python3.12/site-packages/sklearn/linear_model/_logistic.py:469: ConvergenceWarning: lbfgs failed to converge (status=1):\n",
      "STOP: TOTAL NO. of ITERATIONS REACHED LIMIT.\n",
      "\n",
      "Increase the number of iterations (max_iter) or scale the data as shown in:\n",
      "    https://scikit-learn.org/stable/modules/preprocessing.html\n",
      "Please also refer to the documentation for alternative solver options:\n",
      "    https://scikit-learn.org/stable/modules/linear_model.html#logistic-regression\n",
      "  n_iter_i = _check_optimize_result(\n",
      "/opt/homebrew/anaconda3/lib/python3.12/site-packages/sklearn/metrics/_classification.py:1531: UndefinedMetricWarning: Recall is ill-defined and being set to 0.0 in labels with no true samples. Use `zero_division` parameter to control this behavior.\n",
      "  _warn_prf(average, modifier, f\"{metric.capitalize()} is\", len(result))\n",
      "/opt/homebrew/anaconda3/lib/python3.12/site-packages/sklearn/ensemble/_weight_boosting.py:527: FutureWarning: The SAMME.R algorithm (the default) is deprecated and will be removed in 1.6. Use the SAMME algorithm to circumvent this warning.\n",
      "  warnings.warn(\n"
     ]
    },
    {
     "name": "stdout",
     "output_type": "stream",
     "text": [
      "LR Accuracy on Test set -> 0.14\n",
      "LR Recall on Test set -> 0.135\n",
      "AdaBoost Accuracy on Test set -> 0.14\n",
      "AdaBoost Recall on Test set -> 0.14259259259259258\n"
     ]
    },
    {
     "name": "stderr",
     "output_type": "stream",
     "text": [
      "/opt/homebrew/anaconda3/lib/python3.12/site-packages/sklearn/metrics/_classification.py:1531: UndefinedMetricWarning: Recall is ill-defined and being set to 0.0 in labels with no true samples. Use `zero_division` parameter to control this behavior.\n",
      "  _warn_prf(average, modifier, f\"{metric.capitalize()} is\", len(result))\n",
      "/opt/homebrew/anaconda3/lib/python3.12/site-packages/sklearn/metrics/_classification.py:1531: UndefinedMetricWarning: Recall is ill-defined and being set to 0.0 in labels with no true samples. Use `zero_division` parameter to control this behavior.\n",
      "  _warn_prf(average, modifier, f\"{metric.capitalize()} is\", len(result))\n",
      "/opt/homebrew/anaconda3/lib/python3.12/site-packages/sklearn/metrics/_classification.py:1531: UndefinedMetricWarning: Recall is ill-defined and being set to 0.0 in labels with no true samples. Use `zero_division` parameter to control this behavior.\n",
      "  _warn_prf(average, modifier, f\"{metric.capitalize()} is\", len(result))\n"
     ]
    },
    {
     "name": "stdout",
     "output_type": "stream",
     "text": [
      "XGBoost Accuracy on Test set -> 0.14\n",
      "XGBoost Recall on Test set -> 0.12333333333333334\n",
      "RandomForest Accuracy on Test set -> 0.18\n",
      "RandomForest Recall on Test set -> 0.1789473684210526\n",
      "DecisionTree Accuracy on Test set -> 0.18\n",
      "DecisionTree Recall on Test set -> 0.18833333333333332\n",
      "\n",
      "\n",
      "* * * * EVALUATION USING RSW AS PREPROCESSING FUNCTION * * * *\n",
      "Length of the longest sample is: 1982\n",
      "\n",
      "\n",
      "***** FINISHED PROCESSING AND ADAPTING THE TRAINING SET, THE SIMULATION BEGINS *******\n",
      "Sample considered is:  tf.Tensor([[b': : I have 19 (2 MB worth!) uuencode\\'d GIF images contain charts outlining\\n: : one of the many alternative Space Station designs being considered in\\n: : Crystal City.  [...]\\n\\n: I just posted the GIF files out for anonymous FTP on server ics.uci.edu.\\n: You can retrieve them from:\\n:   ics.uci.edu:incoming/geode01.gif\\n:   ics.uci.edu:incoming/geode02.gif\\n:   ics.uci.edu:incoming/geode03.gif\\n:   ics.uci.edu:incoming/geode04.gif\\n:   ics.uci.edu:incoming/geode05.gif\\n:   ics.uci.edu:incoming/geode06.gif\\n:   ics.uci.edu:incoming/geode07.gif\\n:   ics.uci.edu:incoming/geode08.gif\\n:   ics.uci.edu:incoming/geode09.gif\\n:   ics.uci.edu:incoming/geode10.gif\\n:   ics.uci.edu:incoming/geode11.gif\\n:   ics.uci.edu:incoming/geode12.gif\\n:   ics.uci.edu:incoming/geode13.gif\\n:   ics.uci.edu:incoming/geode14.gif\\n:   ics.uci.edu:incoming/geode15.gif\\n:   ics.uci.edu:incoming/geode16.gif\\n:   ics.uci.edu:incoming/geode17.gif\\n:   ics.uci.edu:incoming/geodeA.gif\\n:   ics.uci.edu:incoming/geodeB.gif\\n\\n: The last two are scanned color photos; the others are scanned briefing\\n: charts.\\n\\n: These will be deleted by the ics.uci.edu system manager in a few days,\\n: so now\\'s the time to grab them if you\\'re interested.  Sorry it took\\n: me so long to get these out, but I was trying for the Ames server,\\n: but it\\'s out of space.\\n\\nBut now I need to clarify the situation.  The \"/incoming\" directory on\\nics.uci.edu does NOT allow you to do an \"ls\" command.  The files are\\nthere (I just checked on 04/28/93 at 9:35 CDT), and you can \"get\" them\\n(don\\'t forget the \"binary\" mode!), but you can\\'t \"ls\" in the\\n\"/incoming\" directory.\\n\\nA further update: Mark\\'s design made the cover of Space News this week\\nas one of the design alternatives which was rejected.  But he\\'s still\\nin there plugging.  I wish him luck -- using ET\\'s as the basis of a\\nSpace Station has been a good idea for a long time.\\n\\nMay the best design win.\\n\\n-- Ken Jenks, NASA/JSC/GM2, Space Shuttle Program Office\\n      kjenks@gothamcity.jsc.nasa.gov  (713) 483-4368']], shape=(1, 1), dtype=string)\n",
      "Preprocessed:  tf.Tensor([[b'I h v e 1 9 2 M B w r h u u e n c e G I F g e c n n c h r u l n n g n e f h e n l e r n v e S p c e S n e g n b e n g c n e r e n C r l C I j u p e h e G I F f l e u f r n n u F T P n e r v e r c u c e u Y u c n r e r e v e h e f r c u c e u n c n g g e e 0 1 g f c u c e u n c n g g e e 0 2 g f c u c e u n c n g g e e 0 3 g f c u c e u n c n g g e e 0 4 g f c u c e u n c n g g e e 0 5 g f c u c e u n c n g g e e 0 6 g f c u c e u n c n g g e e 0 7 g f c u c e u n c n g g e e 0 8 g f c u c e u n c n g g e e 0 9 g f c u c e u n c n g g e e 1 0 g f c u c e u n c n g g e e 1 1 g f c u c e u n c n g g e e 1 2 g f c u c e u n c n g g e e 1 3 g f c u c e u n c n g g e e 1 4 g f c u c e u n c n g g e e 1 5 g f c u c e u n c n g g e e 1 6 g f c u c e u n c n g g e e 1 7 g f c u c e u n c n g g e e A g f c u c e u n c n g g e e B g f T h e l w r e c n n e c l r p h h e h e r r e c n n e b r e f n g c h r T h e e w l l b e e l e e b h e c u c e u e n g e r n f e w n w h e e g r b h e f u r e n e r e e S r r k e l n g g e h e e u b u I w r n g f r h e A e e r v e r b u u f p c e B u n w I n e e c l r f h e u n T h e n c n g r e c r n c u c e u e N O T l l w u n l c n T h e f l e r e h e r e I j u c h e c k e n 0 4 2 8 9 3 9 3 5 C D T n u c n g e h e n f r g e h e b n r e b u u c n l n h e n c n g r e c r A f u r h e r u p e M r k e g n e h e c v e r f S p c e N e w h w e e k n e f h e e g n l e r n v e w h c h w r e j e c e B u h e l l n h e r e p l u g g n g I w h h l u c k u n g E T h e b f S p c e S n h b e e n g e f r l n g e M h e b e e g n w n K e n J e n k N A S A J S C G M 2 S p c e S h u l e P r g r O f f c e k j e n k g h c j c n g v 7 1 3 4 8 3 4 3 6 8']], shape=(1, 1), dtype=string)\n"
     ]
    },
    {
     "name": "stderr",
     "output_type": "stream",
     "text": [
      "/opt/homebrew/anaconda3/lib/python3.12/site-packages/sklearn/metrics/_classification.py:1531: UndefinedMetricWarning: Recall is ill-defined and being set to 0.0 in labels with no true samples. Use `zero_division` parameter to control this behavior.\n",
      "  _warn_prf(average, modifier, f\"{metric.capitalize()} is\", len(result))\n",
      "/opt/homebrew/anaconda3/lib/python3.12/site-packages/sklearn/metrics/_classification.py:1531: UndefinedMetricWarning: Recall is ill-defined and being set to 0.0 in labels with no true samples. Use `zero_division` parameter to control this behavior.\n",
      "  _warn_prf(average, modifier, f\"{metric.capitalize()} is\", len(result))\n"
     ]
    },
    {
     "name": "stdout",
     "output_type": "stream",
     "text": [
      "NB Accuracy on Test set -> 0.2\n",
      "NB Recall on Test set -> 0.21583333333333332\n",
      "SVM Accuracy on Test set -> 0.2\n",
      "SVM Recall on Test set -> 0.1475\n"
     ]
    },
    {
     "name": "stderr",
     "output_type": "stream",
     "text": [
      "/opt/homebrew/anaconda3/lib/python3.12/site-packages/sklearn/linear_model/_logistic.py:469: ConvergenceWarning: lbfgs failed to converge (status=1):\n",
      "STOP: TOTAL NO. of ITERATIONS REACHED LIMIT.\n",
      "\n",
      "Increase the number of iterations (max_iter) or scale the data as shown in:\n",
      "    https://scikit-learn.org/stable/modules/preprocessing.html\n",
      "Please also refer to the documentation for alternative solver options:\n",
      "    https://scikit-learn.org/stable/modules/linear_model.html#logistic-regression\n",
      "  n_iter_i = _check_optimize_result(\n",
      "/opt/homebrew/anaconda3/lib/python3.12/site-packages/sklearn/metrics/_classification.py:1531: UndefinedMetricWarning: Recall is ill-defined and being set to 0.0 in labels with no true samples. Use `zero_division` parameter to control this behavior.\n",
      "  _warn_prf(average, modifier, f\"{metric.capitalize()} is\", len(result))\n",
      "/opt/homebrew/anaconda3/lib/python3.12/site-packages/sklearn/ensemble/_weight_boosting.py:527: FutureWarning: The SAMME.R algorithm (the default) is deprecated and will be removed in 1.6. Use the SAMME algorithm to circumvent this warning.\n",
      "  warnings.warn(\n",
      "/opt/homebrew/anaconda3/lib/python3.12/site-packages/sklearn/metrics/_classification.py:1531: UndefinedMetricWarning: Recall is ill-defined and being set to 0.0 in labels with no true samples. Use `zero_division` parameter to control this behavior.\n",
      "  _warn_prf(average, modifier, f\"{metric.capitalize()} is\", len(result))\n"
     ]
    },
    {
     "name": "stdout",
     "output_type": "stream",
     "text": [
      "LR Accuracy on Test set -> 0.2\n",
      "LR Recall on Test set -> 0.1725\n",
      "AdaBoost Accuracy on Test set -> 0.04\n",
      "AdaBoost Recall on Test set -> 0.07407407407407407\n",
      "XGBoost Accuracy on Test set -> 0.22\n",
      "XGBoost Recall on Test set -> 0.1408333333333333\n"
     ]
    },
    {
     "name": "stderr",
     "output_type": "stream",
     "text": [
      "/opt/homebrew/anaconda3/lib/python3.12/site-packages/sklearn/metrics/_classification.py:1531: UndefinedMetricWarning: Recall is ill-defined and being set to 0.0 in labels with no true samples. Use `zero_division` parameter to control this behavior.\n",
      "  _warn_prf(average, modifier, f\"{metric.capitalize()} is\", len(result))\n",
      "/opt/homebrew/anaconda3/lib/python3.12/site-packages/sklearn/metrics/_classification.py:1531: UndefinedMetricWarning: Recall is ill-defined and being set to 0.0 in labels with no true samples. Use `zero_division` parameter to control this behavior.\n",
      "  _warn_prf(average, modifier, f\"{metric.capitalize()} is\", len(result))\n"
     ]
    },
    {
     "name": "stdout",
     "output_type": "stream",
     "text": [
      "RandomForest Accuracy on Test set -> 0.24\n",
      "RandomForest Recall on Test set -> 0.18166666666666667\n",
      "DecisionTree Accuracy on Test set -> 0.1\n",
      "DecisionTree Recall on Test set -> 0.07368421052631578\n",
      "\n",
      "\n",
      "* * * * EVALUATION USING STM AS PREPROCESSING FUNCTION * * * *\n"
     ]
    },
    {
     "name": "stderr",
     "output_type": "stream",
     "text": [
      "2025-05-05 19:17:59.130167: I tensorflow/core/framework/local_rendezvous.cc:407] Local rendezvous is aborting with status: OUT_OF_RANGE: End of sequence\n"
     ]
    },
    {
     "name": "stdout",
     "output_type": "stream",
     "text": [
      "Length of the longest sample is: 2419\n",
      "\n",
      "\n",
      "***** FINISHED PROCESSING AND ADAPTING THE TRAINING SET, THE SIMULATION BEGINS *******\n",
      "Sample considered is:  tf.Tensor([[b': : I have 19 (2 MB worth!) uuencode\\'d GIF images contain charts outlining\\n: : one of the many alternative Space Station designs being considered in\\n: : Crystal City.  [...]\\n\\n: I just posted the GIF files out for anonymous FTP on server ics.uci.edu.\\n: You can retrieve them from:\\n:   ics.uci.edu:incoming/geode01.gif\\n:   ics.uci.edu:incoming/geode02.gif\\n:   ics.uci.edu:incoming/geode03.gif\\n:   ics.uci.edu:incoming/geode04.gif\\n:   ics.uci.edu:incoming/geode05.gif\\n:   ics.uci.edu:incoming/geode06.gif\\n:   ics.uci.edu:incoming/geode07.gif\\n:   ics.uci.edu:incoming/geode08.gif\\n:   ics.uci.edu:incoming/geode09.gif\\n:   ics.uci.edu:incoming/geode10.gif\\n:   ics.uci.edu:incoming/geode11.gif\\n:   ics.uci.edu:incoming/geode12.gif\\n:   ics.uci.edu:incoming/geode13.gif\\n:   ics.uci.edu:incoming/geode14.gif\\n:   ics.uci.edu:incoming/geode15.gif\\n:   ics.uci.edu:incoming/geode16.gif\\n:   ics.uci.edu:incoming/geode17.gif\\n:   ics.uci.edu:incoming/geodeA.gif\\n:   ics.uci.edu:incoming/geodeB.gif\\n\\n: The last two are scanned color photos; the others are scanned briefing\\n: charts.\\n\\n: These will be deleted by the ics.uci.edu system manager in a few days,\\n: so now\\'s the time to grab them if you\\'re interested.  Sorry it took\\n: me so long to get these out, but I was trying for the Ames server,\\n: but it\\'s out of space.\\n\\nBut now I need to clarify the situation.  The \"/incoming\" directory on\\nics.uci.edu does NOT allow you to do an \"ls\" command.  The files are\\nthere (I just checked on 04/28/93 at 9:35 CDT), and you can \"get\" them\\n(don\\'t forget the \"binary\" mode!), but you can\\'t \"ls\" in the\\n\"/incoming\" directory.\\n\\nA further update: Mark\\'s design made the cover of Space News this week\\nas one of the design alternatives which was rejected.  But he\\'s still\\nin there plugging.  I wish him luck -- using ET\\'s as the basis of a\\nSpace Station has been a good idea for a long time.\\n\\nMay the best design win.\\n\\n-- Ken Jenks, NASA/JSC/GM2, Space Shuttle Program Office\\n      kjenks@gothamcity.jsc.nasa.gov  (713) 483-4368']], shape=(1, 1), dtype=string)\n",
      "Preprocessed:  tf.Tensor([[b'i h a v e 1 9 2 m b w o r t h u u e n c o d e d g i f i m a g e s c o n t a i n c h a r t s o u t l i n i n g o n e o f t h e m a n y a l t e r n a t i v e s p a c e s t a t i o n d e s i g n s b e i n g c o n s i d e r e d i n c r y s t a l c i t y i j u s t p o s t e d t h e g i f f i l e s o u t f o r a n o n y m o u s f t p o n s e r v e r i c s u c i e d u y o u c a n r e t r i e v e t h e m f r o m i c s u c i e d u i n c o m i n g g e o d e 0 1 g i f i c s u c i e d u i n c o m i n g g e o d e 0 2 g i f i c s u c i e d u i n c o m i n g g e o d e 0 3 g i f i c s u c i e d u i n c o m i n g g e o d e 0 4 g i f i c s u c i e d u i n c o m i n g g e o d e 0 5 g i f i c s u c i e d u i n c o m i n g g e o d e 0 6 g i f i c s u c i e d u i n c o m i n g g e o d e 0 7 g i f i c s u c i e d u i n c o m i n g g e o d e 0 8 g i f i c s u c i e d u i n c o m i n g g e o d e 0 9 g i f i c s u c i e d u i n c o m i n g g e o d e 1 0 g i f i c s u c i e d u i n c o m i n g g e o d e 1 1 g i f i c s u c i e d u i n c o m i n g g e o d e 1 2 g i f i c s u c i e d u i n c o m i n g g e o d e 1 3 g i f i c s u c i e d u i n c o m i n g g e o d e 1 4 g i f i c s u c i e d u i n c o m i n g g e o d e 1 5 g i f i c s u c i e d u i n c o m i n g g e o d e 1 6 g i f i c s u c i e d u i n c o m i n g g e o d e 1 7 g i f i c s u c i e d u i n c o m i n g g e o d e a g i f i c s u c i e d u i n c o m i n g g e o d e b g i f t h e l a s t t w o a r e s c a n n e d c o l o r p h o t o s t h e o t h e r s a r e s c a n n e d b r i e f i n g c h a r t s t h e s e w i l l b e d e l e t e d b y t h e i c s u c i e d u s y s t e m m a n a g e r i n a f e w d a y s s o n o w s t h e t i m e t o g r a b t h e m i f y o u r e i n t e r e s t e d s o r r y i t t o o k m e s o l o n g t o g e t t h e s e o u t b u t i w a s t r y i n g f o r t h e a m e s s e r v e r b u t i t s o u t o f s p a c e b u t n o w i n e e d t o c l a r i f y t h e s i t u a t i o n t h e i n c o m i n g d i r e c t o r y o n i c s u c i e d u d o e s n o t a l l o w y o u t o d o a n l s c o m m a n d t h e f i l e s a r e t h e r e i j u s t c h e c k e d o n 0 4 2 8 9 3 a t 9 3 5 c d t a n d y o u c a n g e t t h e m d o n t f o r g e t t h e b i n a r y m o d e b u t y o u c a n t l s i n t h e i n c o m i n g d i r e c t o r y a f u r t h e r u p d a t e m a r k s d e s i g n m a d e t h e c o v e r o f s p a c e n e w s t h i s w e e k a s o n e o f t h e d e s i g n a l t e r n a t i v e s w h i c h w a s r e j e c t e d b u t h e s s t i l l i n t h e r e p l u g g i n g i w i s h h i m l u c k u s i n g e t s a s t h e b a s i s o f a s p a c e s t a t i o n h a s b e e n a g o o d i d e a f o r a l o n g t i m e m a y t h e b e s t d e s i g n w i n k e n j e n k s n a s a j s c g m 2 s p a c e s h u t t l e p r o g r a m o f f i c e k j e n k s g o t h a m c i t y j s c n a s a g o v 7 1 3 4 8 3 4 3 6 8']], shape=(1, 1), dtype=string)\n"
     ]
    },
    {
     "name": "stderr",
     "output_type": "stream",
     "text": [
      "/opt/homebrew/anaconda3/lib/python3.12/site-packages/sklearn/metrics/_classification.py:1531: UndefinedMetricWarning: Recall is ill-defined and being set to 0.0 in labels with no true samples. Use `zero_division` parameter to control this behavior.\n",
      "  _warn_prf(average, modifier, f\"{metric.capitalize()} is\", len(result))\n",
      "/opt/homebrew/anaconda3/lib/python3.12/site-packages/sklearn/metrics/_classification.py:1531: UndefinedMetricWarning: Recall is ill-defined and being set to 0.0 in labels with no true samples. Use `zero_division` parameter to control this behavior.\n",
      "  _warn_prf(average, modifier, f\"{metric.capitalize()} is\", len(result))\n"
     ]
    },
    {
     "name": "stdout",
     "output_type": "stream",
     "text": [
      "NB Accuracy on Test set -> 0.08\n",
      "NB Recall on Test set -> 0.09824561403508772\n",
      "SVM Accuracy on Test set -> 0.14\n",
      "SVM Recall on Test set -> 0.10166666666666666\n"
     ]
    },
    {
     "name": "stderr",
     "output_type": "stream",
     "text": [
      "/opt/homebrew/anaconda3/lib/python3.12/site-packages/sklearn/linear_model/_logistic.py:469: ConvergenceWarning: lbfgs failed to converge (status=1):\n",
      "STOP: TOTAL NO. of ITERATIONS REACHED LIMIT.\n",
      "\n",
      "Increase the number of iterations (max_iter) or scale the data as shown in:\n",
      "    https://scikit-learn.org/stable/modules/preprocessing.html\n",
      "Please also refer to the documentation for alternative solver options:\n",
      "    https://scikit-learn.org/stable/modules/linear_model.html#logistic-regression\n",
      "  n_iter_i = _check_optimize_result(\n",
      "/opt/homebrew/anaconda3/lib/python3.12/site-packages/sklearn/metrics/_classification.py:1531: UndefinedMetricWarning: Recall is ill-defined and being set to 0.0 in labels with no true samples. Use `zero_division` parameter to control this behavior.\n",
      "  _warn_prf(average, modifier, f\"{metric.capitalize()} is\", len(result))\n",
      "/opt/homebrew/anaconda3/lib/python3.12/site-packages/sklearn/ensemble/_weight_boosting.py:527: FutureWarning: The SAMME.R algorithm (the default) is deprecated and will be removed in 1.6. Use the SAMME algorithm to circumvent this warning.\n",
      "  warnings.warn(\n",
      "/opt/homebrew/anaconda3/lib/python3.12/site-packages/sklearn/metrics/_classification.py:1531: UndefinedMetricWarning: Recall is ill-defined and being set to 0.0 in labels with no true samples. Use `zero_division` parameter to control this behavior.\n",
      "  _warn_prf(average, modifier, f\"{metric.capitalize()} is\", len(result))\n"
     ]
    },
    {
     "name": "stdout",
     "output_type": "stream",
     "text": [
      "LR Accuracy on Test set -> 0.18\n",
      "LR Recall on Test set -> 0.12\n",
      "AdaBoost Accuracy on Test set -> 0.08\n",
      "AdaBoost Recall on Test set -> 0.05925925925925926\n",
      "XGBoost Accuracy on Test set -> 0.16\n",
      "XGBoost Recall on Test set -> 0.12\n"
     ]
    },
    {
     "name": "stderr",
     "output_type": "stream",
     "text": [
      "/opt/homebrew/anaconda3/lib/python3.12/site-packages/sklearn/metrics/_classification.py:1531: UndefinedMetricWarning: Recall is ill-defined and being set to 0.0 in labels with no true samples. Use `zero_division` parameter to control this behavior.\n",
      "  _warn_prf(average, modifier, f\"{metric.capitalize()} is\", len(result))\n",
      "/opt/homebrew/anaconda3/lib/python3.12/site-packages/sklearn/metrics/_classification.py:1531: UndefinedMetricWarning: Recall is ill-defined and being set to 0.0 in labels with no true samples. Use `zero_division` parameter to control this behavior.\n",
      "  _warn_prf(average, modifier, f\"{metric.capitalize()} is\", len(result))\n"
     ]
    },
    {
     "name": "stdout",
     "output_type": "stream",
     "text": [
      "RandomForest Accuracy on Test set -> 0.18\n",
      "RandomForest Recall on Test set -> 0.12166666666666666\n",
      "DecisionTree Accuracy on Test set -> 0.18\n",
      "DecisionTree Recall on Test set -> 0.16333333333333333\n",
      "\n",
      "\n",
      "* * * * EVALUATION USING LOW_RSW AS PREPROCESSING FUNCTION * * * *\n",
      "Length of the longest sample is: 1731\n",
      "\n",
      "\n",
      "***** FINISHED PROCESSING AND ADAPTING THE TRAINING SET, THE SIMULATION BEGINS *******\n",
      "Sample considered is:  tf.Tensor([[b': : I have 19 (2 MB worth!) uuencode\\'d GIF images contain charts outlining\\n: : one of the many alternative Space Station designs being considered in\\n: : Crystal City.  [...]\\n\\n: I just posted the GIF files out for anonymous FTP on server ics.uci.edu.\\n: You can retrieve them from:\\n:   ics.uci.edu:incoming/geode01.gif\\n:   ics.uci.edu:incoming/geode02.gif\\n:   ics.uci.edu:incoming/geode03.gif\\n:   ics.uci.edu:incoming/geode04.gif\\n:   ics.uci.edu:incoming/geode05.gif\\n:   ics.uci.edu:incoming/geode06.gif\\n:   ics.uci.edu:incoming/geode07.gif\\n:   ics.uci.edu:incoming/geode08.gif\\n:   ics.uci.edu:incoming/geode09.gif\\n:   ics.uci.edu:incoming/geode10.gif\\n:   ics.uci.edu:incoming/geode11.gif\\n:   ics.uci.edu:incoming/geode12.gif\\n:   ics.uci.edu:incoming/geode13.gif\\n:   ics.uci.edu:incoming/geode14.gif\\n:   ics.uci.edu:incoming/geode15.gif\\n:   ics.uci.edu:incoming/geode16.gif\\n:   ics.uci.edu:incoming/geode17.gif\\n:   ics.uci.edu:incoming/geodeA.gif\\n:   ics.uci.edu:incoming/geodeB.gif\\n\\n: The last two are scanned color photos; the others are scanned briefing\\n: charts.\\n\\n: These will be deleted by the ics.uci.edu system manager in a few days,\\n: so now\\'s the time to grab them if you\\'re interested.  Sorry it took\\n: me so long to get these out, but I was trying for the Ames server,\\n: but it\\'s out of space.\\n\\nBut now I need to clarify the situation.  The \"/incoming\" directory on\\nics.uci.edu does NOT allow you to do an \"ls\" command.  The files are\\nthere (I just checked on 04/28/93 at 9:35 CDT), and you can \"get\" them\\n(don\\'t forget the \"binary\" mode!), but you can\\'t \"ls\" in the\\n\"/incoming\" directory.\\n\\nA further update: Mark\\'s design made the cover of Space News this week\\nas one of the design alternatives which was rejected.  But he\\'s still\\nin there plugging.  I wish him luck -- using ET\\'s as the basis of a\\nSpace Station has been a good idea for a long time.\\n\\nMay the best design win.\\n\\n-- Ken Jenks, NASA/JSC/GM2, Space Shuttle Program Office\\n      kjenks@gothamcity.jsc.nasa.gov  (713) 483-4368']], shape=(1, 1), dtype=string)\n",
      "Preprocessed:  tf.Tensor([[b'h v e 1 9 2 b w r h u u e n c e g f g e c n n c h r u l n n g n e f h e n l e r n v e p c e n e g n b e n g c n e r e n c r l c j u p e h e g f f l e u f r n n u f p n e r v e r c u c e u u c n r e r e v e h e f r c u c e u n c n g g e e 0 1 g f c u c e u n c n g g e e 0 2 g f c u c e u n c n g g e e 0 3 g f c u c e u n c n g g e e 0 4 g f c u c e u n c n g g e e 0 5 g f c u c e u n c n g g e e 0 6 g f c u c e u n c n g g e e 0 7 g f c u c e u n c n g g e e 0 8 g f c u c e u n c n g g e e 0 9 g f c u c e u n c n g g e e 1 0 g f c u c e u n c n g g e e 1 1 g f c u c e u n c n g g e e 1 2 g f c u c e u n c n g g e e 1 3 g f c u c e u n c n g g e e 1 4 g f c u c e u n c n g g e e 1 5 g f c u c e u n c n g g e e 1 6 g f c u c e u n c n g g e e 1 7 g f c u c e u n c n g g e e g f c u c e u n c n g g e e b g f h e l w r e c n n e c l r p h h e h e r r e c n n e b r e f n g c h r h e e w l l b e e l e e b h e c u c e u e n g e r n f e w n w h e e g r b h e f u r e n e r e e r r k e l n g g e h e e u b u w r n g f r h e e e r v e r b u u f p c e b u n w n e e c l r f h e u n h e n c n g r e c r n c u c e u e n l l w u n l c n h e f l e r e h e r e j u c h e c k e n 0 4 2 8 9 3 9 3 5 c n u c n g e h e n f r g e h e b n r e b u u c n l n h e n c n g r e c r f u r h e r u p e r k e g n e h e c v e r f p c e n e w h w e e k n e f h e e g n l e r n v e w h c h w r e j e c e b u h e l l n h e r e p l u g g n g w h h l u c k u n g e h e b f p c e n h b e e n g e f r l n g e h e b e e g n w n k e n j e n k n j c g 2 p c e h u l e p r g r f f c e k j e n k g h c j c n g v 7 1 3 4 8 3 4 3 6 8']], shape=(1, 1), dtype=string)\n"
     ]
    },
    {
     "name": "stderr",
     "output_type": "stream",
     "text": [
      "/opt/homebrew/anaconda3/lib/python3.12/site-packages/sklearn/metrics/_classification.py:1531: UndefinedMetricWarning: Recall is ill-defined and being set to 0.0 in labels with no true samples. Use `zero_division` parameter to control this behavior.\n",
      "  _warn_prf(average, modifier, f\"{metric.capitalize()} is\", len(result))\n",
      "/opt/homebrew/anaconda3/lib/python3.12/site-packages/sklearn/metrics/_classification.py:1531: UndefinedMetricWarning: Recall is ill-defined and being set to 0.0 in labels with no true samples. Use `zero_division` parameter to control this behavior.\n",
      "  _warn_prf(average, modifier, f\"{metric.capitalize()} is\", len(result))\n"
     ]
    },
    {
     "name": "stdout",
     "output_type": "stream",
     "text": [
      "NB Accuracy on Test set -> 0.18\n",
      "NB Recall on Test set -> 0.15499999999999997\n",
      "SVM Accuracy on Test set -> 0.18\n",
      "SVM Recall on Test set -> 0.1280701754385965\n"
     ]
    },
    {
     "name": "stderr",
     "output_type": "stream",
     "text": [
      "/opt/homebrew/anaconda3/lib/python3.12/site-packages/sklearn/linear_model/_logistic.py:469: ConvergenceWarning: lbfgs failed to converge (status=1):\n",
      "STOP: TOTAL NO. of ITERATIONS REACHED LIMIT.\n",
      "\n",
      "Increase the number of iterations (max_iter) or scale the data as shown in:\n",
      "    https://scikit-learn.org/stable/modules/preprocessing.html\n",
      "Please also refer to the documentation for alternative solver options:\n",
      "    https://scikit-learn.org/stable/modules/linear_model.html#logistic-regression\n",
      "  n_iter_i = _check_optimize_result(\n",
      "/opt/homebrew/anaconda3/lib/python3.12/site-packages/sklearn/metrics/_classification.py:1531: UndefinedMetricWarning: Recall is ill-defined and being set to 0.0 in labels with no true samples. Use `zero_division` parameter to control this behavior.\n",
      "  _warn_prf(average, modifier, f\"{metric.capitalize()} is\", len(result))\n",
      "/opt/homebrew/anaconda3/lib/python3.12/site-packages/sklearn/ensemble/_weight_boosting.py:527: FutureWarning: The SAMME.R algorithm (the default) is deprecated and will be removed in 1.6. Use the SAMME algorithm to circumvent this warning.\n",
      "  warnings.warn(\n",
      "/opt/homebrew/anaconda3/lib/python3.12/site-packages/sklearn/metrics/_classification.py:1531: UndefinedMetricWarning: Recall is ill-defined and being set to 0.0 in labels with no true samples. Use `zero_division` parameter to control this behavior.\n",
      "  _warn_prf(average, modifier, f\"{metric.capitalize()} is\", len(result))\n"
     ]
    },
    {
     "name": "stdout",
     "output_type": "stream",
     "text": [
      "LR Accuracy on Test set -> 0.18\n",
      "LR Recall on Test set -> 0.13508771929824562\n",
      "AdaBoost Accuracy on Test set -> 0.04\n",
      "AdaBoost Recall on Test set -> 0.06\n"
     ]
    },
    {
     "name": "stderr",
     "output_type": "stream",
     "text": [
      "/opt/homebrew/anaconda3/lib/python3.12/site-packages/sklearn/metrics/_classification.py:1531: UndefinedMetricWarning: Recall is ill-defined and being set to 0.0 in labels with no true samples. Use `zero_division` parameter to control this behavior.\n",
      "  _warn_prf(average, modifier, f\"{metric.capitalize()} is\", len(result))\n",
      "/opt/homebrew/anaconda3/lib/python3.12/site-packages/sklearn/metrics/_classification.py:1531: UndefinedMetricWarning: Recall is ill-defined and being set to 0.0 in labels with no true samples. Use `zero_division` parameter to control this behavior.\n",
      "  _warn_prf(average, modifier, f\"{metric.capitalize()} is\", len(result))\n",
      "/opt/homebrew/anaconda3/lib/python3.12/site-packages/sklearn/metrics/_classification.py:1531: UndefinedMetricWarning: Recall is ill-defined and being set to 0.0 in labels with no true samples. Use `zero_division` parameter to control this behavior.\n",
      "  _warn_prf(average, modifier, f\"{metric.capitalize()} is\", len(result))\n"
     ]
    },
    {
     "name": "stdout",
     "output_type": "stream",
     "text": [
      "XGBoost Accuracy on Test set -> 0.14\n",
      "XGBoost Recall on Test set -> 0.08666666666666666\n",
      "RandomForest Accuracy on Test set -> 0.22\n",
      "RandomForest Recall on Test set -> 0.16315789473684209\n",
      "DecisionTree Accuracy on Test set -> 0.14\n",
      "DecisionTree Recall on Test set -> 0.12833333333333333\n",
      "\n",
      "\n",
      "* * * * EVALUATION USING LOW_STM AS PREPROCESSING FUNCTION * * * *\n",
      "Length of the longest sample is: 2419\n",
      "\n",
      "\n",
      "***** FINISHED PROCESSING AND ADAPTING THE TRAINING SET, THE SIMULATION BEGINS *******\n",
      "Sample considered is:  tf.Tensor([[b': : I have 19 (2 MB worth!) uuencode\\'d GIF images contain charts outlining\\n: : one of the many alternative Space Station designs being considered in\\n: : Crystal City.  [...]\\n\\n: I just posted the GIF files out for anonymous FTP on server ics.uci.edu.\\n: You can retrieve them from:\\n:   ics.uci.edu:incoming/geode01.gif\\n:   ics.uci.edu:incoming/geode02.gif\\n:   ics.uci.edu:incoming/geode03.gif\\n:   ics.uci.edu:incoming/geode04.gif\\n:   ics.uci.edu:incoming/geode05.gif\\n:   ics.uci.edu:incoming/geode06.gif\\n:   ics.uci.edu:incoming/geode07.gif\\n:   ics.uci.edu:incoming/geode08.gif\\n:   ics.uci.edu:incoming/geode09.gif\\n:   ics.uci.edu:incoming/geode10.gif\\n:   ics.uci.edu:incoming/geode11.gif\\n:   ics.uci.edu:incoming/geode12.gif\\n:   ics.uci.edu:incoming/geode13.gif\\n:   ics.uci.edu:incoming/geode14.gif\\n:   ics.uci.edu:incoming/geode15.gif\\n:   ics.uci.edu:incoming/geode16.gif\\n:   ics.uci.edu:incoming/geode17.gif\\n:   ics.uci.edu:incoming/geodeA.gif\\n:   ics.uci.edu:incoming/geodeB.gif\\n\\n: The last two are scanned color photos; the others are scanned briefing\\n: charts.\\n\\n: These will be deleted by the ics.uci.edu system manager in a few days,\\n: so now\\'s the time to grab them if you\\'re interested.  Sorry it took\\n: me so long to get these out, but I was trying for the Ames server,\\n: but it\\'s out of space.\\n\\nBut now I need to clarify the situation.  The \"/incoming\" directory on\\nics.uci.edu does NOT allow you to do an \"ls\" command.  The files are\\nthere (I just checked on 04/28/93 at 9:35 CDT), and you can \"get\" them\\n(don\\'t forget the \"binary\" mode!), but you can\\'t \"ls\" in the\\n\"/incoming\" directory.\\n\\nA further update: Mark\\'s design made the cover of Space News this week\\nas one of the design alternatives which was rejected.  But he\\'s still\\nin there plugging.  I wish him luck -- using ET\\'s as the basis of a\\nSpace Station has been a good idea for a long time.\\n\\nMay the best design win.\\n\\n-- Ken Jenks, NASA/JSC/GM2, Space Shuttle Program Office\\n      kjenks@gothamcity.jsc.nasa.gov  (713) 483-4368']], shape=(1, 1), dtype=string)\n",
      "Preprocessed:  tf.Tensor([[b'i h a v e 1 9 2 m b w o r t h u u e n c o d e d g i f i m a g e s c o n t a i n c h a r t s o u t l i n i n g o n e o f t h e m a n y a l t e r n a t i v e s p a c e s t a t i o n d e s i g n s b e i n g c o n s i d e r e d i n c r y s t a l c i t y i j u s t p o s t e d t h e g i f f i l e s o u t f o r a n o n y m o u s f t p o n s e r v e r i c s u c i e d u y o u c a n r e t r i e v e t h e m f r o m i c s u c i e d u i n c o m i n g g e o d e 0 1 g i f i c s u c i e d u i n c o m i n g g e o d e 0 2 g i f i c s u c i e d u i n c o m i n g g e o d e 0 3 g i f i c s u c i e d u i n c o m i n g g e o d e 0 4 g i f i c s u c i e d u i n c o m i n g g e o d e 0 5 g i f i c s u c i e d u i n c o m i n g g e o d e 0 6 g i f i c s u c i e d u i n c o m i n g g e o d e 0 7 g i f i c s u c i e d u i n c o m i n g g e o d e 0 8 g i f i c s u c i e d u i n c o m i n g g e o d e 0 9 g i f i c s u c i e d u i n c o m i n g g e o d e 1 0 g i f i c s u c i e d u i n c o m i n g g e o d e 1 1 g i f i c s u c i e d u i n c o m i n g g e o d e 1 2 g i f i c s u c i e d u i n c o m i n g g e o d e 1 3 g i f i c s u c i e d u i n c o m i n g g e o d e 1 4 g i f i c s u c i e d u i n c o m i n g g e o d e 1 5 g i f i c s u c i e d u i n c o m i n g g e o d e 1 6 g i f i c s u c i e d u i n c o m i n g g e o d e 1 7 g i f i c s u c i e d u i n c o m i n g g e o d e a g i f i c s u c i e d u i n c o m i n g g e o d e b g i f t h e l a s t t w o a r e s c a n n e d c o l o r p h o t o s t h e o t h e r s a r e s c a n n e d b r i e f i n g c h a r t s t h e s e w i l l b e d e l e t e d b y t h e i c s u c i e d u s y s t e m m a n a g e r i n a f e w d a y s s o n o w s t h e t i m e t o g r a b t h e m i f y o u r e i n t e r e s t e d s o r r y i t t o o k m e s o l o n g t o g e t t h e s e o u t b u t i w a s t r y i n g f o r t h e a m e s s e r v e r b u t i t s o u t o f s p a c e b u t n o w i n e e d t o c l a r i f y t h e s i t u a t i o n t h e i n c o m i n g d i r e c t o r y o n i c s u c i e d u d o e s n o t a l l o w y o u t o d o a n l s c o m m a n d t h e f i l e s a r e t h e r e i j u s t c h e c k e d o n 0 4 2 8 9 3 a t 9 3 5 c d t a n d y o u c a n g e t t h e m d o n t f o r g e t t h e b i n a r y m o d e b u t y o u c a n t l s i n t h e i n c o m i n g d i r e c t o r y a f u r t h e r u p d a t e m a r k s d e s i g n m a d e t h e c o v e r o f s p a c e n e w s t h i s w e e k a s o n e o f t h e d e s i g n a l t e r n a t i v e s w h i c h w a s r e j e c t e d b u t h e s s t i l l i n t h e r e p l u g g i n g i w i s h h i m l u c k u s i n g e t s a s t h e b a s i s o f a s p a c e s t a t i o n h a s b e e n a g o o d i d e a f o r a l o n g t i m e m a y t h e b e s t d e s i g n w i n k e n j e n k s n a s a j s c g m 2 s p a c e s h u t t l e p r o g r a m o f f i c e k j e n k s g o t h a m c i t y j s c n a s a g o v 7 1 3 4 8 3 4 3 6 8']], shape=(1, 1), dtype=string)\n"
     ]
    },
    {
     "name": "stderr",
     "output_type": "stream",
     "text": [
      "/opt/homebrew/anaconda3/lib/python3.12/site-packages/sklearn/metrics/_classification.py:1531: UndefinedMetricWarning: Recall is ill-defined and being set to 0.0 in labels with no true samples. Use `zero_division` parameter to control this behavior.\n",
      "  _warn_prf(average, modifier, f\"{metric.capitalize()} is\", len(result))\n",
      "/opt/homebrew/anaconda3/lib/python3.12/site-packages/sklearn/metrics/_classification.py:1531: UndefinedMetricWarning: Recall is ill-defined and being set to 0.0 in labels with no true samples. Use `zero_division` parameter to control this behavior.\n",
      "  _warn_prf(average, modifier, f\"{metric.capitalize()} is\", len(result))\n"
     ]
    },
    {
     "name": "stdout",
     "output_type": "stream",
     "text": [
      "NB Accuracy on Test set -> 0.08\n",
      "NB Recall on Test set -> 0.09824561403508772\n",
      "SVM Accuracy on Test set -> 0.14\n",
      "SVM Recall on Test set -> 0.10166666666666666\n"
     ]
    },
    {
     "name": "stderr",
     "output_type": "stream",
     "text": [
      "/opt/homebrew/anaconda3/lib/python3.12/site-packages/sklearn/linear_model/_logistic.py:469: ConvergenceWarning: lbfgs failed to converge (status=1):\n",
      "STOP: TOTAL NO. of ITERATIONS REACHED LIMIT.\n",
      "\n",
      "Increase the number of iterations (max_iter) or scale the data as shown in:\n",
      "    https://scikit-learn.org/stable/modules/preprocessing.html\n",
      "Please also refer to the documentation for alternative solver options:\n",
      "    https://scikit-learn.org/stable/modules/linear_model.html#logistic-regression\n",
      "  n_iter_i = _check_optimize_result(\n",
      "/opt/homebrew/anaconda3/lib/python3.12/site-packages/sklearn/metrics/_classification.py:1531: UndefinedMetricWarning: Recall is ill-defined and being set to 0.0 in labels with no true samples. Use `zero_division` parameter to control this behavior.\n",
      "  _warn_prf(average, modifier, f\"{metric.capitalize()} is\", len(result))\n",
      "/opt/homebrew/anaconda3/lib/python3.12/site-packages/sklearn/ensemble/_weight_boosting.py:527: FutureWarning: The SAMME.R algorithm (the default) is deprecated and will be removed in 1.6. Use the SAMME algorithm to circumvent this warning.\n",
      "  warnings.warn(\n",
      "/opt/homebrew/anaconda3/lib/python3.12/site-packages/sklearn/metrics/_classification.py:1531: UndefinedMetricWarning: Recall is ill-defined and being set to 0.0 in labels with no true samples. Use `zero_division` parameter to control this behavior.\n",
      "  _warn_prf(average, modifier, f\"{metric.capitalize()} is\", len(result))\n"
     ]
    },
    {
     "name": "stdout",
     "output_type": "stream",
     "text": [
      "LR Accuracy on Test set -> 0.18\n",
      "LR Recall on Test set -> 0.12\n",
      "AdaBoost Accuracy on Test set -> 0.08\n",
      "AdaBoost Recall on Test set -> 0.05925925925925926\n",
      "XGBoost Accuracy on Test set -> 0.16\n",
      "XGBoost Recall on Test set -> 0.12\n"
     ]
    },
    {
     "name": "stderr",
     "output_type": "stream",
     "text": [
      "/opt/homebrew/anaconda3/lib/python3.12/site-packages/sklearn/metrics/_classification.py:1531: UndefinedMetricWarning: Recall is ill-defined and being set to 0.0 in labels with no true samples. Use `zero_division` parameter to control this behavior.\n",
      "  _warn_prf(average, modifier, f\"{metric.capitalize()} is\", len(result))\n",
      "/opt/homebrew/anaconda3/lib/python3.12/site-packages/sklearn/metrics/_classification.py:1531: UndefinedMetricWarning: Recall is ill-defined and being set to 0.0 in labels with no true samples. Use `zero_division` parameter to control this behavior.\n",
      "  _warn_prf(average, modifier, f\"{metric.capitalize()} is\", len(result))\n"
     ]
    },
    {
     "name": "stdout",
     "output_type": "stream",
     "text": [
      "RandomForest Accuracy on Test set -> 0.18\n",
      "RandomForest Recall on Test set -> 0.12166666666666666\n",
      "DecisionTree Accuracy on Test set -> 0.18\n",
      "DecisionTree Recall on Test set -> 0.16333333333333333\n",
      "\n",
      "\n",
      "* * * * EVALUATION USING RSW_LOW AS PREPROCESSING FUNCTION * * * *\n"
     ]
    },
    {
     "name": "stderr",
     "output_type": "stream",
     "text": [
      "2025-05-05 19:18:43.535671: I tensorflow/core/framework/local_rendezvous.cc:407] Local rendezvous is aborting with status: OUT_OF_RANGE: End of sequence\n"
     ]
    },
    {
     "name": "stdout",
     "output_type": "stream",
     "text": [
      "Length of the longest sample is: 1982\n",
      "\n",
      "\n",
      "***** FINISHED PROCESSING AND ADAPTING THE TRAINING SET, THE SIMULATION BEGINS *******\n",
      "Sample considered is:  tf.Tensor([[b': : I have 19 (2 MB worth!) uuencode\\'d GIF images contain charts outlining\\n: : one of the many alternative Space Station designs being considered in\\n: : Crystal City.  [...]\\n\\n: I just posted the GIF files out for anonymous FTP on server ics.uci.edu.\\n: You can retrieve them from:\\n:   ics.uci.edu:incoming/geode01.gif\\n:   ics.uci.edu:incoming/geode02.gif\\n:   ics.uci.edu:incoming/geode03.gif\\n:   ics.uci.edu:incoming/geode04.gif\\n:   ics.uci.edu:incoming/geode05.gif\\n:   ics.uci.edu:incoming/geode06.gif\\n:   ics.uci.edu:incoming/geode07.gif\\n:   ics.uci.edu:incoming/geode08.gif\\n:   ics.uci.edu:incoming/geode09.gif\\n:   ics.uci.edu:incoming/geode10.gif\\n:   ics.uci.edu:incoming/geode11.gif\\n:   ics.uci.edu:incoming/geode12.gif\\n:   ics.uci.edu:incoming/geode13.gif\\n:   ics.uci.edu:incoming/geode14.gif\\n:   ics.uci.edu:incoming/geode15.gif\\n:   ics.uci.edu:incoming/geode16.gif\\n:   ics.uci.edu:incoming/geode17.gif\\n:   ics.uci.edu:incoming/geodeA.gif\\n:   ics.uci.edu:incoming/geodeB.gif\\n\\n: The last two are scanned color photos; the others are scanned briefing\\n: charts.\\n\\n: These will be deleted by the ics.uci.edu system manager in a few days,\\n: so now\\'s the time to grab them if you\\'re interested.  Sorry it took\\n: me so long to get these out, but I was trying for the Ames server,\\n: but it\\'s out of space.\\n\\nBut now I need to clarify the situation.  The \"/incoming\" directory on\\nics.uci.edu does NOT allow you to do an \"ls\" command.  The files are\\nthere (I just checked on 04/28/93 at 9:35 CDT), and you can \"get\" them\\n(don\\'t forget the \"binary\" mode!), but you can\\'t \"ls\" in the\\n\"/incoming\" directory.\\n\\nA further update: Mark\\'s design made the cover of Space News this week\\nas one of the design alternatives which was rejected.  But he\\'s still\\nin there plugging.  I wish him luck -- using ET\\'s as the basis of a\\nSpace Station has been a good idea for a long time.\\n\\nMay the best design win.\\n\\n-- Ken Jenks, NASA/JSC/GM2, Space Shuttle Program Office\\n      kjenks@gothamcity.jsc.nasa.gov  (713) 483-4368']], shape=(1, 1), dtype=string)\n",
      "Preprocessed:  tf.Tensor([[b'   i       h       v       e       1       9       2       m       b       w       r       h       u       u       e       n       c       e       g       i       f       g       e       c       n       n       c       h       r       u       l       n       n       g       n       e       f       h       e       n       l       e       r       n       v       e       s       p       c       e       s       n       e       g       n       b       e       n       g       c       n       e       r       e       n       c       r       l       c       i       j       u       p       e       h       e       g       i       f       f       l       e       u       f       r       n       n       u       f       t       p       n       e       r       v       e       r       c       u       c       e       u       y       u       c       n       r       e       r       e       v       e       h       e       f       r       c       u       c       e       u       n       c       n       g       g       e       e       0       1       g       f       c       u       c       e       u       n       c       n       g       g       e       e       0       2       g       f       c       u       c       e       u       n       c       n       g       g       e       e       0       3       g       f       c       u       c       e       u       n       c       n       g       g       e       e       0       4       g       f       c       u       c       e       u       n       c       n       g       g       e       e       0       5       g       f       c       u       c       e       u       n       c       n       g       g       e       e       0       6       g       f       c       u       c       e       u       n       c       n       g       g       e       e       0       7       g       f       c       u       c       e       u       n       c       n       g       g       e       e       0       8       g       f       c       u       c       e       u       n       c       n       g       g       e       e       0       9       g       f       c       u       c       e       u       n       c       n       g       g       e       e       1       0       g       f       c       u       c       e       u       n       c       n       g       g       e       e       1       1       g       f       c       u       c       e       u       n       c       n       g       g       e       e       1       2       g       f       c       u       c       e       u       n       c       n       g       g       e       e       1       3       g       f       c       u       c       e       u       n       c       n       g       g       e       e       1       4       g       f       c       u       c       e       u       n       c       n       g       g       e       e       1       5       g       f       c       u       c       e       u       n       c       n       g       g       e       e       1       6       g       f       c       u       c       e       u       n       c       n       g       g       e       e       1       7       g       f       c       u       c       e       u       n       c       n       g       g       e       e       a       g       f       c       u       c       e       u       n       c       n       g       g       e       e       b       g       f       t       h       e       l       w       r       e       c       n       n       e       c       l       r       p       h       h       e       h       e       r       r       e       c       n       n       e       b       r       e       f       n       g       c       h       r       t       h       e       e       w       l       l       b       e       e       l       e       e       b       h       e       c       u       c       e       u       e       n       g       e       r       n       f       e       w       n       w       h       e       e       g       r       b       h       e       f       u       r       e       n       e       r       e       e       s       r       r       k       e       l       n       g       g       e       h       e       e       u       b       u       i       w       r       n       g       f       r       h       e       a       e       e       r       v       e       r       b       u       u       f       p       c       e       b       u       n       w       i       n       e       e       c       l       r       f       h       e       u       n       t       h       e       n       c       n       g       r       e       c       r       n       c       u       c       e       u       e       n       o       t       l       l       w       u       n       l       c       n       t       h       e       f       l       e       r       e       h       e       r       e       i       j       u       c       h       e       c       k       e       n       0       4       2       8       9       3       9       3       5       c       d       t       n       u       c       n       g       e       h       e       n       f       r       g       e       h       e       b       n       r       e       b       u       u       c       n       l       n       h       e       n       c       n       g       r       e       c       r       a       f       u       r       h       e       r       u       p       e       m       r       k       e       g       n       e       h       e       c       v       e       r       f       s       p       c       e       n       e       w       h       w       e       e       k       n       e       f       h       e       e       g       n       l       e       r       n       v       e       w       h       c       h       w       r       e       j       e       c       e       b       u       h       e       l       l       n       h       e       r       e       p       l       u       g       g       n       g       i       w       h       h       l       u       c       k       u       n       g       e       t       h       e       b       f       s       p       c       e       s       n       h       b       e       e       n       g       e       f       r       l       n       g       e       m       h       e       b       e       e       g       n       w       n       k       e       n       j       e       n       k       n       a       s       a       j       s       c       g       m       2       s       p       c       e       s       h       u       l       e       p       r       g       r       o       f       f       c       e       k       j       e       n       k       g       h       c       j       c       n       g       v       7       1       3       4       8       3       4       3       6       8   ']], shape=(1, 1), dtype=string)\n"
     ]
    },
    {
     "name": "stderr",
     "output_type": "stream",
     "text": [
      "/opt/homebrew/anaconda3/lib/python3.12/site-packages/sklearn/metrics/_classification.py:1531: UndefinedMetricWarning: Recall is ill-defined and being set to 0.0 in labels with no true samples. Use `zero_division` parameter to control this behavior.\n",
      "  _warn_prf(average, modifier, f\"{metric.capitalize()} is\", len(result))\n",
      "/opt/homebrew/anaconda3/lib/python3.12/site-packages/sklearn/metrics/_classification.py:1531: UndefinedMetricWarning: Recall is ill-defined and being set to 0.0 in labels with no true samples. Use `zero_division` parameter to control this behavior.\n",
      "  _warn_prf(average, modifier, f\"{metric.capitalize()} is\", len(result))\n"
     ]
    },
    {
     "name": "stdout",
     "output_type": "stream",
     "text": [
      "NB Accuracy on Test set -> 0.14\n",
      "NB Recall on Test set -> 0.095\n",
      "SVM Accuracy on Test set -> 0.1\n",
      "SVM Recall on Test set -> 0.09649122807017543\n"
     ]
    },
    {
     "name": "stderr",
     "output_type": "stream",
     "text": [
      "/opt/homebrew/anaconda3/lib/python3.12/site-packages/sklearn/linear_model/_logistic.py:469: ConvergenceWarning: lbfgs failed to converge (status=1):\n",
      "STOP: TOTAL NO. of ITERATIONS REACHED LIMIT.\n",
      "\n",
      "Increase the number of iterations (max_iter) or scale the data as shown in:\n",
      "    https://scikit-learn.org/stable/modules/preprocessing.html\n",
      "Please also refer to the documentation for alternative solver options:\n",
      "    https://scikit-learn.org/stable/modules/linear_model.html#logistic-regression\n",
      "  n_iter_i = _check_optimize_result(\n",
      "/opt/homebrew/anaconda3/lib/python3.12/site-packages/sklearn/metrics/_classification.py:1531: UndefinedMetricWarning: Recall is ill-defined and being set to 0.0 in labels with no true samples. Use `zero_division` parameter to control this behavior.\n",
      "  _warn_prf(average, modifier, f\"{metric.capitalize()} is\", len(result))\n",
      "/opt/homebrew/anaconda3/lib/python3.12/site-packages/sklearn/ensemble/_weight_boosting.py:527: FutureWarning: The SAMME.R algorithm (the default) is deprecated and will be removed in 1.6. Use the SAMME algorithm to circumvent this warning.\n",
      "  warnings.warn(\n",
      "/opt/homebrew/anaconda3/lib/python3.12/site-packages/sklearn/metrics/_classification.py:1531: UndefinedMetricWarning: Recall is ill-defined and being set to 0.0 in labels with no true samples. Use `zero_division` parameter to control this behavior.\n",
      "  _warn_prf(average, modifier, f\"{metric.capitalize()} is\", len(result))\n",
      "/opt/homebrew/anaconda3/lib/python3.12/site-packages/sklearn/metrics/_classification.py:1531: UndefinedMetricWarning: Recall is ill-defined and being set to 0.0 in labels with no true samples. Use `zero_division` parameter to control this behavior.\n",
      "  _warn_prf(average, modifier, f\"{metric.capitalize()} is\", len(result))\n"
     ]
    },
    {
     "name": "stdout",
     "output_type": "stream",
     "text": [
      "LR Accuracy on Test set -> 0.22\n",
      "LR Recall on Test set -> 0.19912280701754384\n",
      "AdaBoost Accuracy on Test set -> 0.1\n",
      "AdaBoost Recall on Test set -> 0.0807017543859649\n",
      "XGBoost Accuracy on Test set -> 0.12\n",
      "XGBoost Recall on Test set -> 0.08684210526315789\n"
     ]
    },
    {
     "name": "stderr",
     "output_type": "stream",
     "text": [
      "/opt/homebrew/anaconda3/lib/python3.12/site-packages/sklearn/metrics/_classification.py:1531: UndefinedMetricWarning: Recall is ill-defined and being set to 0.0 in labels with no true samples. Use `zero_division` parameter to control this behavior.\n",
      "  _warn_prf(average, modifier, f\"{metric.capitalize()} is\", len(result))\n",
      "/opt/homebrew/anaconda3/lib/python3.12/site-packages/sklearn/metrics/_classification.py:1531: UndefinedMetricWarning: Recall is ill-defined and being set to 0.0 in labels with no true samples. Use `zero_division` parameter to control this behavior.\n",
      "  _warn_prf(average, modifier, f\"{metric.capitalize()} is\", len(result))\n"
     ]
    },
    {
     "name": "stdout",
     "output_type": "stream",
     "text": [
      "RandomForest Accuracy on Test set -> 0.22\n",
      "RandomForest Recall on Test set -> 0.1807017543859649\n",
      "DecisionTree Accuracy on Test set -> 0.14\n",
      "DecisionTree Recall on Test set -> 0.07999999999999999\n",
      "\n",
      "\n",
      "* * * * EVALUATION USING RSW_STM AS PREPROCESSING FUNCTION * * * *\n",
      "Length of the longest sample is: 1982\n",
      "\n",
      "\n",
      "***** FINISHED PROCESSING AND ADAPTING THE TRAINING SET, THE SIMULATION BEGINS *******\n",
      "Sample considered is:  tf.Tensor([[b': : I have 19 (2 MB worth!) uuencode\\'d GIF images contain charts outlining\\n: : one of the many alternative Space Station designs being considered in\\n: : Crystal City.  [...]\\n\\n: I just posted the GIF files out for anonymous FTP on server ics.uci.edu.\\n: You can retrieve them from:\\n:   ics.uci.edu:incoming/geode01.gif\\n:   ics.uci.edu:incoming/geode02.gif\\n:   ics.uci.edu:incoming/geode03.gif\\n:   ics.uci.edu:incoming/geode04.gif\\n:   ics.uci.edu:incoming/geode05.gif\\n:   ics.uci.edu:incoming/geode06.gif\\n:   ics.uci.edu:incoming/geode07.gif\\n:   ics.uci.edu:incoming/geode08.gif\\n:   ics.uci.edu:incoming/geode09.gif\\n:   ics.uci.edu:incoming/geode10.gif\\n:   ics.uci.edu:incoming/geode11.gif\\n:   ics.uci.edu:incoming/geode12.gif\\n:   ics.uci.edu:incoming/geode13.gif\\n:   ics.uci.edu:incoming/geode14.gif\\n:   ics.uci.edu:incoming/geode15.gif\\n:   ics.uci.edu:incoming/geode16.gif\\n:   ics.uci.edu:incoming/geode17.gif\\n:   ics.uci.edu:incoming/geodeA.gif\\n:   ics.uci.edu:incoming/geodeB.gif\\n\\n: The last two are scanned color photos; the others are scanned briefing\\n: charts.\\n\\n: These will be deleted by the ics.uci.edu system manager in a few days,\\n: so now\\'s the time to grab them if you\\'re interested.  Sorry it took\\n: me so long to get these out, but I was trying for the Ames server,\\n: but it\\'s out of space.\\n\\nBut now I need to clarify the situation.  The \"/incoming\" directory on\\nics.uci.edu does NOT allow you to do an \"ls\" command.  The files are\\nthere (I just checked on 04/28/93 at 9:35 CDT), and you can \"get\" them\\n(don\\'t forget the \"binary\" mode!), but you can\\'t \"ls\" in the\\n\"/incoming\" directory.\\n\\nA further update: Mark\\'s design made the cover of Space News this week\\nas one of the design alternatives which was rejected.  But he\\'s still\\nin there plugging.  I wish him luck -- using ET\\'s as the basis of a\\nSpace Station has been a good idea for a long time.\\n\\nMay the best design win.\\n\\n-- Ken Jenks, NASA/JSC/GM2, Space Shuttle Program Office\\n      kjenks@gothamcity.jsc.nasa.gov  (713) 483-4368']], shape=(1, 1), dtype=string)\n",
      "Preprocessed:  tf.Tensor([[b'i h v e 1 9 2 m b w r h u u e n c e g i f g e c n n c h r u l n n g n e f h e n l e r n v e s p c e s n e g n b e n g c n e r e n c r l c i j u p e h e g i f f l e u f r n n u f t p n e r v e r c u c e u y u c n r e r e v e h e f r c u c e u n c n g g e e 0 1 g f c u c e u n c n g g e e 0 2 g f c u c e u n c n g g e e 0 3 g f c u c e u n c n g g e e 0 4 g f c u c e u n c n g g e e 0 5 g f c u c e u n c n g g e e 0 6 g f c u c e u n c n g g e e 0 7 g f c u c e u n c n g g e e 0 8 g f c u c e u n c n g g e e 0 9 g f c u c e u n c n g g e e 1 0 g f c u c e u n c n g g e e 1 1 g f c u c e u n c n g g e e 1 2 g f c u c e u n c n g g e e 1 3 g f c u c e u n c n g g e e 1 4 g f c u c e u n c n g g e e 1 5 g f c u c e u n c n g g e e 1 6 g f c u c e u n c n g g e e 1 7 g f c u c e u n c n g g e e a g f c u c e u n c n g g e e b g f t h e l w r e c n n e c l r p h h e h e r r e c n n e b r e f n g c h r t h e e w l l b e e l e e b h e c u c e u e n g e r n f e w n w h e e g r b h e f u r e n e r e e s r r k e l n g g e h e e u b u i w r n g f r h e a e e r v e r b u u f p c e b u n w i n e e c l r f h e u n t h e n c n g r e c r n c u c e u e n o t l l w u n l c n t h e f l e r e h e r e i j u c h e c k e n 0 4 2 8 9 3 9 3 5 c d t n u c n g e h e n f r g e h e b n r e b u u c n l n h e n c n g r e c r a f u r h e r u p e m r k e g n e h e c v e r f s p c e n e w h w e e k n e f h e e g n l e r n v e w h c h w r e j e c e b u h e l l n h e r e p l u g g n g i w h h l u c k u n g e t h e b f s p c e s n h b e e n g e f r l n g e m h e b e e g n w n k e n j e n k n a s a j s c g m 2 s p c e s h u l e p r g r o f f c e k j e n k g h c j c n g v 7 1 3 4 8 3 4 3 6 8']], shape=(1, 1), dtype=string)\n"
     ]
    },
    {
     "name": "stderr",
     "output_type": "stream",
     "text": [
      "/opt/homebrew/anaconda3/lib/python3.12/site-packages/sklearn/metrics/_classification.py:1531: UndefinedMetricWarning: Recall is ill-defined and being set to 0.0 in labels with no true samples. Use `zero_division` parameter to control this behavior.\n",
      "  _warn_prf(average, modifier, f\"{metric.capitalize()} is\", len(result))\n",
      "/opt/homebrew/anaconda3/lib/python3.12/site-packages/sklearn/metrics/_classification.py:1531: UndefinedMetricWarning: Recall is ill-defined and being set to 0.0 in labels with no true samples. Use `zero_division` parameter to control this behavior.\n",
      "  _warn_prf(average, modifier, f\"{metric.capitalize()} is\", len(result))\n"
     ]
    },
    {
     "name": "stdout",
     "output_type": "stream",
     "text": [
      "NB Accuracy on Test set -> 0.14\n",
      "NB Recall on Test set -> 0.095\n",
      "SVM Accuracy on Test set -> 0.1\n",
      "SVM Recall on Test set -> 0.09649122807017543\n"
     ]
    },
    {
     "name": "stderr",
     "output_type": "stream",
     "text": [
      "/opt/homebrew/anaconda3/lib/python3.12/site-packages/sklearn/linear_model/_logistic.py:469: ConvergenceWarning: lbfgs failed to converge (status=1):\n",
      "STOP: TOTAL NO. of ITERATIONS REACHED LIMIT.\n",
      "\n",
      "Increase the number of iterations (max_iter) or scale the data as shown in:\n",
      "    https://scikit-learn.org/stable/modules/preprocessing.html\n",
      "Please also refer to the documentation for alternative solver options:\n",
      "    https://scikit-learn.org/stable/modules/linear_model.html#logistic-regression\n",
      "  n_iter_i = _check_optimize_result(\n",
      "/opt/homebrew/anaconda3/lib/python3.12/site-packages/sklearn/metrics/_classification.py:1531: UndefinedMetricWarning: Recall is ill-defined and being set to 0.0 in labels with no true samples. Use `zero_division` parameter to control this behavior.\n",
      "  _warn_prf(average, modifier, f\"{metric.capitalize()} is\", len(result))\n",
      "/opt/homebrew/anaconda3/lib/python3.12/site-packages/sklearn/ensemble/_weight_boosting.py:527: FutureWarning: The SAMME.R algorithm (the default) is deprecated and will be removed in 1.6. Use the SAMME algorithm to circumvent this warning.\n",
      "  warnings.warn(\n",
      "/opt/homebrew/anaconda3/lib/python3.12/site-packages/sklearn/metrics/_classification.py:1531: UndefinedMetricWarning: Recall is ill-defined and being set to 0.0 in labels with no true samples. Use `zero_division` parameter to control this behavior.\n",
      "  _warn_prf(average, modifier, f\"{metric.capitalize()} is\", len(result))\n",
      "/opt/homebrew/anaconda3/lib/python3.12/site-packages/sklearn/metrics/_classification.py:1531: UndefinedMetricWarning: Recall is ill-defined and being set to 0.0 in labels with no true samples. Use `zero_division` parameter to control this behavior.\n",
      "  _warn_prf(average, modifier, f\"{metric.capitalize()} is\", len(result))\n"
     ]
    },
    {
     "name": "stdout",
     "output_type": "stream",
     "text": [
      "LR Accuracy on Test set -> 0.22\n",
      "LR Recall on Test set -> 0.19912280701754384\n",
      "AdaBoost Accuracy on Test set -> 0.1\n",
      "AdaBoost Recall on Test set -> 0.0807017543859649\n",
      "XGBoost Accuracy on Test set -> 0.12\n",
      "XGBoost Recall on Test set -> 0.08684210526315789\n"
     ]
    },
    {
     "name": "stderr",
     "output_type": "stream",
     "text": [
      "/opt/homebrew/anaconda3/lib/python3.12/site-packages/sklearn/metrics/_classification.py:1531: UndefinedMetricWarning: Recall is ill-defined and being set to 0.0 in labels with no true samples. Use `zero_division` parameter to control this behavior.\n",
      "  _warn_prf(average, modifier, f\"{metric.capitalize()} is\", len(result))\n",
      "/opt/homebrew/anaconda3/lib/python3.12/site-packages/sklearn/metrics/_classification.py:1531: UndefinedMetricWarning: Recall is ill-defined and being set to 0.0 in labels with no true samples. Use `zero_division` parameter to control this behavior.\n",
      "  _warn_prf(average, modifier, f\"{metric.capitalize()} is\", len(result))\n"
     ]
    },
    {
     "name": "stdout",
     "output_type": "stream",
     "text": [
      "RandomForest Accuracy on Test set -> 0.22\n",
      "RandomForest Recall on Test set -> 0.1807017543859649\n",
      "DecisionTree Accuracy on Test set -> 0.14\n",
      "DecisionTree Recall on Test set -> 0.07999999999999999\n",
      "\n",
      "\n",
      "* * * * EVALUATION USING STM_LOW AS PREPROCESSING FUNCTION * * * *\n",
      "Length of the longest sample is: 2419\n",
      "\n",
      "\n",
      "***** FINISHED PROCESSING AND ADAPTING THE TRAINING SET, THE SIMULATION BEGINS *******\n",
      "Sample considered is:  tf.Tensor([[b': : I have 19 (2 MB worth!) uuencode\\'d GIF images contain charts outlining\\n: : one of the many alternative Space Station designs being considered in\\n: : Crystal City.  [...]\\n\\n: I just posted the GIF files out for anonymous FTP on server ics.uci.edu.\\n: You can retrieve them from:\\n:   ics.uci.edu:incoming/geode01.gif\\n:   ics.uci.edu:incoming/geode02.gif\\n:   ics.uci.edu:incoming/geode03.gif\\n:   ics.uci.edu:incoming/geode04.gif\\n:   ics.uci.edu:incoming/geode05.gif\\n:   ics.uci.edu:incoming/geode06.gif\\n:   ics.uci.edu:incoming/geode07.gif\\n:   ics.uci.edu:incoming/geode08.gif\\n:   ics.uci.edu:incoming/geode09.gif\\n:   ics.uci.edu:incoming/geode10.gif\\n:   ics.uci.edu:incoming/geode11.gif\\n:   ics.uci.edu:incoming/geode12.gif\\n:   ics.uci.edu:incoming/geode13.gif\\n:   ics.uci.edu:incoming/geode14.gif\\n:   ics.uci.edu:incoming/geode15.gif\\n:   ics.uci.edu:incoming/geode16.gif\\n:   ics.uci.edu:incoming/geode17.gif\\n:   ics.uci.edu:incoming/geodeA.gif\\n:   ics.uci.edu:incoming/geodeB.gif\\n\\n: The last two are scanned color photos; the others are scanned briefing\\n: charts.\\n\\n: These will be deleted by the ics.uci.edu system manager in a few days,\\n: so now\\'s the time to grab them if you\\'re interested.  Sorry it took\\n: me so long to get these out, but I was trying for the Ames server,\\n: but it\\'s out of space.\\n\\nBut now I need to clarify the situation.  The \"/incoming\" directory on\\nics.uci.edu does NOT allow you to do an \"ls\" command.  The files are\\nthere (I just checked on 04/28/93 at 9:35 CDT), and you can \"get\" them\\n(don\\'t forget the \"binary\" mode!), but you can\\'t \"ls\" in the\\n\"/incoming\" directory.\\n\\nA further update: Mark\\'s design made the cover of Space News this week\\nas one of the design alternatives which was rejected.  But he\\'s still\\nin there plugging.  I wish him luck -- using ET\\'s as the basis of a\\nSpace Station has been a good idea for a long time.\\n\\nMay the best design win.\\n\\n-- Ken Jenks, NASA/JSC/GM2, Space Shuttle Program Office\\n      kjenks@gothamcity.jsc.nasa.gov  (713) 483-4368']], shape=(1, 1), dtype=string)\n",
      "Preprocessed:  tf.Tensor([[b'   i       h       a       v       e       1       9       2       m       b       w       o       r       t       h       u       u       e       n       c       o       d       e       d       g       i       f       i       m       a       g       e       s       c       o       n       t       a       i       n       c       h       a       r       t       s       o       u       t       l       i       n       i       n       g       o       n       e       o       f       t       h       e       m       a       n       y       a       l       t       e       r       n       a       t       i       v       e       s       p       a       c       e       s       t       a       t       i       o       n       d       e       s       i       g       n       s       b       e       i       n       g       c       o       n       s       i       d       e       r       e       d       i       n       c       r       y       s       t       a       l       c       i       t       y       i       j       u       s       t       p       o       s       t       e       d       t       h       e       g       i       f       f       i       l       e       s       o       u       t       f       o       r       a       n       o       n       y       m       o       u       s       f       t       p       o       n       s       e       r       v       e       r       i       c       s       u       c       i       e       d       u       y       o       u       c       a       n       r       e       t       r       i       e       v       e       t       h       e       m       f       r       o       m       i       c       s       u       c       i       e       d       u       i       n       c       o       m       i       n       g       g       e       o       d       e       0       1       g       i       f       i       c       s       u       c       i       e       d       u       i       n       c       o       m       i       n       g       g       e       o       d       e       0       2       g       i       f       i       c       s       u       c       i       e       d       u       i       n       c       o       m       i       n       g       g       e       o       d       e       0       3       g       i       f       i       c       s       u       c       i       e       d       u       i       n       c       o       m       i       n       g       g       e       o       d       e       0       4       g       i       f       i       c       s       u       c       i       e       d       u       i       n       c       o       m       i       n       g       g       e       o       d       e       0       5       g       i       f       i       c       s       u       c       i       e       d       u       i       n       c       o       m       i       n       g       g       e       o       d       e       0       6       g       i       f       i       c       s       u       c       i       e       d       u       i       n       c       o       m       i       n       g       g       e       o       d       e       0       7       g       i       f       i       c       s       u       c       i       e       d       u       i       n       c       o       m       i       n       g       g       e       o       d       e       0       8       g       i       f       i       c       s       u       c       i       e       d       u       i       n       c       o       m       i       n       g       g       e       o       d       e       0       9       g       i       f       i       c       s       u       c       i       e       d       u       i       n       c       o       m       i       n       g       g       e       o       d       e       1       0       g       i       f       i       c       s       u       c       i       e       d       u       i       n       c       o       m       i       n       g       g       e       o       d       e       1       1       g       i       f       i       c       s       u       c       i       e       d       u       i       n       c       o       m       i       n       g       g       e       o       d       e       1       2       g       i       f       i       c       s       u       c       i       e       d       u       i       n       c       o       m       i       n       g       g       e       o       d       e       1       3       g       i       f       i       c       s       u       c       i       e       d       u       i       n       c       o       m       i       n       g       g       e       o       d       e       1       4       g       i       f       i       c       s       u       c       i       e       d       u       i       n       c       o       m       i       n       g       g       e       o       d       e       1       5       g       i       f       i       c       s       u       c       i       e       d       u       i       n       c       o       m       i       n       g       g       e       o       d       e       1       6       g       i       f       i       c       s       u       c       i       e       d       u       i       n       c       o       m       i       n       g       g       e       o       d       e       1       7       g       i       f       i       c       s       u       c       i       e       d       u       i       n       c       o       m       i       n       g       g       e       o       d       e       a       g       i       f       i       c       s       u       c       i       e       d       u       i       n       c       o       m       i       n       g       g       e       o       d       e       b       g       i       f       t       h       e       l       a       s       t       t       w       o       a       r       e       s       c       a       n       n       e       d       c       o       l       o       r       p       h       o       t       o       s       t       h       e       o       t       h       e       r       s       a       r       e       s       c       a       n       n       e       d       b       r       i       e       f       i       n       g       c       h       a       r       t       s       t       h       e       s       e       w       i       l       l       b       e       d       e       l       e       t       e       d       b       y       t       h       e       i       c       s       u       c       i       e       d       u       s       y       s       t       e       m       m       a       n       a       g       e       r       i       n       a       f       e       w       d       a       y       s       s       o       n       o       w       s       t       h       e       t       i       m       e       t       o       g       r       a       b       t       h       e       m       i       f       y       o       u       r       e       i       n       t       e       r       e       s       t       e       d       s       o       r       r       y       i       t       t       o       o       k       m       e       s       o       l       o       n       g       t       o       g       e       t       t       h       e       s       e       o       u       t       b       u       t       i       w       a       s       t       r       y       i       n       g       f       o       r       t       h       e       a       m       e       s       s       e       r       v       e       r       b       u       t       i       t       s       o       u       t       o       f       s       p       a       c       e       b       u       t       n       o       w       i       n       e       e       d       t       o       c       l       a       r       i       f       y       t       h       e       s       i       t       u       a       t       i       o       n       t       h       e       i       n       c       o       m       i       n       g       d       i       r       e       c       t       o       r       y       o       n       i       c       s       u       c       i       e       d       u       d       o       e       s       n       o       t       a       l       l       o       w       y       o       u       t       o       d       o       a       n       l       s       c       o       m       m       a       n       d       t       h       e       f       i       l       e       s       a       r       e       t       h       e       r       e       i       j       u       s       t       c       h       e       c       k       e       d       o       n       0       4       2       8       9       3       a       t       9       3       5       c       d       t       a       n       d       y       o       u       c       a       n       g       e       t       t       h       e       m       d       o       n       t       f       o       r       g       e       t       t       h       e       b       i       n       a       r       y       m       o       d       e       b       u       t       y       o       u       c       a       n       t       l       s       i       n       t       h       e       i       n       c       o       m       i       n       g       d       i       r       e       c       t       o       r       y       a       f       u       r       t       h       e       r       u       p       d       a       t       e       m       a       r       k       s       d       e       s       i       g       n       m       a       d       e       t       h       e       c       o       v       e       r       o       f       s       p       a       c       e       n       e       w       s       t       h       i       s       w       e       e       k       a       s       o       n       e       o       f       t       h       e       d       e       s       i       g       n       a       l       t       e       r       n       a       t       i       v       e       s       w       h       i       c       h       w       a       s       r       e       j       e       c       t       e       d       b       u       t       h       e       s       s       t       i       l       l       i       n       t       h       e       r       e       p       l       u       g       g       i       n       g       i       w       i       s       h       h       i       m       l       u       c       k       u       s       i       n       g       e       t       s       a       s       t       h       e       b       a       s       i       s       o       f       a       s       p       a       c       e       s       t       a       t       i       o       n       h       a       s       b       e       e       n       a       g       o       o       d       i       d       e       a       f       o       r       a       l       o       n       g       t       i       m       e       m       a       y       t       h       e       b       e       s       t       d       e       s       i       g       n       w       i       n       k       e       n       j       e       n       k       s       n       a       s       a       j       s       c       g       m       2       s       p       a       c       e       s       h       u       t       t       l       e       p       r       o       g       r       a       m       o       f       f       i       c       e       k       j       e       n       k       s       g       o       t       h       a       m       c       i       t       y       j       s       c       n       a       s       a       g       o       v       7       1       3       4       8       3       4       3       6       8   ']], shape=(1, 1), dtype=string)\n"
     ]
    },
    {
     "name": "stderr",
     "output_type": "stream",
     "text": [
      "/opt/homebrew/anaconda3/lib/python3.12/site-packages/sklearn/metrics/_classification.py:1531: UndefinedMetricWarning: Recall is ill-defined and being set to 0.0 in labels with no true samples. Use `zero_division` parameter to control this behavior.\n",
      "  _warn_prf(average, modifier, f\"{metric.capitalize()} is\", len(result))\n",
      "/opt/homebrew/anaconda3/lib/python3.12/site-packages/sklearn/metrics/_classification.py:1531: UndefinedMetricWarning: Recall is ill-defined and being set to 0.0 in labels with no true samples. Use `zero_division` parameter to control this behavior.\n",
      "  _warn_prf(average, modifier, f\"{metric.capitalize()} is\", len(result))\n"
     ]
    },
    {
     "name": "stdout",
     "output_type": "stream",
     "text": [
      "NB Accuracy on Test set -> 0.08\n",
      "NB Recall on Test set -> 0.09824561403508772\n",
      "SVM Accuracy on Test set -> 0.14\n",
      "SVM Recall on Test set -> 0.10166666666666666\n"
     ]
    },
    {
     "name": "stderr",
     "output_type": "stream",
     "text": [
      "/opt/homebrew/anaconda3/lib/python3.12/site-packages/sklearn/linear_model/_logistic.py:469: ConvergenceWarning: lbfgs failed to converge (status=1):\n",
      "STOP: TOTAL NO. of ITERATIONS REACHED LIMIT.\n",
      "\n",
      "Increase the number of iterations (max_iter) or scale the data as shown in:\n",
      "    https://scikit-learn.org/stable/modules/preprocessing.html\n",
      "Please also refer to the documentation for alternative solver options:\n",
      "    https://scikit-learn.org/stable/modules/linear_model.html#logistic-regression\n",
      "  n_iter_i = _check_optimize_result(\n",
      "/opt/homebrew/anaconda3/lib/python3.12/site-packages/sklearn/metrics/_classification.py:1531: UndefinedMetricWarning: Recall is ill-defined and being set to 0.0 in labels with no true samples. Use `zero_division` parameter to control this behavior.\n",
      "  _warn_prf(average, modifier, f\"{metric.capitalize()} is\", len(result))\n",
      "/opt/homebrew/anaconda3/lib/python3.12/site-packages/sklearn/ensemble/_weight_boosting.py:527: FutureWarning: The SAMME.R algorithm (the default) is deprecated and will be removed in 1.6. Use the SAMME algorithm to circumvent this warning.\n",
      "  warnings.warn(\n",
      "/opt/homebrew/anaconda3/lib/python3.12/site-packages/sklearn/metrics/_classification.py:1531: UndefinedMetricWarning: Recall is ill-defined and being set to 0.0 in labels with no true samples. Use `zero_division` parameter to control this behavior.\n",
      "  _warn_prf(average, modifier, f\"{metric.capitalize()} is\", len(result))\n"
     ]
    },
    {
     "name": "stdout",
     "output_type": "stream",
     "text": [
      "LR Accuracy on Test set -> 0.18\n",
      "LR Recall on Test set -> 0.12\n",
      "AdaBoost Accuracy on Test set -> 0.08\n",
      "AdaBoost Recall on Test set -> 0.05925925925925926\n",
      "XGBoost Accuracy on Test set -> 0.16\n",
      "XGBoost Recall on Test set -> 0.12\n"
     ]
    },
    {
     "name": "stderr",
     "output_type": "stream",
     "text": [
      "/opt/homebrew/anaconda3/lib/python3.12/site-packages/sklearn/metrics/_classification.py:1531: UndefinedMetricWarning: Recall is ill-defined and being set to 0.0 in labels with no true samples. Use `zero_division` parameter to control this behavior.\n",
      "  _warn_prf(average, modifier, f\"{metric.capitalize()} is\", len(result))\n",
      "/opt/homebrew/anaconda3/lib/python3.12/site-packages/sklearn/metrics/_classification.py:1531: UndefinedMetricWarning: Recall is ill-defined and being set to 0.0 in labels with no true samples. Use `zero_division` parameter to control this behavior.\n",
      "  _warn_prf(average, modifier, f\"{metric.capitalize()} is\", len(result))\n"
     ]
    },
    {
     "name": "stdout",
     "output_type": "stream",
     "text": [
      "RandomForest Accuracy on Test set -> 0.18\n",
      "RandomForest Recall on Test set -> 0.12166666666666666\n",
      "DecisionTree Accuracy on Test set -> 0.18\n",
      "DecisionTree Recall on Test set -> 0.16333333333333333\n",
      "\n",
      "\n",
      "* * * * EVALUATION USING STM_RSW AS PREPROCESSING FUNCTION * * * *\n",
      "Length of the longest sample is: 1731\n",
      "\n",
      "\n",
      "***** FINISHED PROCESSING AND ADAPTING THE TRAINING SET, THE SIMULATION BEGINS *******\n",
      "Sample considered is:  tf.Tensor([[b': : I have 19 (2 MB worth!) uuencode\\'d GIF images contain charts outlining\\n: : one of the many alternative Space Station designs being considered in\\n: : Crystal City.  [...]\\n\\n: I just posted the GIF files out for anonymous FTP on server ics.uci.edu.\\n: You can retrieve them from:\\n:   ics.uci.edu:incoming/geode01.gif\\n:   ics.uci.edu:incoming/geode02.gif\\n:   ics.uci.edu:incoming/geode03.gif\\n:   ics.uci.edu:incoming/geode04.gif\\n:   ics.uci.edu:incoming/geode05.gif\\n:   ics.uci.edu:incoming/geode06.gif\\n:   ics.uci.edu:incoming/geode07.gif\\n:   ics.uci.edu:incoming/geode08.gif\\n:   ics.uci.edu:incoming/geode09.gif\\n:   ics.uci.edu:incoming/geode10.gif\\n:   ics.uci.edu:incoming/geode11.gif\\n:   ics.uci.edu:incoming/geode12.gif\\n:   ics.uci.edu:incoming/geode13.gif\\n:   ics.uci.edu:incoming/geode14.gif\\n:   ics.uci.edu:incoming/geode15.gif\\n:   ics.uci.edu:incoming/geode16.gif\\n:   ics.uci.edu:incoming/geode17.gif\\n:   ics.uci.edu:incoming/geodeA.gif\\n:   ics.uci.edu:incoming/geodeB.gif\\n\\n: The last two are scanned color photos; the others are scanned briefing\\n: charts.\\n\\n: These will be deleted by the ics.uci.edu system manager in a few days,\\n: so now\\'s the time to grab them if you\\'re interested.  Sorry it took\\n: me so long to get these out, but I was trying for the Ames server,\\n: but it\\'s out of space.\\n\\nBut now I need to clarify the situation.  The \"/incoming\" directory on\\nics.uci.edu does NOT allow you to do an \"ls\" command.  The files are\\nthere (I just checked on 04/28/93 at 9:35 CDT), and you can \"get\" them\\n(don\\'t forget the \"binary\" mode!), but you can\\'t \"ls\" in the\\n\"/incoming\" directory.\\n\\nA further update: Mark\\'s design made the cover of Space News this week\\nas one of the design alternatives which was rejected.  But he\\'s still\\nin there plugging.  I wish him luck -- using ET\\'s as the basis of a\\nSpace Station has been a good idea for a long time.\\n\\nMay the best design win.\\n\\n-- Ken Jenks, NASA/JSC/GM2, Space Shuttle Program Office\\n      kjenks@gothamcity.jsc.nasa.gov  (713) 483-4368']], shape=(1, 1), dtype=string)\n",
      "Preprocessed:  tf.Tensor([[b'h v e 1 9 2 b w r h u u e n c e g f g e c n n c h r u l n n g n e f h e n l e r n v e p c e n e g n b e n g c n e r e n c r l c j u p e h e g f f l e u f r n n u f p n e r v e r c u c e u u c n r e r e v e h e f r c u c e u n c n g g e e 0 1 g f c u c e u n c n g g e e 0 2 g f c u c e u n c n g g e e 0 3 g f c u c e u n c n g g e e 0 4 g f c u c e u n c n g g e e 0 5 g f c u c e u n c n g g e e 0 6 g f c u c e u n c n g g e e 0 7 g f c u c e u n c n g g e e 0 8 g f c u c e u n c n g g e e 0 9 g f c u c e u n c n g g e e 1 0 g f c u c e u n c n g g e e 1 1 g f c u c e u n c n g g e e 1 2 g f c u c e u n c n g g e e 1 3 g f c u c e u n c n g g e e 1 4 g f c u c e u n c n g g e e 1 5 g f c u c e u n c n g g e e 1 6 g f c u c e u n c n g g e e 1 7 g f c u c e u n c n g g e e g f c u c e u n c n g g e e b g f h e l w r e c n n e c l r p h h e h e r r e c n n e b r e f n g c h r h e e w l l b e e l e e b h e c u c e u e n g e r n f e w n w h e e g r b h e f u r e n e r e e r r k e l n g g e h e e u b u w r n g f r h e e e r v e r b u u f p c e b u n w n e e c l r f h e u n h e n c n g r e c r n c u c e u e n l l w u n l c n h e f l e r e h e r e j u c h e c k e n 0 4 2 8 9 3 9 3 5 c n u c n g e h e n f r g e h e b n r e b u u c n l n h e n c n g r e c r f u r h e r u p e r k e g n e h e c v e r f p c e n e w h w e e k n e f h e e g n l e r n v e w h c h w r e j e c e b u h e l l n h e r e p l u g g n g w h h l u c k u n g e h e b f p c e n h b e e n g e f r l n g e h e b e e g n w n k e n j e n k n j c g 2 p c e h u l e p r g r f f c e k j e n k g h c j c n g v 7 1 3 4 8 3 4 3 6 8']], shape=(1, 1), dtype=string)\n"
     ]
    },
    {
     "name": "stderr",
     "output_type": "stream",
     "text": [
      "/opt/homebrew/anaconda3/lib/python3.12/site-packages/sklearn/metrics/_classification.py:1531: UndefinedMetricWarning: Recall is ill-defined and being set to 0.0 in labels with no true samples. Use `zero_division` parameter to control this behavior.\n",
      "  _warn_prf(average, modifier, f\"{metric.capitalize()} is\", len(result))\n",
      "/opt/homebrew/anaconda3/lib/python3.12/site-packages/sklearn/metrics/_classification.py:1531: UndefinedMetricWarning: Recall is ill-defined and being set to 0.0 in labels with no true samples. Use `zero_division` parameter to control this behavior.\n",
      "  _warn_prf(average, modifier, f\"{metric.capitalize()} is\", len(result))\n"
     ]
    },
    {
     "name": "stdout",
     "output_type": "stream",
     "text": [
      "NB Accuracy on Test set -> 0.18\n",
      "NB Recall on Test set -> 0.15499999999999997\n",
      "SVM Accuracy on Test set -> 0.18\n",
      "SVM Recall on Test set -> 0.1280701754385965\n"
     ]
    },
    {
     "name": "stderr",
     "output_type": "stream",
     "text": [
      "/opt/homebrew/anaconda3/lib/python3.12/site-packages/sklearn/linear_model/_logistic.py:469: ConvergenceWarning: lbfgs failed to converge (status=1):\n",
      "STOP: TOTAL NO. of ITERATIONS REACHED LIMIT.\n",
      "\n",
      "Increase the number of iterations (max_iter) or scale the data as shown in:\n",
      "    https://scikit-learn.org/stable/modules/preprocessing.html\n",
      "Please also refer to the documentation for alternative solver options:\n",
      "    https://scikit-learn.org/stable/modules/linear_model.html#logistic-regression\n",
      "  n_iter_i = _check_optimize_result(\n",
      "/opt/homebrew/anaconda3/lib/python3.12/site-packages/sklearn/metrics/_classification.py:1531: UndefinedMetricWarning: Recall is ill-defined and being set to 0.0 in labels with no true samples. Use `zero_division` parameter to control this behavior.\n",
      "  _warn_prf(average, modifier, f\"{metric.capitalize()} is\", len(result))\n",
      "/opt/homebrew/anaconda3/lib/python3.12/site-packages/sklearn/ensemble/_weight_boosting.py:527: FutureWarning: The SAMME.R algorithm (the default) is deprecated and will be removed in 1.6. Use the SAMME algorithm to circumvent this warning.\n",
      "  warnings.warn(\n",
      "/opt/homebrew/anaconda3/lib/python3.12/site-packages/sklearn/metrics/_classification.py:1531: UndefinedMetricWarning: Recall is ill-defined and being set to 0.0 in labels with no true samples. Use `zero_division` parameter to control this behavior.\n",
      "  _warn_prf(average, modifier, f\"{metric.capitalize()} is\", len(result))\n"
     ]
    },
    {
     "name": "stdout",
     "output_type": "stream",
     "text": [
      "LR Accuracy on Test set -> 0.18\n",
      "LR Recall on Test set -> 0.13508771929824562\n",
      "AdaBoost Accuracy on Test set -> 0.04\n",
      "AdaBoost Recall on Test set -> 0.06\n"
     ]
    },
    {
     "name": "stderr",
     "output_type": "stream",
     "text": [
      "/opt/homebrew/anaconda3/lib/python3.12/site-packages/sklearn/metrics/_classification.py:1531: UndefinedMetricWarning: Recall is ill-defined and being set to 0.0 in labels with no true samples. Use `zero_division` parameter to control this behavior.\n",
      "  _warn_prf(average, modifier, f\"{metric.capitalize()} is\", len(result))\n",
      "/opt/homebrew/anaconda3/lib/python3.12/site-packages/sklearn/metrics/_classification.py:1531: UndefinedMetricWarning: Recall is ill-defined and being set to 0.0 in labels with no true samples. Use `zero_division` parameter to control this behavior.\n",
      "  _warn_prf(average, modifier, f\"{metric.capitalize()} is\", len(result))\n",
      "/opt/homebrew/anaconda3/lib/python3.12/site-packages/sklearn/metrics/_classification.py:1531: UndefinedMetricWarning: Recall is ill-defined and being set to 0.0 in labels with no true samples. Use `zero_division` parameter to control this behavior.\n",
      "  _warn_prf(average, modifier, f\"{metric.capitalize()} is\", len(result))\n"
     ]
    },
    {
     "name": "stdout",
     "output_type": "stream",
     "text": [
      "XGBoost Accuracy on Test set -> 0.14\n",
      "XGBoost Recall on Test set -> 0.08666666666666666\n",
      "RandomForest Accuracy on Test set -> 0.22\n",
      "RandomForest Recall on Test set -> 0.16315789473684209\n",
      "DecisionTree Accuracy on Test set -> 0.14\n",
      "DecisionTree Recall on Test set -> 0.12833333333333333\n",
      "\n",
      "\n",
      "* * * * EVALUATION USING LOW_STM_RSW AS PREPROCESSING FUNCTION * * * *\n",
      "Length of the longest sample is: 1731\n",
      "\n",
      "\n",
      "***** FINISHED PROCESSING AND ADAPTING THE TRAINING SET, THE SIMULATION BEGINS *******\n",
      "Sample considered is:  tf.Tensor([[b': : I have 19 (2 MB worth!) uuencode\\'d GIF images contain charts outlining\\n: : one of the many alternative Space Station designs being considered in\\n: : Crystal City.  [...]\\n\\n: I just posted the GIF files out for anonymous FTP on server ics.uci.edu.\\n: You can retrieve them from:\\n:   ics.uci.edu:incoming/geode01.gif\\n:   ics.uci.edu:incoming/geode02.gif\\n:   ics.uci.edu:incoming/geode03.gif\\n:   ics.uci.edu:incoming/geode04.gif\\n:   ics.uci.edu:incoming/geode05.gif\\n:   ics.uci.edu:incoming/geode06.gif\\n:   ics.uci.edu:incoming/geode07.gif\\n:   ics.uci.edu:incoming/geode08.gif\\n:   ics.uci.edu:incoming/geode09.gif\\n:   ics.uci.edu:incoming/geode10.gif\\n:   ics.uci.edu:incoming/geode11.gif\\n:   ics.uci.edu:incoming/geode12.gif\\n:   ics.uci.edu:incoming/geode13.gif\\n:   ics.uci.edu:incoming/geode14.gif\\n:   ics.uci.edu:incoming/geode15.gif\\n:   ics.uci.edu:incoming/geode16.gif\\n:   ics.uci.edu:incoming/geode17.gif\\n:   ics.uci.edu:incoming/geodeA.gif\\n:   ics.uci.edu:incoming/geodeB.gif\\n\\n: The last two are scanned color photos; the others are scanned briefing\\n: charts.\\n\\n: These will be deleted by the ics.uci.edu system manager in a few days,\\n: so now\\'s the time to grab them if you\\'re interested.  Sorry it took\\n: me so long to get these out, but I was trying for the Ames server,\\n: but it\\'s out of space.\\n\\nBut now I need to clarify the situation.  The \"/incoming\" directory on\\nics.uci.edu does NOT allow you to do an \"ls\" command.  The files are\\nthere (I just checked on 04/28/93 at 9:35 CDT), and you can \"get\" them\\n(don\\'t forget the \"binary\" mode!), but you can\\'t \"ls\" in the\\n\"/incoming\" directory.\\n\\nA further update: Mark\\'s design made the cover of Space News this week\\nas one of the design alternatives which was rejected.  But he\\'s still\\nin there plugging.  I wish him luck -- using ET\\'s as the basis of a\\nSpace Station has been a good idea for a long time.\\n\\nMay the best design win.\\n\\n-- Ken Jenks, NASA/JSC/GM2, Space Shuttle Program Office\\n      kjenks@gothamcity.jsc.nasa.gov  (713) 483-4368']], shape=(1, 1), dtype=string)\n",
      "Preprocessed:  tf.Tensor([[b'h v e 1 9 2 b w r h u u e n c e g f g e c n n c h r u l n n g n e f h e n l e r n v e p c e n e g n b e n g c n e r e n c r l c j u p e h e g f f l e u f r n n u f p n e r v e r c u c e u u c n r e r e v e h e f r c u c e u n c n g g e e 0 1 g f c u c e u n c n g g e e 0 2 g f c u c e u n c n g g e e 0 3 g f c u c e u n c n g g e e 0 4 g f c u c e u n c n g g e e 0 5 g f c u c e u n c n g g e e 0 6 g f c u c e u n c n g g e e 0 7 g f c u c e u n c n g g e e 0 8 g f c u c e u n c n g g e e 0 9 g f c u c e u n c n g g e e 1 0 g f c u c e u n c n g g e e 1 1 g f c u c e u n c n g g e e 1 2 g f c u c e u n c n g g e e 1 3 g f c u c e u n c n g g e e 1 4 g f c u c e u n c n g g e e 1 5 g f c u c e u n c n g g e e 1 6 g f c u c e u n c n g g e e 1 7 g f c u c e u n c n g g e e g f c u c e u n c n g g e e b g f h e l w r e c n n e c l r p h h e h e r r e c n n e b r e f n g c h r h e e w l l b e e l e e b h e c u c e u e n g e r n f e w n w h e e g r b h e f u r e n e r e e r r k e l n g g e h e e u b u w r n g f r h e e e r v e r b u u f p c e b u n w n e e c l r f h e u n h e n c n g r e c r n c u c e u e n l l w u n l c n h e f l e r e h e r e j u c h e c k e n 0 4 2 8 9 3 9 3 5 c n u c n g e h e n f r g e h e b n r e b u u c n l n h e n c n g r e c r f u r h e r u p e r k e g n e h e c v e r f p c e n e w h w e e k n e f h e e g n l e r n v e w h c h w r e j e c e b u h e l l n h e r e p l u g g n g w h h l u c k u n g e h e b f p c e n h b e e n g e f r l n g e h e b e e g n w n k e n j e n k n j c g 2 p c e h u l e p r g r f f c e k j e n k g h c j c n g v 7 1 3 4 8 3 4 3 6 8']], shape=(1, 1), dtype=string)\n"
     ]
    },
    {
     "name": "stderr",
     "output_type": "stream",
     "text": [
      "/opt/homebrew/anaconda3/lib/python3.12/site-packages/sklearn/metrics/_classification.py:1531: UndefinedMetricWarning: Recall is ill-defined and being set to 0.0 in labels with no true samples. Use `zero_division` parameter to control this behavior.\n",
      "  _warn_prf(average, modifier, f\"{metric.capitalize()} is\", len(result))\n",
      "/opt/homebrew/anaconda3/lib/python3.12/site-packages/sklearn/metrics/_classification.py:1531: UndefinedMetricWarning: Recall is ill-defined and being set to 0.0 in labels with no true samples. Use `zero_division` parameter to control this behavior.\n",
      "  _warn_prf(average, modifier, f\"{metric.capitalize()} is\", len(result))\n"
     ]
    },
    {
     "name": "stdout",
     "output_type": "stream",
     "text": [
      "NB Accuracy on Test set -> 0.18\n",
      "NB Recall on Test set -> 0.15499999999999997\n",
      "SVM Accuracy on Test set -> 0.18\n",
      "SVM Recall on Test set -> 0.1280701754385965\n"
     ]
    },
    {
     "name": "stderr",
     "output_type": "stream",
     "text": [
      "/opt/homebrew/anaconda3/lib/python3.12/site-packages/sklearn/linear_model/_logistic.py:469: ConvergenceWarning: lbfgs failed to converge (status=1):\n",
      "STOP: TOTAL NO. of ITERATIONS REACHED LIMIT.\n",
      "\n",
      "Increase the number of iterations (max_iter) or scale the data as shown in:\n",
      "    https://scikit-learn.org/stable/modules/preprocessing.html\n",
      "Please also refer to the documentation for alternative solver options:\n",
      "    https://scikit-learn.org/stable/modules/linear_model.html#logistic-regression\n",
      "  n_iter_i = _check_optimize_result(\n",
      "/opt/homebrew/anaconda3/lib/python3.12/site-packages/sklearn/metrics/_classification.py:1531: UndefinedMetricWarning: Recall is ill-defined and being set to 0.0 in labels with no true samples. Use `zero_division` parameter to control this behavior.\n",
      "  _warn_prf(average, modifier, f\"{metric.capitalize()} is\", len(result))\n",
      "/opt/homebrew/anaconda3/lib/python3.12/site-packages/sklearn/ensemble/_weight_boosting.py:527: FutureWarning: The SAMME.R algorithm (the default) is deprecated and will be removed in 1.6. Use the SAMME algorithm to circumvent this warning.\n",
      "  warnings.warn(\n",
      "/opt/homebrew/anaconda3/lib/python3.12/site-packages/sklearn/metrics/_classification.py:1531: UndefinedMetricWarning: Recall is ill-defined and being set to 0.0 in labels with no true samples. Use `zero_division` parameter to control this behavior.\n",
      "  _warn_prf(average, modifier, f\"{metric.capitalize()} is\", len(result))\n",
      "/opt/homebrew/anaconda3/lib/python3.12/site-packages/sklearn/metrics/_classification.py:1531: UndefinedMetricWarning: Recall is ill-defined and being set to 0.0 in labels with no true samples. Use `zero_division` parameter to control this behavior.\n",
      "  _warn_prf(average, modifier, f\"{metric.capitalize()} is\", len(result))\n"
     ]
    },
    {
     "name": "stdout",
     "output_type": "stream",
     "text": [
      "LR Accuracy on Test set -> 0.18\n",
      "LR Recall on Test set -> 0.13508771929824562\n",
      "AdaBoost Accuracy on Test set -> 0.04\n",
      "AdaBoost Recall on Test set -> 0.06\n",
      "XGBoost Accuracy on Test set -> 0.14\n",
      "XGBoost Recall on Test set -> 0.08666666666666666\n"
     ]
    },
    {
     "name": "stderr",
     "output_type": "stream",
     "text": [
      "/opt/homebrew/anaconda3/lib/python3.12/site-packages/sklearn/metrics/_classification.py:1531: UndefinedMetricWarning: Recall is ill-defined and being set to 0.0 in labels with no true samples. Use `zero_division` parameter to control this behavior.\n",
      "  _warn_prf(average, modifier, f\"{metric.capitalize()} is\", len(result))\n",
      "/opt/homebrew/anaconda3/lib/python3.12/site-packages/sklearn/metrics/_classification.py:1531: UndefinedMetricWarning: Recall is ill-defined and being set to 0.0 in labels with no true samples. Use `zero_division` parameter to control this behavior.\n",
      "  _warn_prf(average, modifier, f\"{metric.capitalize()} is\", len(result))\n"
     ]
    },
    {
     "name": "stdout",
     "output_type": "stream",
     "text": [
      "RandomForest Accuracy on Test set -> 0.22\n",
      "RandomForest Recall on Test set -> 0.16315789473684209\n",
      "DecisionTree Accuracy on Test set -> 0.14\n",
      "DecisionTree Recall on Test set -> 0.12833333333333333\n",
      "\n",
      "\n",
      "* * * * EVALUATION USING LOW_RSW_STM AS PREPROCESSING FUNCTION * * * *\n",
      "Length of the longest sample is: 1731\n",
      "\n",
      "\n",
      "***** FINISHED PROCESSING AND ADAPTING THE TRAINING SET, THE SIMULATION BEGINS *******\n",
      "Sample considered is:  tf.Tensor([[b': : I have 19 (2 MB worth!) uuencode\\'d GIF images contain charts outlining\\n: : one of the many alternative Space Station designs being considered in\\n: : Crystal City.  [...]\\n\\n: I just posted the GIF files out for anonymous FTP on server ics.uci.edu.\\n: You can retrieve them from:\\n:   ics.uci.edu:incoming/geode01.gif\\n:   ics.uci.edu:incoming/geode02.gif\\n:   ics.uci.edu:incoming/geode03.gif\\n:   ics.uci.edu:incoming/geode04.gif\\n:   ics.uci.edu:incoming/geode05.gif\\n:   ics.uci.edu:incoming/geode06.gif\\n:   ics.uci.edu:incoming/geode07.gif\\n:   ics.uci.edu:incoming/geode08.gif\\n:   ics.uci.edu:incoming/geode09.gif\\n:   ics.uci.edu:incoming/geode10.gif\\n:   ics.uci.edu:incoming/geode11.gif\\n:   ics.uci.edu:incoming/geode12.gif\\n:   ics.uci.edu:incoming/geode13.gif\\n:   ics.uci.edu:incoming/geode14.gif\\n:   ics.uci.edu:incoming/geode15.gif\\n:   ics.uci.edu:incoming/geode16.gif\\n:   ics.uci.edu:incoming/geode17.gif\\n:   ics.uci.edu:incoming/geodeA.gif\\n:   ics.uci.edu:incoming/geodeB.gif\\n\\n: The last two are scanned color photos; the others are scanned briefing\\n: charts.\\n\\n: These will be deleted by the ics.uci.edu system manager in a few days,\\n: so now\\'s the time to grab them if you\\'re interested.  Sorry it took\\n: me so long to get these out, but I was trying for the Ames server,\\n: but it\\'s out of space.\\n\\nBut now I need to clarify the situation.  The \"/incoming\" directory on\\nics.uci.edu does NOT allow you to do an \"ls\" command.  The files are\\nthere (I just checked on 04/28/93 at 9:35 CDT), and you can \"get\" them\\n(don\\'t forget the \"binary\" mode!), but you can\\'t \"ls\" in the\\n\"/incoming\" directory.\\n\\nA further update: Mark\\'s design made the cover of Space News this week\\nas one of the design alternatives which was rejected.  But he\\'s still\\nin there plugging.  I wish him luck -- using ET\\'s as the basis of a\\nSpace Station has been a good idea for a long time.\\n\\nMay the best design win.\\n\\n-- Ken Jenks, NASA/JSC/GM2, Space Shuttle Program Office\\n      kjenks@gothamcity.jsc.nasa.gov  (713) 483-4368']], shape=(1, 1), dtype=string)\n",
      "Preprocessed:  tf.Tensor([[b'h v e 1 9 2 b w r h u u e n c e g f g e c n n c h r u l n n g n e f h e n l e r n v e p c e n e g n b e n g c n e r e n c r l c j u p e h e g f f l e u f r n n u f p n e r v e r c u c e u u c n r e r e v e h e f r c u c e u n c n g g e e 0 1 g f c u c e u n c n g g e e 0 2 g f c u c e u n c n g g e e 0 3 g f c u c e u n c n g g e e 0 4 g f c u c e u n c n g g e e 0 5 g f c u c e u n c n g g e e 0 6 g f c u c e u n c n g g e e 0 7 g f c u c e u n c n g g e e 0 8 g f c u c e u n c n g g e e 0 9 g f c u c e u n c n g g e e 1 0 g f c u c e u n c n g g e e 1 1 g f c u c e u n c n g g e e 1 2 g f c u c e u n c n g g e e 1 3 g f c u c e u n c n g g e e 1 4 g f c u c e u n c n g g e e 1 5 g f c u c e u n c n g g e e 1 6 g f c u c e u n c n g g e e 1 7 g f c u c e u n c n g g e e g f c u c e u n c n g g e e b g f h e l w r e c n n e c l r p h h e h e r r e c n n e b r e f n g c h r h e e w l l b e e l e e b h e c u c e u e n g e r n f e w n w h e e g r b h e f u r e n e r e e r r k e l n g g e h e e u b u w r n g f r h e e e r v e r b u u f p c e b u n w n e e c l r f h e u n h e n c n g r e c r n c u c e u e n l l w u n l c n h e f l e r e h e r e j u c h e c k e n 0 4 2 8 9 3 9 3 5 c n u c n g e h e n f r g e h e b n r e b u u c n l n h e n c n g r e c r f u r h e r u p e r k e g n e h e c v e r f p c e n e w h w e e k n e f h e e g n l e r n v e w h c h w r e j e c e b u h e l l n h e r e p l u g g n g w h h l u c k u n g e h e b f p c e n h b e e n g e f r l n g e h e b e e g n w n k e n j e n k n j c g 2 p c e h u l e p r g r f f c e k j e n k g h c j c n g v 7 1 3 4 8 3 4 3 6 8']], shape=(1, 1), dtype=string)\n"
     ]
    },
    {
     "name": "stderr",
     "output_type": "stream",
     "text": [
      "/opt/homebrew/anaconda3/lib/python3.12/site-packages/sklearn/metrics/_classification.py:1531: UndefinedMetricWarning: Recall is ill-defined and being set to 0.0 in labels with no true samples. Use `zero_division` parameter to control this behavior.\n",
      "  _warn_prf(average, modifier, f\"{metric.capitalize()} is\", len(result))\n",
      "/opt/homebrew/anaconda3/lib/python3.12/site-packages/sklearn/metrics/_classification.py:1531: UndefinedMetricWarning: Recall is ill-defined and being set to 0.0 in labels with no true samples. Use `zero_division` parameter to control this behavior.\n",
      "  _warn_prf(average, modifier, f\"{metric.capitalize()} is\", len(result))\n"
     ]
    },
    {
     "name": "stdout",
     "output_type": "stream",
     "text": [
      "NB Accuracy on Test set -> 0.18\n",
      "NB Recall on Test set -> 0.15499999999999997\n",
      "SVM Accuracy on Test set -> 0.18\n",
      "SVM Recall on Test set -> 0.1280701754385965\n"
     ]
    },
    {
     "name": "stderr",
     "output_type": "stream",
     "text": [
      "/opt/homebrew/anaconda3/lib/python3.12/site-packages/sklearn/linear_model/_logistic.py:469: ConvergenceWarning: lbfgs failed to converge (status=1):\n",
      "STOP: TOTAL NO. of ITERATIONS REACHED LIMIT.\n",
      "\n",
      "Increase the number of iterations (max_iter) or scale the data as shown in:\n",
      "    https://scikit-learn.org/stable/modules/preprocessing.html\n",
      "Please also refer to the documentation for alternative solver options:\n",
      "    https://scikit-learn.org/stable/modules/linear_model.html#logistic-regression\n",
      "  n_iter_i = _check_optimize_result(\n",
      "/opt/homebrew/anaconda3/lib/python3.12/site-packages/sklearn/metrics/_classification.py:1531: UndefinedMetricWarning: Recall is ill-defined and being set to 0.0 in labels with no true samples. Use `zero_division` parameter to control this behavior.\n",
      "  _warn_prf(average, modifier, f\"{metric.capitalize()} is\", len(result))\n",
      "/opt/homebrew/anaconda3/lib/python3.12/site-packages/sklearn/ensemble/_weight_boosting.py:527: FutureWarning: The SAMME.R algorithm (the default) is deprecated and will be removed in 1.6. Use the SAMME algorithm to circumvent this warning.\n",
      "  warnings.warn(\n",
      "/opt/homebrew/anaconda3/lib/python3.12/site-packages/sklearn/metrics/_classification.py:1531: UndefinedMetricWarning: Recall is ill-defined and being set to 0.0 in labels with no true samples. Use `zero_division` parameter to control this behavior.\n",
      "  _warn_prf(average, modifier, f\"{metric.capitalize()} is\", len(result))\n",
      "/opt/homebrew/anaconda3/lib/python3.12/site-packages/sklearn/metrics/_classification.py:1531: UndefinedMetricWarning: Recall is ill-defined and being set to 0.0 in labels with no true samples. Use `zero_division` parameter to control this behavior.\n",
      "  _warn_prf(average, modifier, f\"{metric.capitalize()} is\", len(result))\n"
     ]
    },
    {
     "name": "stdout",
     "output_type": "stream",
     "text": [
      "LR Accuracy on Test set -> 0.18\n",
      "LR Recall on Test set -> 0.13508771929824562\n",
      "AdaBoost Accuracy on Test set -> 0.04\n",
      "AdaBoost Recall on Test set -> 0.06\n",
      "XGBoost Accuracy on Test set -> 0.14\n",
      "XGBoost Recall on Test set -> 0.08666666666666666\n"
     ]
    },
    {
     "name": "stderr",
     "output_type": "stream",
     "text": [
      "/opt/homebrew/anaconda3/lib/python3.12/site-packages/sklearn/metrics/_classification.py:1531: UndefinedMetricWarning: Recall is ill-defined and being set to 0.0 in labels with no true samples. Use `zero_division` parameter to control this behavior.\n",
      "  _warn_prf(average, modifier, f\"{metric.capitalize()} is\", len(result))\n",
      "/opt/homebrew/anaconda3/lib/python3.12/site-packages/sklearn/metrics/_classification.py:1531: UndefinedMetricWarning: Recall is ill-defined and being set to 0.0 in labels with no true samples. Use `zero_division` parameter to control this behavior.\n",
      "  _warn_prf(average, modifier, f\"{metric.capitalize()} is\", len(result))\n"
     ]
    },
    {
     "name": "stdout",
     "output_type": "stream",
     "text": [
      "RandomForest Accuracy on Test set -> 0.22\n",
      "RandomForest Recall on Test set -> 0.16315789473684209\n",
      "DecisionTree Accuracy on Test set -> 0.14\n",
      "DecisionTree Recall on Test set -> 0.12833333333333333\n",
      "\n",
      "\n",
      "* * * * EVALUATION USING STM_LOW_RSW AS PREPROCESSING FUNCTION * * * *\n",
      "Length of the longest sample is: 1731\n",
      "\n",
      "\n",
      "***** FINISHED PROCESSING AND ADAPTING THE TRAINING SET, THE SIMULATION BEGINS *******\n",
      "Sample considered is:  tf.Tensor([[b': : I have 19 (2 MB worth!) uuencode\\'d GIF images contain charts outlining\\n: : one of the many alternative Space Station designs being considered in\\n: : Crystal City.  [...]\\n\\n: I just posted the GIF files out for anonymous FTP on server ics.uci.edu.\\n: You can retrieve them from:\\n:   ics.uci.edu:incoming/geode01.gif\\n:   ics.uci.edu:incoming/geode02.gif\\n:   ics.uci.edu:incoming/geode03.gif\\n:   ics.uci.edu:incoming/geode04.gif\\n:   ics.uci.edu:incoming/geode05.gif\\n:   ics.uci.edu:incoming/geode06.gif\\n:   ics.uci.edu:incoming/geode07.gif\\n:   ics.uci.edu:incoming/geode08.gif\\n:   ics.uci.edu:incoming/geode09.gif\\n:   ics.uci.edu:incoming/geode10.gif\\n:   ics.uci.edu:incoming/geode11.gif\\n:   ics.uci.edu:incoming/geode12.gif\\n:   ics.uci.edu:incoming/geode13.gif\\n:   ics.uci.edu:incoming/geode14.gif\\n:   ics.uci.edu:incoming/geode15.gif\\n:   ics.uci.edu:incoming/geode16.gif\\n:   ics.uci.edu:incoming/geode17.gif\\n:   ics.uci.edu:incoming/geodeA.gif\\n:   ics.uci.edu:incoming/geodeB.gif\\n\\n: The last two are scanned color photos; the others are scanned briefing\\n: charts.\\n\\n: These will be deleted by the ics.uci.edu system manager in a few days,\\n: so now\\'s the time to grab them if you\\'re interested.  Sorry it took\\n: me so long to get these out, but I was trying for the Ames server,\\n: but it\\'s out of space.\\n\\nBut now I need to clarify the situation.  The \"/incoming\" directory on\\nics.uci.edu does NOT allow you to do an \"ls\" command.  The files are\\nthere (I just checked on 04/28/93 at 9:35 CDT), and you can \"get\" them\\n(don\\'t forget the \"binary\" mode!), but you can\\'t \"ls\" in the\\n\"/incoming\" directory.\\n\\nA further update: Mark\\'s design made the cover of Space News this week\\nas one of the design alternatives which was rejected.  But he\\'s still\\nin there plugging.  I wish him luck -- using ET\\'s as the basis of a\\nSpace Station has been a good idea for a long time.\\n\\nMay the best design win.\\n\\n-- Ken Jenks, NASA/JSC/GM2, Space Shuttle Program Office\\n      kjenks@gothamcity.jsc.nasa.gov  (713) 483-4368']], shape=(1, 1), dtype=string)\n",
      "Preprocessed:  tf.Tensor([[b'h v e 1 9 2 b w r h u u e n c e g f g e c n n c h r u l n n g n e f h e n l e r n v e p c e n e g n b e n g c n e r e n c r l c j u p e h e g f f l e u f r n n u f p n e r v e r c u c e u u c n r e r e v e h e f r c u c e u n c n g g e e 0 1 g f c u c e u n c n g g e e 0 2 g f c u c e u n c n g g e e 0 3 g f c u c e u n c n g g e e 0 4 g f c u c e u n c n g g e e 0 5 g f c u c e u n c n g g e e 0 6 g f c u c e u n c n g g e e 0 7 g f c u c e u n c n g g e e 0 8 g f c u c e u n c n g g e e 0 9 g f c u c e u n c n g g e e 1 0 g f c u c e u n c n g g e e 1 1 g f c u c e u n c n g g e e 1 2 g f c u c e u n c n g g e e 1 3 g f c u c e u n c n g g e e 1 4 g f c u c e u n c n g g e e 1 5 g f c u c e u n c n g g e e 1 6 g f c u c e u n c n g g e e 1 7 g f c u c e u n c n g g e e g f c u c e u n c n g g e e b g f h e l w r e c n n e c l r p h h e h e r r e c n n e b r e f n g c h r h e e w l l b e e l e e b h e c u c e u e n g e r n f e w n w h e e g r b h e f u r e n e r e e r r k e l n g g e h e e u b u w r n g f r h e e e r v e r b u u f p c e b u n w n e e c l r f h e u n h e n c n g r e c r n c u c e u e n l l w u n l c n h e f l e r e h e r e j u c h e c k e n 0 4 2 8 9 3 9 3 5 c n u c n g e h e n f r g e h e b n r e b u u c n l n h e n c n g r e c r f u r h e r u p e r k e g n e h e c v e r f p c e n e w h w e e k n e f h e e g n l e r n v e w h c h w r e j e c e b u h e l l n h e r e p l u g g n g w h h l u c k u n g e h e b f p c e n h b e e n g e f r l n g e h e b e e g n w n k e n j e n k n j c g 2 p c e h u l e p r g r f f c e k j e n k g h c j c n g v 7 1 3 4 8 3 4 3 6 8']], shape=(1, 1), dtype=string)\n"
     ]
    },
    {
     "name": "stderr",
     "output_type": "stream",
     "text": [
      "2025-05-05 19:21:00.483808: I tensorflow/core/framework/local_rendezvous.cc:407] Local rendezvous is aborting with status: OUT_OF_RANGE: End of sequence\n",
      "/opt/homebrew/anaconda3/lib/python3.12/site-packages/sklearn/metrics/_classification.py:1531: UndefinedMetricWarning: Recall is ill-defined and being set to 0.0 in labels with no true samples. Use `zero_division` parameter to control this behavior.\n",
      "  _warn_prf(average, modifier, f\"{metric.capitalize()} is\", len(result))\n",
      "/opt/homebrew/anaconda3/lib/python3.12/site-packages/sklearn/metrics/_classification.py:1531: UndefinedMetricWarning: Recall is ill-defined and being set to 0.0 in labels with no true samples. Use `zero_division` parameter to control this behavior.\n",
      "  _warn_prf(average, modifier, f\"{metric.capitalize()} is\", len(result))\n"
     ]
    },
    {
     "name": "stdout",
     "output_type": "stream",
     "text": [
      "NB Accuracy on Test set -> 0.18\n",
      "NB Recall on Test set -> 0.15499999999999997\n",
      "SVM Accuracy on Test set -> 0.18\n",
      "SVM Recall on Test set -> 0.1280701754385965\n"
     ]
    },
    {
     "name": "stderr",
     "output_type": "stream",
     "text": [
      "/opt/homebrew/anaconda3/lib/python3.12/site-packages/sklearn/linear_model/_logistic.py:469: ConvergenceWarning: lbfgs failed to converge (status=1):\n",
      "STOP: TOTAL NO. of ITERATIONS REACHED LIMIT.\n",
      "\n",
      "Increase the number of iterations (max_iter) or scale the data as shown in:\n",
      "    https://scikit-learn.org/stable/modules/preprocessing.html\n",
      "Please also refer to the documentation for alternative solver options:\n",
      "    https://scikit-learn.org/stable/modules/linear_model.html#logistic-regression\n",
      "  n_iter_i = _check_optimize_result(\n",
      "/opt/homebrew/anaconda3/lib/python3.12/site-packages/sklearn/metrics/_classification.py:1531: UndefinedMetricWarning: Recall is ill-defined and being set to 0.0 in labels with no true samples. Use `zero_division` parameter to control this behavior.\n",
      "  _warn_prf(average, modifier, f\"{metric.capitalize()} is\", len(result))\n",
      "/opt/homebrew/anaconda3/lib/python3.12/site-packages/sklearn/ensemble/_weight_boosting.py:527: FutureWarning: The SAMME.R algorithm (the default) is deprecated and will be removed in 1.6. Use the SAMME algorithm to circumvent this warning.\n",
      "  warnings.warn(\n",
      "/opt/homebrew/anaconda3/lib/python3.12/site-packages/sklearn/metrics/_classification.py:1531: UndefinedMetricWarning: Recall is ill-defined and being set to 0.0 in labels with no true samples. Use `zero_division` parameter to control this behavior.\n",
      "  _warn_prf(average, modifier, f\"{metric.capitalize()} is\", len(result))\n",
      "/opt/homebrew/anaconda3/lib/python3.12/site-packages/sklearn/metrics/_classification.py:1531: UndefinedMetricWarning: Recall is ill-defined and being set to 0.0 in labels with no true samples. Use `zero_division` parameter to control this behavior.\n",
      "  _warn_prf(average, modifier, f\"{metric.capitalize()} is\", len(result))\n"
     ]
    },
    {
     "name": "stdout",
     "output_type": "stream",
     "text": [
      "LR Accuracy on Test set -> 0.18\n",
      "LR Recall on Test set -> 0.13508771929824562\n",
      "AdaBoost Accuracy on Test set -> 0.04\n",
      "AdaBoost Recall on Test set -> 0.06\n",
      "XGBoost Accuracy on Test set -> 0.14\n",
      "XGBoost Recall on Test set -> 0.08666666666666666\n"
     ]
    },
    {
     "name": "stderr",
     "output_type": "stream",
     "text": [
      "/opt/homebrew/anaconda3/lib/python3.12/site-packages/sklearn/metrics/_classification.py:1531: UndefinedMetricWarning: Recall is ill-defined and being set to 0.0 in labels with no true samples. Use `zero_division` parameter to control this behavior.\n",
      "  _warn_prf(average, modifier, f\"{metric.capitalize()} is\", len(result))\n",
      "/opt/homebrew/anaconda3/lib/python3.12/site-packages/sklearn/metrics/_classification.py:1531: UndefinedMetricWarning: Recall is ill-defined and being set to 0.0 in labels with no true samples. Use `zero_division` parameter to control this behavior.\n",
      "  _warn_prf(average, modifier, f\"{metric.capitalize()} is\", len(result))\n"
     ]
    },
    {
     "name": "stdout",
     "output_type": "stream",
     "text": [
      "RandomForest Accuracy on Test set -> 0.22\n",
      "RandomForest Recall on Test set -> 0.16315789473684209\n",
      "DecisionTree Accuracy on Test set -> 0.14\n",
      "DecisionTree Recall on Test set -> 0.12833333333333333\n",
      "\n",
      "\n",
      "* * * * EVALUATION USING STM_RSW_LOW AS PREPROCESSING FUNCTION * * * *\n",
      "Length of the longest sample is: 1731\n",
      "\n",
      "\n",
      "***** FINISHED PROCESSING AND ADAPTING THE TRAINING SET, THE SIMULATION BEGINS *******\n",
      "Sample considered is:  tf.Tensor([[b': : I have 19 (2 MB worth!) uuencode\\'d GIF images contain charts outlining\\n: : one of the many alternative Space Station designs being considered in\\n: : Crystal City.  [...]\\n\\n: I just posted the GIF files out for anonymous FTP on server ics.uci.edu.\\n: You can retrieve them from:\\n:   ics.uci.edu:incoming/geode01.gif\\n:   ics.uci.edu:incoming/geode02.gif\\n:   ics.uci.edu:incoming/geode03.gif\\n:   ics.uci.edu:incoming/geode04.gif\\n:   ics.uci.edu:incoming/geode05.gif\\n:   ics.uci.edu:incoming/geode06.gif\\n:   ics.uci.edu:incoming/geode07.gif\\n:   ics.uci.edu:incoming/geode08.gif\\n:   ics.uci.edu:incoming/geode09.gif\\n:   ics.uci.edu:incoming/geode10.gif\\n:   ics.uci.edu:incoming/geode11.gif\\n:   ics.uci.edu:incoming/geode12.gif\\n:   ics.uci.edu:incoming/geode13.gif\\n:   ics.uci.edu:incoming/geode14.gif\\n:   ics.uci.edu:incoming/geode15.gif\\n:   ics.uci.edu:incoming/geode16.gif\\n:   ics.uci.edu:incoming/geode17.gif\\n:   ics.uci.edu:incoming/geodeA.gif\\n:   ics.uci.edu:incoming/geodeB.gif\\n\\n: The last two are scanned color photos; the others are scanned briefing\\n: charts.\\n\\n: These will be deleted by the ics.uci.edu system manager in a few days,\\n: so now\\'s the time to grab them if you\\'re interested.  Sorry it took\\n: me so long to get these out, but I was trying for the Ames server,\\n: but it\\'s out of space.\\n\\nBut now I need to clarify the situation.  The \"/incoming\" directory on\\nics.uci.edu does NOT allow you to do an \"ls\" command.  The files are\\nthere (I just checked on 04/28/93 at 9:35 CDT), and you can \"get\" them\\n(don\\'t forget the \"binary\" mode!), but you can\\'t \"ls\" in the\\n\"/incoming\" directory.\\n\\nA further update: Mark\\'s design made the cover of Space News this week\\nas one of the design alternatives which was rejected.  But he\\'s still\\nin there plugging.  I wish him luck -- using ET\\'s as the basis of a\\nSpace Station has been a good idea for a long time.\\n\\nMay the best design win.\\n\\n-- Ken Jenks, NASA/JSC/GM2, Space Shuttle Program Office\\n      kjenks@gothamcity.jsc.nasa.gov  (713) 483-4368']], shape=(1, 1), dtype=string)\n",
      "Preprocessed:  tf.Tensor([[b'   h       v       e       1       9       2       b       w       r       h       u       u       e       n       c       e       g       f       g       e       c       n       n       c       h       r       u       l       n       n       g       n       e       f       h       e       n       l       e       r       n       v       e       p       c       e       n       e       g       n       b       e       n       g       c       n       e       r       e       n       c       r       l       c       j       u       p       e       h       e       g       f       f       l       e       u       f       r       n       n       u       f       p       n       e       r       v       e       r       c       u       c       e       u       u       c       n       r       e       r       e       v       e       h       e       f       r       c       u       c       e       u       n       c       n       g       g       e       e       0       1       g       f       c       u       c       e       u       n       c       n       g       g       e       e       0       2       g       f       c       u       c       e       u       n       c       n       g       g       e       e       0       3       g       f       c       u       c       e       u       n       c       n       g       g       e       e       0       4       g       f       c       u       c       e       u       n       c       n       g       g       e       e       0       5       g       f       c       u       c       e       u       n       c       n       g       g       e       e       0       6       g       f       c       u       c       e       u       n       c       n       g       g       e       e       0       7       g       f       c       u       c       e       u       n       c       n       g       g       e       e       0       8       g       f       c       u       c       e       u       n       c       n       g       g       e       e       0       9       g       f       c       u       c       e       u       n       c       n       g       g       e       e       1       0       g       f       c       u       c       e       u       n       c       n       g       g       e       e       1       1       g       f       c       u       c       e       u       n       c       n       g       g       e       e       1       2       g       f       c       u       c       e       u       n       c       n       g       g       e       e       1       3       g       f       c       u       c       e       u       n       c       n       g       g       e       e       1       4       g       f       c       u       c       e       u       n       c       n       g       g       e       e       1       5       g       f       c       u       c       e       u       n       c       n       g       g       e       e       1       6       g       f       c       u       c       e       u       n       c       n       g       g       e       e       1       7       g       f       c       u       c       e       u       n       c       n       g       g       e       e       g       f       c       u       c       e       u       n       c       n       g       g       e       e       b       g       f       h       e       l       w       r       e       c       n       n       e       c       l       r       p       h       h       e       h       e       r       r       e       c       n       n       e       b       r       e       f       n       g       c       h       r       h       e       e       w       l       l       b       e       e       l       e       e       b       h       e       c       u       c       e       u       e       n       g       e       r       n       f       e       w       n       w       h       e       e       g       r       b       h       e       f       u       r       e       n       e       r       e       e       r       r       k       e       l       n       g       g       e       h       e       e       u       b       u       w       r       n       g       f       r       h       e       e       e       r       v       e       r       b       u       u       f       p       c       e       b       u       n       w       n       e       e       c       l       r       f       h       e       u       n       h       e       n       c       n       g       r       e       c       r       n       c       u       c       e       u       e       n       l       l       w       u       n       l       c       n       h       e       f       l       e       r       e       h       e       r       e       j       u       c       h       e       c       k       e       n       0       4       2       8       9       3       9       3       5       c       n       u       c       n       g       e       h       e       n       f       r       g       e       h       e       b       n       r       e       b       u       u       c       n       l       n       h       e       n       c       n       g       r       e       c       r       f       u       r       h       e       r       u       p       e       r       k       e       g       n       e       h       e       c       v       e       r       f       p       c       e       n       e       w       h       w       e       e       k       n       e       f       h       e       e       g       n       l       e       r       n       v       e       w       h       c       h       w       r       e       j       e       c       e       b       u       h       e       l       l       n       h       e       r       e       p       l       u       g       g       n       g       w       h       h       l       u       c       k       u       n       g       e       h       e       b       f       p       c       e       n       h       b       e       e       n       g       e       f       r       l       n       g       e       h       e       b       e       e       g       n       w       n       k       e       n       j       e       n       k       n       j       c       g       2       p       c       e       h       u       l       e       p       r       g       r       f       f       c       e       k       j       e       n       k       g       h       c       j       c       n       g       v       7       1       3       4       8       3       4       3       6       8   ']], shape=(1, 1), dtype=string)\n"
     ]
    },
    {
     "name": "stderr",
     "output_type": "stream",
     "text": [
      "/opt/homebrew/anaconda3/lib/python3.12/site-packages/sklearn/metrics/_classification.py:1531: UndefinedMetricWarning: Recall is ill-defined and being set to 0.0 in labels with no true samples. Use `zero_division` parameter to control this behavior.\n",
      "  _warn_prf(average, modifier, f\"{metric.capitalize()} is\", len(result))\n",
      "/opt/homebrew/anaconda3/lib/python3.12/site-packages/sklearn/metrics/_classification.py:1531: UndefinedMetricWarning: Recall is ill-defined and being set to 0.0 in labels with no true samples. Use `zero_division` parameter to control this behavior.\n",
      "  _warn_prf(average, modifier, f\"{metric.capitalize()} is\", len(result))\n"
     ]
    },
    {
     "name": "stdout",
     "output_type": "stream",
     "text": [
      "NB Accuracy on Test set -> 0.18\n",
      "NB Recall on Test set -> 0.15499999999999997\n",
      "SVM Accuracy on Test set -> 0.18\n",
      "SVM Recall on Test set -> 0.1280701754385965\n"
     ]
    },
    {
     "name": "stderr",
     "output_type": "stream",
     "text": [
      "/opt/homebrew/anaconda3/lib/python3.12/site-packages/sklearn/linear_model/_logistic.py:469: ConvergenceWarning: lbfgs failed to converge (status=1):\n",
      "STOP: TOTAL NO. of ITERATIONS REACHED LIMIT.\n",
      "\n",
      "Increase the number of iterations (max_iter) or scale the data as shown in:\n",
      "    https://scikit-learn.org/stable/modules/preprocessing.html\n",
      "Please also refer to the documentation for alternative solver options:\n",
      "    https://scikit-learn.org/stable/modules/linear_model.html#logistic-regression\n",
      "  n_iter_i = _check_optimize_result(\n",
      "/opt/homebrew/anaconda3/lib/python3.12/site-packages/sklearn/metrics/_classification.py:1531: UndefinedMetricWarning: Recall is ill-defined and being set to 0.0 in labels with no true samples. Use `zero_division` parameter to control this behavior.\n",
      "  _warn_prf(average, modifier, f\"{metric.capitalize()} is\", len(result))\n",
      "/opt/homebrew/anaconda3/lib/python3.12/site-packages/sklearn/ensemble/_weight_boosting.py:527: FutureWarning: The SAMME.R algorithm (the default) is deprecated and will be removed in 1.6. Use the SAMME algorithm to circumvent this warning.\n",
      "  warnings.warn(\n",
      "/opt/homebrew/anaconda3/lib/python3.12/site-packages/sklearn/metrics/_classification.py:1531: UndefinedMetricWarning: Recall is ill-defined and being set to 0.0 in labels with no true samples. Use `zero_division` parameter to control this behavior.\n",
      "  _warn_prf(average, modifier, f\"{metric.capitalize()} is\", len(result))\n",
      "/opt/homebrew/anaconda3/lib/python3.12/site-packages/sklearn/metrics/_classification.py:1531: UndefinedMetricWarning: Recall is ill-defined and being set to 0.0 in labels with no true samples. Use `zero_division` parameter to control this behavior.\n",
      "  _warn_prf(average, modifier, f\"{metric.capitalize()} is\", len(result))\n"
     ]
    },
    {
     "name": "stdout",
     "output_type": "stream",
     "text": [
      "LR Accuracy on Test set -> 0.18\n",
      "LR Recall on Test set -> 0.13508771929824562\n",
      "AdaBoost Accuracy on Test set -> 0.04\n",
      "AdaBoost Recall on Test set -> 0.06\n",
      "XGBoost Accuracy on Test set -> 0.14\n",
      "XGBoost Recall on Test set -> 0.08666666666666666\n"
     ]
    },
    {
     "name": "stderr",
     "output_type": "stream",
     "text": [
      "/opt/homebrew/anaconda3/lib/python3.12/site-packages/sklearn/metrics/_classification.py:1531: UndefinedMetricWarning: Recall is ill-defined and being set to 0.0 in labels with no true samples. Use `zero_division` parameter to control this behavior.\n",
      "  _warn_prf(average, modifier, f\"{metric.capitalize()} is\", len(result))\n",
      "/opt/homebrew/anaconda3/lib/python3.12/site-packages/sklearn/metrics/_classification.py:1531: UndefinedMetricWarning: Recall is ill-defined and being set to 0.0 in labels with no true samples. Use `zero_division` parameter to control this behavior.\n",
      "  _warn_prf(average, modifier, f\"{metric.capitalize()} is\", len(result))\n"
     ]
    },
    {
     "name": "stdout",
     "output_type": "stream",
     "text": [
      "RandomForest Accuracy on Test set -> 0.22\n",
      "RandomForest Recall on Test set -> 0.16315789473684209\n",
      "DecisionTree Accuracy on Test set -> 0.14\n",
      "DecisionTree Recall on Test set -> 0.12833333333333333\n",
      "\n",
      "\n",
      "* * * * EVALUATION USING RSW_LOW_STM AS PREPROCESSING FUNCTION * * * *\n",
      "Length of the longest sample is: 1982\n",
      "\n",
      "\n",
      "***** FINISHED PROCESSING AND ADAPTING THE TRAINING SET, THE SIMULATION BEGINS *******\n",
      "Sample considered is:  tf.Tensor([[b': : I have 19 (2 MB worth!) uuencode\\'d GIF images contain charts outlining\\n: : one of the many alternative Space Station designs being considered in\\n: : Crystal City.  [...]\\n\\n: I just posted the GIF files out for anonymous FTP on server ics.uci.edu.\\n: You can retrieve them from:\\n:   ics.uci.edu:incoming/geode01.gif\\n:   ics.uci.edu:incoming/geode02.gif\\n:   ics.uci.edu:incoming/geode03.gif\\n:   ics.uci.edu:incoming/geode04.gif\\n:   ics.uci.edu:incoming/geode05.gif\\n:   ics.uci.edu:incoming/geode06.gif\\n:   ics.uci.edu:incoming/geode07.gif\\n:   ics.uci.edu:incoming/geode08.gif\\n:   ics.uci.edu:incoming/geode09.gif\\n:   ics.uci.edu:incoming/geode10.gif\\n:   ics.uci.edu:incoming/geode11.gif\\n:   ics.uci.edu:incoming/geode12.gif\\n:   ics.uci.edu:incoming/geode13.gif\\n:   ics.uci.edu:incoming/geode14.gif\\n:   ics.uci.edu:incoming/geode15.gif\\n:   ics.uci.edu:incoming/geode16.gif\\n:   ics.uci.edu:incoming/geode17.gif\\n:   ics.uci.edu:incoming/geodeA.gif\\n:   ics.uci.edu:incoming/geodeB.gif\\n\\n: The last two are scanned color photos; the others are scanned briefing\\n: charts.\\n\\n: These will be deleted by the ics.uci.edu system manager in a few days,\\n: so now\\'s the time to grab them if you\\'re interested.  Sorry it took\\n: me so long to get these out, but I was trying for the Ames server,\\n: but it\\'s out of space.\\n\\nBut now I need to clarify the situation.  The \"/incoming\" directory on\\nics.uci.edu does NOT allow you to do an \"ls\" command.  The files are\\nthere (I just checked on 04/28/93 at 9:35 CDT), and you can \"get\" them\\n(don\\'t forget the \"binary\" mode!), but you can\\'t \"ls\" in the\\n\"/incoming\" directory.\\n\\nA further update: Mark\\'s design made the cover of Space News this week\\nas one of the design alternatives which was rejected.  But he\\'s still\\nin there plugging.  I wish him luck -- using ET\\'s as the basis of a\\nSpace Station has been a good idea for a long time.\\n\\nMay the best design win.\\n\\n-- Ken Jenks, NASA/JSC/GM2, Space Shuttle Program Office\\n      kjenks@gothamcity.jsc.nasa.gov  (713) 483-4368']], shape=(1, 1), dtype=string)\n",
      "Preprocessed:  tf.Tensor([[b'i h v e 1 9 2 m b w r h u u e n c e g i f g e c n n c h r u l n n g n e f h e n l e r n v e s p c e s n e g n b e n g c n e r e n c r l c i j u p e h e g i f f l e u f r n n u f t p n e r v e r c u c e u y u c n r e r e v e h e f r c u c e u n c n g g e e 0 1 g f c u c e u n c n g g e e 0 2 g f c u c e u n c n g g e e 0 3 g f c u c e u n c n g g e e 0 4 g f c u c e u n c n g g e e 0 5 g f c u c e u n c n g g e e 0 6 g f c u c e u n c n g g e e 0 7 g f c u c e u n c n g g e e 0 8 g f c u c e u n c n g g e e 0 9 g f c u c e u n c n g g e e 1 0 g f c u c e u n c n g g e e 1 1 g f c u c e u n c n g g e e 1 2 g f c u c e u n c n g g e e 1 3 g f c u c e u n c n g g e e 1 4 g f c u c e u n c n g g e e 1 5 g f c u c e u n c n g g e e 1 6 g f c u c e u n c n g g e e 1 7 g f c u c e u n c n g g e e a g f c u c e u n c n g g e e b g f t h e l w r e c n n e c l r p h h e h e r r e c n n e b r e f n g c h r t h e e w l l b e e l e e b h e c u c e u e n g e r n f e w n w h e e g r b h e f u r e n e r e e s r r k e l n g g e h e e u b u i w r n g f r h e a e e r v e r b u u f p c e b u n w i n e e c l r f h e u n t h e n c n g r e c r n c u c e u e n o t l l w u n l c n t h e f l e r e h e r e i j u c h e c k e n 0 4 2 8 9 3 9 3 5 c d t n u c n g e h e n f r g e h e b n r e b u u c n l n h e n c n g r e c r a f u r h e r u p e m r k e g n e h e c v e r f s p c e n e w h w e e k n e f h e e g n l e r n v e w h c h w r e j e c e b u h e l l n h e r e p l u g g n g i w h h l u c k u n g e t h e b f s p c e s n h b e e n g e f r l n g e m h e b e e g n w n k e n j e n k n a s a j s c g m 2 s p c e s h u l e p r g r o f f c e k j e n k g h c j c n g v 7 1 3 4 8 3 4 3 6 8']], shape=(1, 1), dtype=string)\n"
     ]
    },
    {
     "name": "stderr",
     "output_type": "stream",
     "text": [
      "/opt/homebrew/anaconda3/lib/python3.12/site-packages/sklearn/metrics/_classification.py:1531: UndefinedMetricWarning: Recall is ill-defined and being set to 0.0 in labels with no true samples. Use `zero_division` parameter to control this behavior.\n",
      "  _warn_prf(average, modifier, f\"{metric.capitalize()} is\", len(result))\n",
      "/opt/homebrew/anaconda3/lib/python3.12/site-packages/sklearn/metrics/_classification.py:1531: UndefinedMetricWarning: Recall is ill-defined and being set to 0.0 in labels with no true samples. Use `zero_division` parameter to control this behavior.\n",
      "  _warn_prf(average, modifier, f\"{metric.capitalize()} is\", len(result))\n"
     ]
    },
    {
     "name": "stdout",
     "output_type": "stream",
     "text": [
      "NB Accuracy on Test set -> 0.14\n",
      "NB Recall on Test set -> 0.095\n",
      "SVM Accuracy on Test set -> 0.1\n",
      "SVM Recall on Test set -> 0.09649122807017543\n"
     ]
    },
    {
     "name": "stderr",
     "output_type": "stream",
     "text": [
      "/opt/homebrew/anaconda3/lib/python3.12/site-packages/sklearn/linear_model/_logistic.py:469: ConvergenceWarning: lbfgs failed to converge (status=1):\n",
      "STOP: TOTAL NO. of ITERATIONS REACHED LIMIT.\n",
      "\n",
      "Increase the number of iterations (max_iter) or scale the data as shown in:\n",
      "    https://scikit-learn.org/stable/modules/preprocessing.html\n",
      "Please also refer to the documentation for alternative solver options:\n",
      "    https://scikit-learn.org/stable/modules/linear_model.html#logistic-regression\n",
      "  n_iter_i = _check_optimize_result(\n",
      "/opt/homebrew/anaconda3/lib/python3.12/site-packages/sklearn/metrics/_classification.py:1531: UndefinedMetricWarning: Recall is ill-defined and being set to 0.0 in labels with no true samples. Use `zero_division` parameter to control this behavior.\n",
      "  _warn_prf(average, modifier, f\"{metric.capitalize()} is\", len(result))\n",
      "/opt/homebrew/anaconda3/lib/python3.12/site-packages/sklearn/ensemble/_weight_boosting.py:527: FutureWarning: The SAMME.R algorithm (the default) is deprecated and will be removed in 1.6. Use the SAMME algorithm to circumvent this warning.\n",
      "  warnings.warn(\n",
      "/opt/homebrew/anaconda3/lib/python3.12/site-packages/sklearn/metrics/_classification.py:1531: UndefinedMetricWarning: Recall is ill-defined and being set to 0.0 in labels with no true samples. Use `zero_division` parameter to control this behavior.\n",
      "  _warn_prf(average, modifier, f\"{metric.capitalize()} is\", len(result))\n"
     ]
    },
    {
     "name": "stdout",
     "output_type": "stream",
     "text": [
      "LR Accuracy on Test set -> 0.22\n",
      "LR Recall on Test set -> 0.19912280701754384\n",
      "AdaBoost Accuracy on Test set -> 0.1\n",
      "AdaBoost Recall on Test set -> 0.0807017543859649\n"
     ]
    },
    {
     "name": "stderr",
     "output_type": "stream",
     "text": [
      "/opt/homebrew/anaconda3/lib/python3.12/site-packages/sklearn/metrics/_classification.py:1531: UndefinedMetricWarning: Recall is ill-defined and being set to 0.0 in labels with no true samples. Use `zero_division` parameter to control this behavior.\n",
      "  _warn_prf(average, modifier, f\"{metric.capitalize()} is\", len(result))\n",
      "/opt/homebrew/anaconda3/lib/python3.12/site-packages/sklearn/metrics/_classification.py:1531: UndefinedMetricWarning: Recall is ill-defined and being set to 0.0 in labels with no true samples. Use `zero_division` parameter to control this behavior.\n",
      "  _warn_prf(average, modifier, f\"{metric.capitalize()} is\", len(result))\n",
      "/opt/homebrew/anaconda3/lib/python3.12/site-packages/sklearn/metrics/_classification.py:1531: UndefinedMetricWarning: Recall is ill-defined and being set to 0.0 in labels with no true samples. Use `zero_division` parameter to control this behavior.\n",
      "  _warn_prf(average, modifier, f\"{metric.capitalize()} is\", len(result))\n"
     ]
    },
    {
     "name": "stdout",
     "output_type": "stream",
     "text": [
      "XGBoost Accuracy on Test set -> 0.12\n",
      "XGBoost Recall on Test set -> 0.08684210526315789\n",
      "RandomForest Accuracy on Test set -> 0.22\n",
      "RandomForest Recall on Test set -> 0.1807017543859649\n",
      "DecisionTree Accuracy on Test set -> 0.14\n",
      "DecisionTree Recall on Test set -> 0.07999999999999999\n",
      "\n",
      "\n",
      "* * * * EVALUATION USING RSW_STM_LOW AS PREPROCESSING FUNCTION * * * *\n",
      "Length of the longest sample is: 1982\n",
      "\n",
      "\n",
      "***** FINISHED PROCESSING AND ADAPTING THE TRAINING SET, THE SIMULATION BEGINS *******\n",
      "Sample considered is:  tf.Tensor([[b': : I have 19 (2 MB worth!) uuencode\\'d GIF images contain charts outlining\\n: : one of the many alternative Space Station designs being considered in\\n: : Crystal City.  [...]\\n\\n: I just posted the GIF files out for anonymous FTP on server ics.uci.edu.\\n: You can retrieve them from:\\n:   ics.uci.edu:incoming/geode01.gif\\n:   ics.uci.edu:incoming/geode02.gif\\n:   ics.uci.edu:incoming/geode03.gif\\n:   ics.uci.edu:incoming/geode04.gif\\n:   ics.uci.edu:incoming/geode05.gif\\n:   ics.uci.edu:incoming/geode06.gif\\n:   ics.uci.edu:incoming/geode07.gif\\n:   ics.uci.edu:incoming/geode08.gif\\n:   ics.uci.edu:incoming/geode09.gif\\n:   ics.uci.edu:incoming/geode10.gif\\n:   ics.uci.edu:incoming/geode11.gif\\n:   ics.uci.edu:incoming/geode12.gif\\n:   ics.uci.edu:incoming/geode13.gif\\n:   ics.uci.edu:incoming/geode14.gif\\n:   ics.uci.edu:incoming/geode15.gif\\n:   ics.uci.edu:incoming/geode16.gif\\n:   ics.uci.edu:incoming/geode17.gif\\n:   ics.uci.edu:incoming/geodeA.gif\\n:   ics.uci.edu:incoming/geodeB.gif\\n\\n: The last two are scanned color photos; the others are scanned briefing\\n: charts.\\n\\n: These will be deleted by the ics.uci.edu system manager in a few days,\\n: so now\\'s the time to grab them if you\\'re interested.  Sorry it took\\n: me so long to get these out, but I was trying for the Ames server,\\n: but it\\'s out of space.\\n\\nBut now I need to clarify the situation.  The \"/incoming\" directory on\\nics.uci.edu does NOT allow you to do an \"ls\" command.  The files are\\nthere (I just checked on 04/28/93 at 9:35 CDT), and you can \"get\" them\\n(don\\'t forget the \"binary\" mode!), but you can\\'t \"ls\" in the\\n\"/incoming\" directory.\\n\\nA further update: Mark\\'s design made the cover of Space News this week\\nas one of the design alternatives which was rejected.  But he\\'s still\\nin there plugging.  I wish him luck -- using ET\\'s as the basis of a\\nSpace Station has been a good idea for a long time.\\n\\nMay the best design win.\\n\\n-- Ken Jenks, NASA/JSC/GM2, Space Shuttle Program Office\\n      kjenks@gothamcity.jsc.nasa.gov  (713) 483-4368']], shape=(1, 1), dtype=string)\n",
      "Preprocessed:  tf.Tensor([[b'   i       h       v       e       1       9       2       m       b       w       r       h       u       u       e       n       c       e       g       i       f       g       e       c       n       n       c       h       r       u       l       n       n       g       n       e       f       h       e       n       l       e       r       n       v       e       s       p       c       e       s       n       e       g       n       b       e       n       g       c       n       e       r       e       n       c       r       l       c       i       j       u       p       e       h       e       g       i       f       f       l       e       u       f       r       n       n       u       f       t       p       n       e       r       v       e       r       c       u       c       e       u       y       u       c       n       r       e       r       e       v       e       h       e       f       r       c       u       c       e       u       n       c       n       g       g       e       e       0       1       g       f       c       u       c       e       u       n       c       n       g       g       e       e       0       2       g       f       c       u       c       e       u       n       c       n       g       g       e       e       0       3       g       f       c       u       c       e       u       n       c       n       g       g       e       e       0       4       g       f       c       u       c       e       u       n       c       n       g       g       e       e       0       5       g       f       c       u       c       e       u       n       c       n       g       g       e       e       0       6       g       f       c       u       c       e       u       n       c       n       g       g       e       e       0       7       g       f       c       u       c       e       u       n       c       n       g       g       e       e       0       8       g       f       c       u       c       e       u       n       c       n       g       g       e       e       0       9       g       f       c       u       c       e       u       n       c       n       g       g       e       e       1       0       g       f       c       u       c       e       u       n       c       n       g       g       e       e       1       1       g       f       c       u       c       e       u       n       c       n       g       g       e       e       1       2       g       f       c       u       c       e       u       n       c       n       g       g       e       e       1       3       g       f       c       u       c       e       u       n       c       n       g       g       e       e       1       4       g       f       c       u       c       e       u       n       c       n       g       g       e       e       1       5       g       f       c       u       c       e       u       n       c       n       g       g       e       e       1       6       g       f       c       u       c       e       u       n       c       n       g       g       e       e       1       7       g       f       c       u       c       e       u       n       c       n       g       g       e       e       a       g       f       c       u       c       e       u       n       c       n       g       g       e       e       b       g       f       t       h       e       l       w       r       e       c       n       n       e       c       l       r       p       h       h       e       h       e       r       r       e       c       n       n       e       b       r       e       f       n       g       c       h       r       t       h       e       e       w       l       l       b       e       e       l       e       e       b       h       e       c       u       c       e       u       e       n       g       e       r       n       f       e       w       n       w       h       e       e       g       r       b       h       e       f       u       r       e       n       e       r       e       e       s       r       r       k       e       l       n       g       g       e       h       e       e       u       b       u       i       w       r       n       g       f       r       h       e       a       e       e       r       v       e       r       b       u       u       f       p       c       e       b       u       n       w       i       n       e       e       c       l       r       f       h       e       u       n       t       h       e       n       c       n       g       r       e       c       r       n       c       u       c       e       u       e       n       o       t       l       l       w       u       n       l       c       n       t       h       e       f       l       e       r       e       h       e       r       e       i       j       u       c       h       e       c       k       e       n       0       4       2       8       9       3       9       3       5       c       d       t       n       u       c       n       g       e       h       e       n       f       r       g       e       h       e       b       n       r       e       b       u       u       c       n       l       n       h       e       n       c       n       g       r       e       c       r       a       f       u       r       h       e       r       u       p       e       m       r       k       e       g       n       e       h       e       c       v       e       r       f       s       p       c       e       n       e       w       h       w       e       e       k       n       e       f       h       e       e       g       n       l       e       r       n       v       e       w       h       c       h       w       r       e       j       e       c       e       b       u       h       e       l       l       n       h       e       r       e       p       l       u       g       g       n       g       i       w       h       h       l       u       c       k       u       n       g       e       t       h       e       b       f       s       p       c       e       s       n       h       b       e       e       n       g       e       f       r       l       n       g       e       m       h       e       b       e       e       g       n       w       n       k       e       n       j       e       n       k       n       a       s       a       j       s       c       g       m       2       s       p       c       e       s       h       u       l       e       p       r       g       r       o       f       f       c       e       k       j       e       n       k       g       h       c       j       c       n       g       v       7       1       3       4       8       3       4       3       6       8   ']], shape=(1, 1), dtype=string)\n"
     ]
    },
    {
     "name": "stderr",
     "output_type": "stream",
     "text": [
      "/opt/homebrew/anaconda3/lib/python3.12/site-packages/sklearn/metrics/_classification.py:1531: UndefinedMetricWarning: Recall is ill-defined and being set to 0.0 in labels with no true samples. Use `zero_division` parameter to control this behavior.\n",
      "  _warn_prf(average, modifier, f\"{metric.capitalize()} is\", len(result))\n",
      "/opt/homebrew/anaconda3/lib/python3.12/site-packages/sklearn/metrics/_classification.py:1531: UndefinedMetricWarning: Recall is ill-defined and being set to 0.0 in labels with no true samples. Use `zero_division` parameter to control this behavior.\n",
      "  _warn_prf(average, modifier, f\"{metric.capitalize()} is\", len(result))\n"
     ]
    },
    {
     "name": "stdout",
     "output_type": "stream",
     "text": [
      "NB Accuracy on Test set -> 0.14\n",
      "NB Recall on Test set -> 0.095\n",
      "SVM Accuracy on Test set -> 0.1\n",
      "SVM Recall on Test set -> 0.09649122807017543\n"
     ]
    },
    {
     "name": "stderr",
     "output_type": "stream",
     "text": [
      "/opt/homebrew/anaconda3/lib/python3.12/site-packages/sklearn/linear_model/_logistic.py:469: ConvergenceWarning: lbfgs failed to converge (status=1):\n",
      "STOP: TOTAL NO. of ITERATIONS REACHED LIMIT.\n",
      "\n",
      "Increase the number of iterations (max_iter) or scale the data as shown in:\n",
      "    https://scikit-learn.org/stable/modules/preprocessing.html\n",
      "Please also refer to the documentation for alternative solver options:\n",
      "    https://scikit-learn.org/stable/modules/linear_model.html#logistic-regression\n",
      "  n_iter_i = _check_optimize_result(\n",
      "/opt/homebrew/anaconda3/lib/python3.12/site-packages/sklearn/metrics/_classification.py:1531: UndefinedMetricWarning: Recall is ill-defined and being set to 0.0 in labels with no true samples. Use `zero_division` parameter to control this behavior.\n",
      "  _warn_prf(average, modifier, f\"{metric.capitalize()} is\", len(result))\n",
      "/opt/homebrew/anaconda3/lib/python3.12/site-packages/sklearn/ensemble/_weight_boosting.py:527: FutureWarning: The SAMME.R algorithm (the default) is deprecated and will be removed in 1.6. Use the SAMME algorithm to circumvent this warning.\n",
      "  warnings.warn(\n",
      "/opt/homebrew/anaconda3/lib/python3.12/site-packages/sklearn/metrics/_classification.py:1531: UndefinedMetricWarning: Recall is ill-defined and being set to 0.0 in labels with no true samples. Use `zero_division` parameter to control this behavior.\n",
      "  _warn_prf(average, modifier, f\"{metric.capitalize()} is\", len(result))\n",
      "/opt/homebrew/anaconda3/lib/python3.12/site-packages/sklearn/metrics/_classification.py:1531: UndefinedMetricWarning: Recall is ill-defined and being set to 0.0 in labels with no true samples. Use `zero_division` parameter to control this behavior.\n",
      "  _warn_prf(average, modifier, f\"{metric.capitalize()} is\", len(result))\n"
     ]
    },
    {
     "name": "stdout",
     "output_type": "stream",
     "text": [
      "LR Accuracy on Test set -> 0.22\n",
      "LR Recall on Test set -> 0.19912280701754384\n",
      "AdaBoost Accuracy on Test set -> 0.1\n",
      "AdaBoost Recall on Test set -> 0.0807017543859649\n",
      "XGBoost Accuracy on Test set -> 0.12\n",
      "XGBoost Recall on Test set -> 0.08684210526315789\n",
      "RandomForest Accuracy on Test set -> 0.22\n",
      "RandomForest Recall on Test set -> 0.1807017543859649\n",
      "DecisionTree Accuracy on Test set -> 0.14\n",
      "DecisionTree Recall on Test set -> 0.07999999999999999\n"
     ]
    },
    {
     "name": "stderr",
     "output_type": "stream",
     "text": [
      "/opt/homebrew/anaconda3/lib/python3.12/site-packages/sklearn/metrics/_classification.py:1531: UndefinedMetricWarning: Recall is ill-defined and being set to 0.0 in labels with no true samples. Use `zero_division` parameter to control this behavior.\n",
      "  _warn_prf(average, modifier, f\"{metric.capitalize()} is\", len(result))\n",
      "/opt/homebrew/anaconda3/lib/python3.12/site-packages/sklearn/metrics/_classification.py:1531: UndefinedMetricWarning: Recall is ill-defined and being set to 0.0 in labels with no true samples. Use `zero_division` parameter to control this behavior.\n",
      "  _warn_prf(average, modifier, f\"{metric.capitalize()} is\", len(result))\n"
     ]
    }
   ],
   "source": [
    "for key in prepro_functions_dict_comb:\n",
    "    print(\"\\n\\n* * * * EVALUATION USING\", key, \"AS PREPROCESSING FUNCTION * * * *\")\n",
    "\n",
    "    train_ds = tf.data.Dataset.from_tensor_slices((X_train_text, y_train)).shuffle(buffer_size=len(train_df), seed=1, reshuffle_each_iteration=False).batch(1).take(200)\n",
    "    test_ds = tf.data.Dataset.from_tensor_slices((X_test_text, y_test)).shuffle(buffer_size=len(test_df), seed=1, reshuffle_each_iteration=False).batch(1).take(50)\n",
    "\n",
    "    # Preprocess training set to build a dictionary.\n",
    "    vectorize_layer = preprocess_and_adapt_ts(prepro_functions_dict_comb[key],train_ds)\n",
    "\n",
    "    train_ds = tf.data.Dataset.from_tensor_slices((X_train_text, y_train)).shuffle(buffer_size=len(train_df), seed=1, reshuffle_each_iteration=False).batch(1).take(200)\n",
    "    print(\"\\n\\n***** FINISHED PROCESSING AND ADAPTING THE TRAINING SET, THE SIMULATION BEGINS *******\")\n",
    "    # Print a raw and a preprocessed sample.\n",
    "    for element in train_ds:\n",
    "      authorDocument=element[0]\n",
    "      label=element[1]\n",
    "      author_batch = tf.expand_dims(authorDocument, 0)\n",
    "\n",
    "      print(\"Sample considered is: \", author_batch)\n",
    "      print(\"Preprocessed: \", str(prepro_functions_dict_comb[key](author_batch.numpy())))\n",
    "      break\n",
    "\n",
    "    train_ds = tf.data.Dataset.from_tensor_slices((X_train_text, y_train)).shuffle(buffer_size=len(train_df), seed=1, reshuffle_each_iteration=False).batch(1).take(200)\n",
    "\n",
    "    model = tf.keras.models.Sequential()\n",
    "    model.add(tf.keras.Input(shape=(1,), dtype=tf.string))\n",
    "    model.add(vectorize_layer)\n",
    "\n",
    "    training_labels=[]\n",
    "    training_samples=[]\n",
    "\n",
    "    max_features=len(vectorize_layer.get_vocabulary()) + 1\n",
    "\n",
    "    for element in train_ds:\n",
    "      authorDocument=element[0]\n",
    "      label=element[1]\n",
    "      author_batch = tf.expand_dims(authorDocument, 0)\n",
    "        \n",
    "      text_vect_out = vectorize_layer(author_batch)\n",
    "\n",
    "      training_labels.append(label.numpy()[0].decode(\"utf-8\"))\n",
    "      current_sample=np.zeros(max_features)\n",
    "      for current_token in text_vect_out[0][:].numpy():\n",
    "        current_sample[current_token]+=1\n",
    "      training_samples.append(current_sample)\n",
    "\n",
    "    training_labels=np.array(training_labels)\n",
    "    training_samples=np.array(training_samples)\n",
    "\n",
    "    test_labels=[]\n",
    "    test_samples=[]\n",
    "\n",
    "    for element in test_ds:\n",
    "      authorDocument=element[0]\n",
    "      label=element[1]\n",
    "      author_batch = tf.expand_dims(authorDocument, 0)\n",
    "\n",
    "      text_vect_out = vectorize_layer(author_batch)\n",
    "\n",
    "      test_labels.append(label.numpy()[0].decode(\"utf-8\"))\n",
    "      current_sample=np.zeros(max_features)\n",
    "      for current_token in text_vect_out[0][:].numpy():\n",
    "        current_sample[current_token]+=1\n",
    "      test_samples.append(current_sample)\n",
    "\n",
    "    test_labels=np.array(test_labels)\n",
    "    test_samples=np.array(test_samples)\n",
    "\n",
    "    models = {\n",
    "        \"NB\": MultinomialNB(),\n",
    "        \"SVM\": LinearSVC(random_state=0, max_iter=5000),\n",
    "        \"LR\": LogisticRegression(random_state=0, max_iter=5000),\n",
    "        \"AdaBoost\": AdaBoostClassifier(random_state=0),\n",
    "        \"XGBoost\": XGBClassifier(random_state=0),\n",
    "        \"RandomForest\": RandomForestClassifier(random_state=0),\n",
    "        \"DecisionTree\": DecisionTreeClassifier(random_state=0)\n",
    "    }\n",
    "\n",
    "    label_encoder = LabelEncoder()\n",
    "    training_labels_enc = label_encoder.fit_transform(training_labels)\n",
    "    test_labels_enc = label_encoder.transform(test_labels)\n",
    "\n",
    "    for name, model in models.items():\n",
    "        model.fit(training_samples, training_labels_enc)\n",
    "        preds = model.predict(test_samples)\n",
    "        \n",
    "        acc = model.score(test_samples, test_labels_enc)\n",
    "        recall = recall_score(test_labels_enc, preds, average='macro')\n",
    "        \n",
    "        model_results[key][name].append(acc)\n",
    "        \n",
    "        print(f\"{name} Accuracy on Test set ->\", acc)\n",
    "        print(f\"{name} Recall on Test set ->\", recall)\n",
    "    "
   ]
  },
  {
   "cell_type": "markdown",
   "id": "1a141e6c-b4ef-4fe2-95d2-9652dd0b9801",
   "metadata": {},
   "source": [
    "# Результаты"
   ]
  },
  {
   "cell_type": "code",
   "execution_count": 11,
   "id": "a1e46a58-d968-429c-90a2-a5553b89ee49",
   "metadata": {},
   "outputs": [
    {
     "name": "stdout",
     "output_type": "stream",
     "text": [
      "PREPRO FUNCTION         | MODEL NAME        | ACCURANCY   \n",
      "------------------------------------------------------------\n",
      "DON                     | NB                | 0.1400\n",
      "DON                     | SVM               | 0.3000\n",
      "DON                     | LR                | 0.2400\n",
      "DON                     | AdaBoost          | 0.0400\n",
      "DON                     | XGBoost           | 0.2200\n",
      "DON                     | RandomForest      | 0.2800\n",
      "DON                     | DecisionTree      | 0.1200\n",
      "------------------------------------------------------------\n",
      "LOW                     | NB                | 0.0800\n",
      "LOW                     | SVM               | 0.2200\n",
      "LOW                     | LR                | 0.1400\n",
      "LOW                     | AdaBoost          | 0.1400\n",
      "LOW                     | XGBoost           | 0.1400\n",
      "LOW                     | RandomForest      | 0.1800\n",
      "LOW                     | DecisionTree      | 0.1800\n",
      "------------------------------------------------------------\n",
      "RSW                     | NB                | 0.2000\n",
      "RSW                     | SVM               | 0.2000\n",
      "RSW                     | LR                | 0.2000\n",
      "RSW                     | AdaBoost          | 0.0400\n",
      "RSW                     | XGBoost           | 0.2200\n",
      "RSW                     | RandomForest      | 0.2400\n",
      "RSW                     | DecisionTree      | 0.1000\n",
      "------------------------------------------------------------\n",
      "STM                     | NB                | 0.0800\n",
      "STM                     | SVM               | 0.1400\n",
      "STM                     | LR                | 0.1800\n",
      "STM                     | AdaBoost          | 0.0800\n",
      "STM                     | XGBoost           | 0.1600\n",
      "STM                     | RandomForest      | 0.1800\n",
      "STM                     | DecisionTree      | 0.1800\n",
      "------------------------------------------------------------\n",
      "LOW_RSW                 | NB                | 0.1800\n",
      "LOW_RSW                 | SVM               | 0.1800\n",
      "LOW_RSW                 | LR                | 0.1800\n",
      "LOW_RSW                 | AdaBoost          | 0.0400\n",
      "LOW_RSW                 | XGBoost           | 0.1400\n",
      "LOW_RSW                 | RandomForest      | 0.2200\n",
      "LOW_RSW                 | DecisionTree      | 0.1400\n",
      "------------------------------------------------------------\n",
      "LOW_STM                 | NB                | 0.0800\n",
      "LOW_STM                 | SVM               | 0.1400\n",
      "LOW_STM                 | LR                | 0.1800\n",
      "LOW_STM                 | AdaBoost          | 0.0800\n",
      "LOW_STM                 | XGBoost           | 0.1600\n",
      "LOW_STM                 | RandomForest      | 0.1800\n",
      "LOW_STM                 | DecisionTree      | 0.1800\n",
      "------------------------------------------------------------\n",
      "RSW_LOW                 | NB                | 0.1400\n",
      "RSW_LOW                 | SVM               | 0.1000\n",
      "RSW_LOW                 | LR                | 0.2200\n",
      "RSW_LOW                 | AdaBoost          | 0.1000\n",
      "RSW_LOW                 | XGBoost           | 0.1200\n",
      "RSW_LOW                 | RandomForest      | 0.2200\n",
      "RSW_LOW                 | DecisionTree      | 0.1400\n",
      "------------------------------------------------------------\n",
      "RSW_STM                 | NB                | 0.1400\n",
      "RSW_STM                 | SVM               | 0.1000\n",
      "RSW_STM                 | LR                | 0.2200\n",
      "RSW_STM                 | AdaBoost          | 0.1000\n",
      "RSW_STM                 | XGBoost           | 0.1200\n",
      "RSW_STM                 | RandomForest      | 0.2200\n",
      "RSW_STM                 | DecisionTree      | 0.1400\n",
      "------------------------------------------------------------\n",
      "STM_LOW                 | NB                | 0.0800\n",
      "STM_LOW                 | SVM               | 0.1400\n",
      "STM_LOW                 | LR                | 0.1800\n",
      "STM_LOW                 | AdaBoost          | 0.0800\n",
      "STM_LOW                 | XGBoost           | 0.1600\n",
      "STM_LOW                 | RandomForest      | 0.1800\n",
      "STM_LOW                 | DecisionTree      | 0.1800\n",
      "------------------------------------------------------------\n",
      "STM_RSW                 | NB                | 0.1800\n",
      "STM_RSW                 | SVM               | 0.1800\n",
      "STM_RSW                 | LR                | 0.1800\n",
      "STM_RSW                 | AdaBoost          | 0.0400\n",
      "STM_RSW                 | XGBoost           | 0.1400\n",
      "STM_RSW                 | RandomForest      | 0.2200\n",
      "STM_RSW                 | DecisionTree      | 0.1400\n",
      "------------------------------------------------------------\n",
      "LOW_STM_RSW             | NB                | 0.1800\n",
      "LOW_STM_RSW             | SVM               | 0.1800\n",
      "LOW_STM_RSW             | LR                | 0.1800\n",
      "LOW_STM_RSW             | AdaBoost          | 0.0400\n",
      "LOW_STM_RSW             | XGBoost           | 0.1400\n",
      "LOW_STM_RSW             | RandomForest      | 0.2200\n",
      "LOW_STM_RSW             | DecisionTree      | 0.1400\n",
      "------------------------------------------------------------\n",
      "LOW_RSW_STM             | NB                | 0.1800\n",
      "LOW_RSW_STM             | SVM               | 0.1800\n",
      "LOW_RSW_STM             | LR                | 0.1800\n",
      "LOW_RSW_STM             | AdaBoost          | 0.0400\n",
      "LOW_RSW_STM             | XGBoost           | 0.1400\n",
      "LOW_RSW_STM             | RandomForest      | 0.2200\n",
      "LOW_RSW_STM             | DecisionTree      | 0.1400\n",
      "------------------------------------------------------------\n",
      "STM_LOW_RSW             | NB                | 0.1800\n",
      "STM_LOW_RSW             | SVM               | 0.1800\n",
      "STM_LOW_RSW             | LR                | 0.1800\n",
      "STM_LOW_RSW             | AdaBoost          | 0.0400\n",
      "STM_LOW_RSW             | XGBoost           | 0.1400\n",
      "STM_LOW_RSW             | RandomForest      | 0.2200\n",
      "STM_LOW_RSW             | DecisionTree      | 0.1400\n",
      "------------------------------------------------------------\n",
      "STM_RSW_LOW             | NB                | 0.1800\n",
      "STM_RSW_LOW             | SVM               | 0.1800\n",
      "STM_RSW_LOW             | LR                | 0.1800\n",
      "STM_RSW_LOW             | AdaBoost          | 0.0400\n",
      "STM_RSW_LOW             | XGBoost           | 0.1400\n",
      "STM_RSW_LOW             | RandomForest      | 0.2200\n",
      "STM_RSW_LOW             | DecisionTree      | 0.1400\n",
      "------------------------------------------------------------\n",
      "RSW_LOW_STM             | NB                | 0.1400\n",
      "RSW_LOW_STM             | SVM               | 0.1000\n",
      "RSW_LOW_STM             | LR                | 0.2200\n",
      "RSW_LOW_STM             | AdaBoost          | 0.1000\n",
      "RSW_LOW_STM             | XGBoost           | 0.1200\n",
      "RSW_LOW_STM             | RandomForest      | 0.2200\n",
      "RSW_LOW_STM             | DecisionTree      | 0.1400\n",
      "------------------------------------------------------------\n",
      "RSW_STM_LOW             | NB                | 0.1400\n",
      "RSW_STM_LOW             | SVM               | 0.1000\n",
      "RSW_STM_LOW             | LR                | 0.2200\n",
      "RSW_STM_LOW             | AdaBoost          | 0.1000\n",
      "RSW_STM_LOW             | XGBoost           | 0.1200\n",
      "RSW_STM_LOW             | RandomForest      | 0.2200\n",
      "RSW_STM_LOW             | DecisionTree      | 0.1400\n",
      "------------------------------------------------------------\n"
     ]
    }
   ],
   "source": [
    "best_result_per_model = {}\n",
    "\n",
    "print(\"PREPRO FUNCTION         | MODEL NAME        | ACCURANCY   \")\n",
    "print(\"-\" * 60)\n",
    "\n",
    "for prepro_func in prepro_functions_dict_comb:\n",
    "    for model_name, scores in model_results[prepro_func].items():\n",
    "        acc = round(scores[-1], 4)\n",
    "        if model_name not in best_result_per_model or acc > best_result_per_model[model_name][1]:\n",
    "            best_result_per_model[model_name] = (prepro_func, acc)\n",
    "        print(f\"{prepro_func:23} | {model_name:17} | {acc:>6.4f}\")\n",
    "    print(\"-\" * 60)"
   ]
  },
  {
   "cell_type": "code",
   "execution_count": 12,
   "id": "8067c5c2-1044-4907-a1ea-27a0947352fb",
   "metadata": {},
   "outputs": [
    {
     "name": "stdout",
     "output_type": "stream",
     "text": [
      "MODEL NAME         | BEST PREPRO FUNCTION   | MAX ACCURACY\n",
      "------------------------------------------------------------\n",
      "NB                 | RSW                    | 0.2000\n",
      "SVM                | DON                    | 0.3000\n",
      "LR                 | DON                    | 0.2400\n",
      "AdaBoost           | LOW                    | 0.1400\n",
      "XGBoost            | DON                    | 0.2200\n",
      "RandomForest       | DON                    | 0.2800\n",
      "DecisionTree       | LOW                    | 0.1800\n"
     ]
    }
   ],
   "source": [
    "print(\"MODEL NAME         | BEST PREPRO FUNCTION   | MAX ACCURACY\")\n",
    "print(\"-\" * 60)\n",
    "for model_name, (best_func, acc) in best_result_per_model.items():\n",
    "    print(f\"{model_name:18} | {best_func:22} | {acc:.4f}\")"
   ]
  },
  {
   "cell_type": "markdown",
   "id": "eb3d2e51-7d99-430b-b755-f97d20efdf1e",
   "metadata": {},
   "source": [
    "# Сохраним результаты в отдельную таблицу"
   ]
  },
  {
   "cell_type": "code",
   "execution_count": 13,
   "id": "47a5d751-82fb-4fa5-a1b2-3481826c3d17",
   "metadata": {},
   "outputs": [],
   "source": [
    "prepo_path = \"../reports/preprocessing_combinations/20newsgroups/\"\n",
    "os.makedirs(prepo_path, exist_ok=True)"
   ]
  },
  {
   "cell_type": "code",
   "execution_count": 14,
   "id": "ae3ad912-6f0b-455f-95f3-edb902d24064",
   "metadata": {},
   "outputs": [],
   "source": [
    "rows = []\n",
    "\n",
    "for prepo_func, model_scores in model_results.items():\n",
    "    for model_name, acc in model_scores.items():\n",
    "        rows.append({\n",
    "            \"prepo_func\": prepo_func,\n",
    "            \"model\": model_name,\n",
    "            \"accuracy\": round(acc[-1], 4)\n",
    "        })\n",
    "\n",
    "df_full = pd.DataFrame(rows)\n",
    "df_full.to_csv(f\"{prepo_path}full.csv\", index=False)"
   ]
  },
  {
   "cell_type": "code",
   "execution_count": 15,
   "id": "4006ce19-f50d-435f-97fe-699ddf3017cb",
   "metadata": {},
   "outputs": [],
   "source": [
    "df_best = pd.DataFrame([\n",
    "    {\"model\": model, \"best_prepo_func\": func, \"max_accuracy\": acc}\n",
    "    for model, (func, acc) in best_result_per_model.items()\n",
    "])\n",
    "df_best.to_csv(f\"{prepo_path}best.csv\", index=False)"
   ]
  },
  {
   "cell_type": "code",
   "execution_count": null,
   "id": "3798db08-5808-4cea-a883-554535a908bc",
   "metadata": {},
   "outputs": [],
   "source": []
  }
 ],
 "metadata": {
  "kernelspec": {
   "display_name": "Python 3 (ipykernel)",
   "language": "python",
   "name": "python3"
  },
  "language_info": {
   "codemirror_mode": {
    "name": "ipython",
    "version": 3
   },
   "file_extension": ".py",
   "mimetype": "text/x-python",
   "name": "python",
   "nbconvert_exporter": "python",
   "pygments_lexer": "ipython3",
   "version": "3.12.7"
  }
 },
 "nbformat": 4,
 "nbformat_minor": 5
}
